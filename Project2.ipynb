{
 "cells": [
  {
   "cell_type": "markdown",
   "metadata": {},
   "source": [
    "**Project 2 - Regression**\n",
    "\n",
    "Authors: Reubén Pérez, José Aveldanes, and Xavier Durham"
   ]
  },
  {
   "cell_type": "markdown",
   "metadata": {},
   "source": [
    "# Tables of Contents\n",
    "\n",
    "### 1 - Data Pre-processing\n",
    "\n",
    "### 2 - The Test-Train-Validation Split\n",
    "\n",
    "### 3 - Training the Data\n",
    "\n",
    "### 4 - Hyperperameter Tuning \n",
    "\n",
    "### 5 - Test Set\n",
    "\n",
    "### 6 - Cross Validation"
   ]
  },
  {
   "cell_type": "markdown",
   "metadata": {},
   "source": [
    "### Dependencies:"
   ]
  },
  {
   "cell_type": "code",
   "execution_count": 1,
   "metadata": {},
   "outputs": [],
   "source": [
    "import pandas as pd \n",
    "import numpy as np\n",
    "from sklearn.preprocessing import LabelBinarizer\n",
    "import matplotlib.pyplot as plt\n",
    "import seaborn as sns\n",
    "import sklearn as sklearn\n",
    "%matplotlib inline\n",
    "from sklearn.model_selection import train_test_split\n",
    "from sklearn.linear_model import Ridge, Lasso, LinearRegression, ElasticNet\n",
    "from sklearn.ensemble import RandomForestRegressor, RandomForestClassifier\n",
    "from sklearn.feature_selection import SelectFromModel\n",
    "from sklearn.model_selection import KFold\n",
    "from sklearn.model_selection import GridSearchCV\n",
    "\n",
    "sns.set_style(\"darkgrid\")"
   ]
  },
  {
   "cell_type": "markdown",
   "metadata": {},
   "source": [
    "## The Data: Diabetes with Population Info by County"
   ]
  },
  {
   "cell_type": "code",
   "execution_count": 2,
   "metadata": {},
   "outputs": [
    {
     "data": {
      "text/html": [
       "<div>\n",
       "<style scoped>\n",
       "    .dataframe tbody tr th:only-of-type {\n",
       "        vertical-align: middle;\n",
       "    }\n",
       "\n",
       "    .dataframe tbody tr th {\n",
       "        vertical-align: top;\n",
       "    }\n",
       "\n",
       "    .dataframe thead th {\n",
       "        text-align: right;\n",
       "    }\n",
       "</style>\n",
       "<table border=\"1\" class=\"dataframe\">\n",
       "  <thead>\n",
       "    <tr style=\"text-align: right;\">\n",
       "      <th></th>\n",
       "      <th>County</th>\n",
       "      <th>State</th>\n",
       "      <th>CountyFIPS</th>\n",
       "      <th>Diabetes_Number</th>\n",
       "      <th>Obesity_Number</th>\n",
       "      <th>Physical_Inactivity_Number</th>\n",
       "      <th>sex and age_total population_65 years and over_sex ratio (males per 100 females)</th>\n",
       "      <th>race_total population</th>\n",
       "      <th>race_total population_one race</th>\n",
       "      <th>race_total population_two or more races</th>\n",
       "      <th>...</th>\n",
       "      <th>sex and age_total population_21 years and over</th>\n",
       "      <th>sex and age_total population_62 years and over</th>\n",
       "      <th>sex and age_total population_65 years and over</th>\n",
       "      <th>sex and age_total population_18 years and over_1</th>\n",
       "      <th>sex and age_total population_18 years and over_male</th>\n",
       "      <th>sex and age_total population_18 years and over_female</th>\n",
       "      <th>sex and age_total population_18 years and over_sex ratio (males per 100 females)</th>\n",
       "      <th>sex and age_total population_65 years and over_1</th>\n",
       "      <th>sex and age_total population_65 years and over_male</th>\n",
       "      <th>sex and age_total population_65 years and over_female</th>\n",
       "    </tr>\n",
       "  </thead>\n",
       "  <tbody>\n",
       "    <tr>\n",
       "      <th>0</th>\n",
       "      <td>Autauga County</td>\n",
       "      <td>Alabama</td>\n",
       "      <td>1001</td>\n",
       "      <td>5178</td>\n",
       "      <td>13489</td>\n",
       "      <td>12525</td>\n",
       "      <td>76.5</td>\n",
       "      <td>55200</td>\n",
       "      <td>54170</td>\n",
       "      <td>1030</td>\n",
       "      <td>...</td>\n",
       "      <td>39614</td>\n",
       "      <td>9403</td>\n",
       "      <td>8050</td>\n",
       "      <td>41831</td>\n",
       "      <td>20054</td>\n",
       "      <td>21777</td>\n",
       "      <td>92.1</td>\n",
       "      <td>8050</td>\n",
       "      <td>3488</td>\n",
       "      <td>4562</td>\n",
       "    </tr>\n",
       "    <tr>\n",
       "      <th>1</th>\n",
       "      <td>Baldwin County</td>\n",
       "      <td>Alabama</td>\n",
       "      <td>1003</td>\n",
       "      <td>16707</td>\n",
       "      <td>48542</td>\n",
       "      <td>40024</td>\n",
       "      <td>86.6</td>\n",
       "      <td>208107</td>\n",
       "      <td>204535</td>\n",
       "      <td>3572</td>\n",
       "      <td>...</td>\n",
       "      <td>155502</td>\n",
       "      <td>49811</td>\n",
       "      <td>40665</td>\n",
       "      <td>162430</td>\n",
       "      <td>78104</td>\n",
       "      <td>84326</td>\n",
       "      <td>92.6</td>\n",
       "      <td>40665</td>\n",
       "      <td>18870</td>\n",
       "      <td>21795</td>\n",
       "    </tr>\n",
       "    <tr>\n",
       "      <th>2</th>\n",
       "      <td>Barbour County</td>\n",
       "      <td>Alabama</td>\n",
       "      <td>1005</td>\n",
       "      <td>3400</td>\n",
       "      <td>8009</td>\n",
       "      <td>5431</td>\n",
       "      <td>76.2</td>\n",
       "      <td>25782</td>\n",
       "      <td>25429</td>\n",
       "      <td>353</td>\n",
       "      <td>...</td>\n",
       "      <td>19394</td>\n",
       "      <td>5658</td>\n",
       "      <td>4634</td>\n",
       "      <td>20346</td>\n",
       "      <td>10923</td>\n",
       "      <td>9423</td>\n",
       "      <td>115.9</td>\n",
       "      <td>4634</td>\n",
       "      <td>2004</td>\n",
       "      <td>2630</td>\n",
       "    </tr>\n",
       "    <tr>\n",
       "      <th>3</th>\n",
       "      <td>Bibb County</td>\n",
       "      <td>Alabama</td>\n",
       "      <td>1007</td>\n",
       "      <td>2371</td>\n",
       "      <td>6534</td>\n",
       "      <td>5827</td>\n",
       "      <td>80.5</td>\n",
       "      <td>22527</td>\n",
       "      <td>22340</td>\n",
       "      <td>187</td>\n",
       "      <td>...</td>\n",
       "      <td>16864</td>\n",
       "      <td>4323</td>\n",
       "      <td>3661</td>\n",
       "      <td>17868</td>\n",
       "      <td>9578</td>\n",
       "      <td>8290</td>\n",
       "      <td>115.5</td>\n",
       "      <td>3661</td>\n",
       "      <td>1633</td>\n",
       "      <td>2028</td>\n",
       "    </tr>\n",
       "    <tr>\n",
       "      <th>4</th>\n",
       "      <td>Blount County</td>\n",
       "      <td>Alabama</td>\n",
       "      <td>1009</td>\n",
       "      <td>6282</td>\n",
       "      <td>14227</td>\n",
       "      <td>14365</td>\n",
       "      <td>79.7</td>\n",
       "      <td>57645</td>\n",
       "      <td>56710</td>\n",
       "      <td>935</td>\n",
       "      <td>...</td>\n",
       "      <td>42232</td>\n",
       "      <td>12400</td>\n",
       "      <td>10233</td>\n",
       "      <td>44177</td>\n",
       "      <td>21595</td>\n",
       "      <td>22582</td>\n",
       "      <td>95.6</td>\n",
       "      <td>10233</td>\n",
       "      <td>4540</td>\n",
       "      <td>5693</td>\n",
       "    </tr>\n",
       "  </tbody>\n",
       "</table>\n",
       "<p>5 rows × 95 columns</p>\n",
       "</div>"
      ],
      "text/plain": [
       "           County    State  CountyFIPS Diabetes_Number Obesity_Number  \\\n",
       "0  Autauga County  Alabama        1001            5178          13489   \n",
       "1  Baldwin County  Alabama        1003           16707          48542   \n",
       "2  Barbour County  Alabama        1005            3400           8009   \n",
       "3     Bibb County  Alabama        1007            2371           6534   \n",
       "4   Blount County  Alabama        1009            6282          14227   \n",
       "\n",
       "  Physical_Inactivity_Number  \\\n",
       "0                      12525   \n",
       "1                      40024   \n",
       "2                       5431   \n",
       "3                       5827   \n",
       "4                      14365   \n",
       "\n",
       "  sex and age_total population_65 years and over_sex ratio (males per 100 females)  \\\n",
       "0                                               76.5                                 \n",
       "1                                               86.6                                 \n",
       "2                                               76.2                                 \n",
       "3                                               80.5                                 \n",
       "4                                               79.7                                 \n",
       "\n",
       "   race_total population  race_total population_one race  \\\n",
       "0                  55200                           54170   \n",
       "1                 208107                          204535   \n",
       "2                  25782                           25429   \n",
       "3                  22527                           22340   \n",
       "4                  57645                           56710   \n",
       "\n",
       "   race_total population_two or more races  ...  \\\n",
       "0                                     1030  ...   \n",
       "1                                     3572  ...   \n",
       "2                                      353  ...   \n",
       "3                                      187  ...   \n",
       "4                                      935  ...   \n",
       "\n",
       "   sex and age_total population_21 years and over  \\\n",
       "0                                           39614   \n",
       "1                                          155502   \n",
       "2                                           19394   \n",
       "3                                           16864   \n",
       "4                                           42232   \n",
       "\n",
       "   sex and age_total population_62 years and over  \\\n",
       "0                                            9403   \n",
       "1                                           49811   \n",
       "2                                            5658   \n",
       "3                                            4323   \n",
       "4                                           12400   \n",
       "\n",
       "   sex and age_total population_65 years and over  \\\n",
       "0                                            8050   \n",
       "1                                           40665   \n",
       "2                                            4634   \n",
       "3                                            3661   \n",
       "4                                           10233   \n",
       "\n",
       "   sex and age_total population_18 years and over_1  \\\n",
       "0                                             41831   \n",
       "1                                            162430   \n",
       "2                                             20346   \n",
       "3                                             17868   \n",
       "4                                             44177   \n",
       "\n",
       "   sex and age_total population_18 years and over_male  \\\n",
       "0                                              20054     \n",
       "1                                              78104     \n",
       "2                                              10923     \n",
       "3                                               9578     \n",
       "4                                              21595     \n",
       "\n",
       "   sex and age_total population_18 years and over_female  \\\n",
       "0                                              21777       \n",
       "1                                              84326       \n",
       "2                                               9423       \n",
       "3                                               8290       \n",
       "4                                              22582       \n",
       "\n",
       "   sex and age_total population_18 years and over_sex ratio (males per 100 females)  \\\n",
       "0                                               92.1                                  \n",
       "1                                               92.6                                  \n",
       "2                                              115.9                                  \n",
       "3                                              115.5                                  \n",
       "4                                               95.6                                  \n",
       "\n",
       "   sex and age_total population_65 years and over_1  \\\n",
       "0                                              8050   \n",
       "1                                             40665   \n",
       "2                                              4634   \n",
       "3                                              3661   \n",
       "4                                             10233   \n",
       "\n",
       "   sex and age_total population_65 years and over_male  \\\n",
       "0                                               3488     \n",
       "1                                              18870     \n",
       "2                                               2004     \n",
       "3                                               1633     \n",
       "4                                               4540     \n",
       "\n",
       "   sex and age_total population_65 years and over_female  \n",
       "0                                               4562      \n",
       "1                                              21795      \n",
       "2                                               2630      \n",
       "3                                               2028      \n",
       "4                                               5693      \n",
       "\n",
       "[5 rows x 95 columns]"
      ]
     },
     "execution_count": 2,
     "metadata": {},
     "output_type": "execute_result"
    }
   ],
   "source": [
    "# Create a list of column names found in db.info \n",
    "\n",
    "db=pd.read_csv ('/Users/Reubenperez/Documents/GitHub/Computational-Social-Science-Training-Program-master/Computational-Social-Science-Projects/Poject_2/CSS_Project_2_Team_4_Fall_2020/Data/Diabetes.csv')\n",
    "db.head()"
   ]
  },
  {
   "cell_type": "markdown",
   "metadata": {},
   "source": [
    "# 1. Data Pre-processing"
   ]
  },
  {
   "cell_type": "markdown",
   "metadata": {},
   "source": [
    "First, Let's make a copy of the Data"
   ]
  },
  {
   "cell_type": "code",
   "execution_count": 3,
   "metadata": {},
   "outputs": [],
   "source": [
    "db2 = db.copy()"
   ]
  },
  {
   "cell_type": "code",
   "execution_count": 4,
   "metadata": {},
   "outputs": [
    {
     "name": "stdout",
     "output_type": "stream",
     "text": [
      "<class 'pandas.core.frame.DataFrame'>\n",
      "RangeIndex: 3220 entries, 0 to 3219\n",
      "Data columns (total 95 columns):\n",
      " #   Column                                                                                                                                                Non-Null Count  Dtype  \n",
      "---  ------                                                                                                                                                --------------  -----  \n",
      " 0   County                                                                                                                                                3220 non-null   object \n",
      " 1   State                                                                                                                                                 3220 non-null   object \n",
      " 2   CountyFIPS                                                                                                                                            3220 non-null   int64  \n",
      " 3   Diabetes_Number                                                                                                                                       3220 non-null   object \n",
      " 4   Obesity_Number                                                                                                                                        3220 non-null   object \n",
      " 5   Physical_Inactivity_Number                                                                                                                            3220 non-null   object \n",
      " 6   sex and age_total population_65 years and over_sex ratio (males per 100 females)                                                                      3220 non-null   object \n",
      " 7   race_total population                                                                                                                                 3220 non-null   int64  \n",
      " 8   race_total population_one race                                                                                                                        3220 non-null   int64  \n",
      " 9   race_total population_two or more races                                                                                                               3220 non-null   int64  \n",
      " 10  race_total population_one race_1                                                                                                                      3220 non-null   int64  \n",
      " 11  race_total population_one race_white                                                                                                                  3220 non-null   int64  \n",
      " 12  race_total population_one race_black or african american                                                                                              3220 non-null   int64  \n",
      " 13  race_total population_one race_american indian and alaska native                                                                                      3220 non-null   int64  \n",
      " 14  race_total population_one race_american indian and alaska native_cherokee tribal grouping                                                             3220 non-null   int64  \n",
      " 15  race_total population_one race_american indian and alaska native_chippewa tribal grouping                                                             3220 non-null   int64  \n",
      " 16  race_total population_one race_american indian and alaska native_navajo tribal grouping                                                               3220 non-null   int64  \n",
      " 17  race_total population_one race_american indian and alaska native_sioux tribal grouping                                                                3220 non-null   int64  \n",
      " 18  race_total population_one race_asian                                                                                                                  3220 non-null   int64  \n",
      " 19  race_total population_one race_asian_asian indian                                                                                                     3220 non-null   int64  \n",
      " 20  race_total population_one race_asian_chinese                                                                                                          3220 non-null   int64  \n",
      " 21  race_total population_one race_asian_filipino                                                                                                         3220 non-null   int64  \n",
      " 22  race_total population_one race_asian_japanese                                                                                                         3220 non-null   int64  \n",
      " 23  race_total population_one race_asian_korean                                                                                                           3220 non-null   int64  \n",
      " 24  race_total population_one race_asian_vietnamese                                                                                                       3220 non-null   int64  \n",
      " 25  race_total population_one race_asian_other asian                                                                                                      3220 non-null   int64  \n",
      " 26  race_total population_one race_native hawaiian and other pacific islander                                                                             3220 non-null   int64  \n",
      " 27  race_total population_one race_native hawaiian and other pacific islander_native hawaiian                                                             3220 non-null   int64  \n",
      " 28  race_total population_one race_native hawaiian and other pacific islander_guamanian or chamorro                                                       3220 non-null   int64  \n",
      " 29  race_total population_one race_native hawaiian and other pacific islander_samoan                                                                      3220 non-null   int64  \n",
      " 30  race_total population_one race_native hawaiian and other pacific islander_other pacific islander                                                      3220 non-null   int64  \n",
      " 31  race_total population_one race_some other race                                                                                                        3220 non-null   int64  \n",
      " 32  race_total population_two or more races_1                                                                                                             3220 non-null   int64  \n",
      " 33  race_total population_two or more races_white and black or african american                                                                           3220 non-null   int64  \n",
      " 34  race_total population_two or more races_white and american indian and alaska native                                                                   3220 non-null   int64  \n",
      " 35  race_total population_two or more races_white and asian                                                                                               3220 non-null   int64  \n",
      " 36  race_total population_two or more races_black or african american and american indian and alaska native                                               3220 non-null   int64  \n",
      " 37  race alone or in combination with one or more other races_total population                                                                            3220 non-null   int64  \n",
      " 38  race alone or in combination with one or more other races_total population_white                                                                      3220 non-null   int64  \n",
      " 39  race alone or in combination with one or more other races_total population_black or african american                                                  3220 non-null   int64  \n",
      " 40  race alone or in combination with one or more other races_total population_american indian and alaska native                                          3220 non-null   int64  \n",
      " 41  race alone or in combination with one or more other races_total population_asian                                                                      3220 non-null   int64  \n",
      " 42  race alone or in combination with one or more other races_total population_native hawaiian and other pacific islander                                 3220 non-null   int64  \n",
      " 43  race alone or in combination with one or more other races_total population_some other race                                                            3220 non-null   int64  \n",
      " 44  hispanic or latino and race_total population                                                                                                          3220 non-null   int64  \n",
      " 45  hispanic or latino and race_total population_hispanic or latino (of any race)                                                                         3220 non-null   int64  \n",
      " 46  hispanic or latino and race_total population_hispanic or latino (of any race)_mexican                                                                 3220 non-null   int64  \n",
      " 47  hispanic or latino and race_total population_hispanic or latino (of any race)_puerto rican                                                            3220 non-null   int64  \n",
      " 48  hispanic or latino and race_total population_hispanic or latino (of any race)_cuban                                                                   3220 non-null   int64  \n",
      " 49  hispanic or latino and race_total population_hispanic or latino (of any race)_other hispanic or latino                                                3220 non-null   int64  \n",
      " 50  hispanic or latino and race_total population_not hispanic or latino                                                                                   3220 non-null   int64  \n",
      " 51  hispanic or latino and race_total population_not hispanic or latino_white alone                                                                       3220 non-null   int64  \n",
      " 52  hispanic or latino and race_total population_not hispanic or latino_black or african american alone                                                   3220 non-null   int64  \n",
      " 53  hispanic or latino and race_total population_not hispanic or latino_american indian and alaska native alone                                           3220 non-null   int64  \n",
      " 54  hispanic or latino and race_total population_not hispanic or latino_asian alone                                                                       3220 non-null   int64  \n",
      " 55  hispanic or latino and race_total population_not hispanic or latino_native hawaiian and other pacific islander alone                                  3220 non-null   int64  \n",
      " 56  hispanic or latino and race_total population_not hispanic or latino_some other race alone                                                             3220 non-null   int64  \n",
      " 57  hispanic or latino and race_total population_not hispanic or latino_two or more races                                                                 3220 non-null   int64  \n",
      " 58  hispanic or latino and race_total population_not hispanic or latino_two or more races_two races including some other race                             3220 non-null   int64  \n",
      " 59  hispanic or latino and race_total population_not hispanic or latino_two or more races_two races excluding some other race -  and three or more races  3220 non-null   int64  \n",
      " 60  total housing units                                                                                                                                   3220 non-null   int64  \n",
      " 61  citizen -  voting age population_citizen -  18 and over population                                                                                    3220 non-null   int64  \n",
      " 62  citizen -  voting age population_citizen -  18 and over population_male                                                                               3220 non-null   int64  \n",
      " 63  citizen -  voting age population_citizen -  18 and over population_female                                                                             3220 non-null   int64  \n",
      " 64  sex and age_total population                                                                                                                          3220 non-null   int64  \n",
      " 65  sex and age_total population_male                                                                                                                     3220 non-null   int64  \n",
      " 66  sex and age_total population_female                                                                                                                   3220 non-null   int64  \n",
      " 67  sex and age_total population_sex ratio (males per 100 females)                                                                                        3220 non-null   float64\n",
      " 68  sex and age_total population_under 5 years                                                                                                            3220 non-null   int64  \n",
      " 69  sex and age_total population_5 to 9 years                                                                                                             3220 non-null   int64  \n",
      " 70  sex and age_total population_10 to 14 years                                                                                                           3220 non-null   int64  \n",
      " 71  sex and age_total population_15 to 19 years                                                                                                           3220 non-null   int64  \n",
      " 72  sex and age_total population_20 to 24 years                                                                                                           3220 non-null   int64  \n",
      " 73  sex and age_total population_25 to 34 years                                                                                                           3220 non-null   int64  \n",
      " 74  sex and age_total population_35 to 44 years                                                                                                           3220 non-null   int64  \n",
      " 75  sex and age_total population_45 to 54 years                                                                                                           3220 non-null   int64  \n",
      " 76  sex and age_total population_55 to 59 years                                                                                                           3220 non-null   int64  \n",
      " 77  sex and age_total population_60 to 64 years                                                                                                           3220 non-null   int64  \n",
      " 78  sex and age_total population_65 to 74 years                                                                                                           3220 non-null   int64  \n",
      " 79  sex and age_total population_75 to 84 years                                                                                                           3220 non-null   int64  \n",
      " 80  sex and age_total population_85 years and over                                                                                                        3220 non-null   int64  \n",
      " 81  sex and age_total population_median age (years)                                                                                                       3220 non-null   float64\n",
      " 82  sex and age_total population_under 18 years                                                                                                           3220 non-null   int64  \n",
      " 83  sex and age_total population_16 years and over                                                                                                        3220 non-null   int64  \n",
      " 84  sex and age_total population_18 years and over                                                                                                        3220 non-null   int64  \n",
      " 85  sex and age_total population_21 years and over                                                                                                        3220 non-null   int64  \n",
      " 86  sex and age_total population_62 years and over                                                                                                        3220 non-null   int64  \n",
      " 87  sex and age_total population_65 years and over                                                                                                        3220 non-null   int64  \n",
      " 88  sex and age_total population_18 years and over_1                                                                                                      3220 non-null   int64  \n",
      " 89  sex and age_total population_18 years and over_male                                                                                                   3220 non-null   int64  \n",
      " 90  sex and age_total population_18 years and over_female                                                                                                 3220 non-null   int64  \n",
      " 91  sex and age_total population_18 years and over_sex ratio (males per 100 females)                                                                      3220 non-null   float64\n",
      " 92  sex and age_total population_65 years and over_1                                                                                                      3220 non-null   int64  \n",
      " 93  sex and age_total population_65 years and over_male                                                                                                   3220 non-null   int64  \n",
      " 94  sex and age_total population_65 years and over_female                                                                                                 3220 non-null   int64  \n",
      "dtypes: float64(3), int64(86), object(6)\n",
      "memory usage: 2.3+ MB\n"
     ]
    }
   ],
   "source": [
    "db2.info()"
   ]
  },
  {
   "cell_type": "markdown",
   "metadata": {},
   "source": [
    "Now, we have to deal with missing data in the objects before we can move on to visualization so:"
   ]
  },
  {
   "cell_type": "code",
   "execution_count": 5,
   "metadata": {},
   "outputs": [
    {
     "name": "stdout",
     "output_type": "stream",
     "text": [
      "2751 Suppressed\n",
      "2311 No Data\n",
      "2312 No Data\n",
      "2313 No Data\n",
      "2314 No Data\n",
      "2315 No Data\n",
      "2316 No Data\n",
      "2317 No Data\n",
      "2318 No Data\n",
      "2319 No Data\n",
      "2320 No Data\n",
      "2321 No Data\n",
      "2322 No Data\n",
      "2323 No Data\n",
      "2324 No Data\n",
      "2325 No Data\n",
      "2326 No Data\n",
      "2327 No Data\n",
      "2328 No Data\n",
      "2329 No Data\n",
      "2330 No Data\n",
      "2331 No Data\n",
      "2332 No Data\n",
      "2333 No Data\n",
      "2334 No Data\n",
      "2335 No Data\n",
      "2336 No Data\n",
      "2337 No Data\n",
      "2338 No Data\n",
      "2339 No Data\n",
      "2340 No Data\n",
      "2341 No Data\n",
      "2342 No Data\n",
      "2343 No Data\n",
      "2344 No Data\n",
      "2345 No Data\n",
      "2346 No Data\n",
      "2347 No Data\n",
      "2348 No Data\n",
      "2349 No Data\n",
      "2350 No Data\n",
      "2351 No Data\n",
      "2352 No Data\n",
      "2353 No Data\n",
      "2354 No Data\n",
      "2355 No Data\n",
      "2356 No Data\n",
      "2357 No Data\n",
      "2358 No Data\n",
      "2359 No Data\n",
      "2360 No Data\n",
      "2361 No Data\n",
      "2362 No Data\n",
      "2363 No Data\n",
      "2364 No Data\n",
      "2365 No Data\n",
      "2366 No Data\n",
      "2367 No Data\n",
      "2368 No Data\n",
      "2369 No Data\n",
      "2370 No Data\n",
      "2371 No Data\n",
      "2372 No Data\n",
      "2373 No Data\n",
      "2374 No Data\n",
      "2375 No Data\n",
      "2376 No Data\n",
      "2377 No Data\n",
      "2378 No Data\n",
      "2379 No Data\n",
      "2380 No Data\n",
      "2381 No Data\n",
      "2382 No Data\n",
      "2383 No Data\n",
      "2384 No Data\n",
      "2385 No Data\n",
      "2386 No Data\n",
      "2387 No Data\n",
      "2388 No Data\n",
      "2311 No Data\n",
      "2312 No Data\n",
      "2313 No Data\n",
      "2314 No Data\n",
      "2315 No Data\n",
      "2316 No Data\n",
      "2317 No Data\n",
      "2318 No Data\n",
      "2319 No Data\n",
      "2320 No Data\n",
      "2321 No Data\n",
      "2322 No Data\n",
      "2323 No Data\n",
      "2324 No Data\n",
      "2325 No Data\n",
      "2326 No Data\n",
      "2327 No Data\n",
      "2328 No Data\n",
      "2329 No Data\n",
      "2330 No Data\n",
      "2331 No Data\n",
      "2332 No Data\n",
      "2333 No Data\n",
      "2334 No Data\n",
      "2335 No Data\n",
      "2336 No Data\n",
      "2337 No Data\n",
      "2338 No Data\n",
      "2339 No Data\n",
      "2340 No Data\n",
      "2341 No Data\n",
      "2342 No Data\n",
      "2343 No Data\n",
      "2344 No Data\n",
      "2345 No Data\n",
      "2346 No Data\n",
      "2347 No Data\n",
      "2348 No Data\n",
      "2349 No Data\n",
      "2350 No Data\n",
      "2351 No Data\n",
      "2352 No Data\n",
      "2353 No Data\n",
      "2354 No Data\n",
      "2355 No Data\n",
      "2356 No Data\n",
      "2357 No Data\n",
      "2358 No Data\n",
      "2359 No Data\n",
      "2360 No Data\n",
      "2361 No Data\n",
      "2362 No Data\n",
      "2363 No Data\n",
      "2364 No Data\n",
      "2365 No Data\n",
      "2366 No Data\n",
      "2367 No Data\n",
      "2368 No Data\n",
      "2369 No Data\n",
      "2370 No Data\n",
      "2371 No Data\n",
      "2372 No Data\n",
      "2373 No Data\n",
      "2374 No Data\n",
      "2375 No Data\n",
      "2376 No Data\n",
      "2377 No Data\n",
      "2378 No Data\n",
      "2379 No Data\n",
      "2380 No Data\n",
      "2381 No Data\n",
      "2382 No Data\n",
      "2383 No Data\n",
      "2384 No Data\n",
      "2385 No Data\n",
      "2386 No Data\n",
      "2387 No Data\n",
      "2388 No Data\n"
     ]
    }
   ],
   "source": [
    " for category in [\"Diabetes_Number\", \"Obesity_Number\", \"Physical_Inactivity_Number\"]:\n",
    "    replacement = np.nan\n",
    "    for i in range(len(db2.loc[:,category])):\n",
    "        try:\n",
    "            db2.loc[i,category] = int(db2.loc[i,category])\n",
    "        except:\n",
    "            print(i, db2.loc[i,category])\n",
    "            db2.loc[i,category] = replacement"
   ]
  },
  {
   "cell_type": "markdown",
   "metadata": {},
   "source": [
    "Here we replace NaN with 0 so that Python can interpret this correctly"
   ]
  },
  {
   "cell_type": "code",
   "execution_count": 6,
   "metadata": {},
   "outputs": [],
   "source": [
    "db2=db2.replace(np.nan,0)"
   ]
  },
  {
   "cell_type": "markdown",
   "metadata": {},
   "source": [
    "Now that we have dealt with the NaN we can move on to converting our columns into integers for analysis"
   ]
  },
  {
   "cell_type": "code",
   "execution_count": 7,
   "metadata": {},
   "outputs": [],
   "source": [
    " db2.iloc[:,2:5] = db2.iloc[:,2:5].astype(int)"
   ]
  },
  {
   "cell_type": "code",
   "execution_count": 8,
   "metadata": {},
   "outputs": [
    {
     "data": {
      "text/plain": [
       "County                                                                               object\n",
       "State                                                                                object\n",
       "CountyFIPS                                                                            int64\n",
       "Diabetes_Number                                                                       int64\n",
       "Obesity_Number                                                                        int64\n",
       "                                                                                     ...   \n",
       "sex and age_total population_18 years and over_female                                 int64\n",
       "sex and age_total population_18 years and over_sex ratio (males per 100 females)    float64\n",
       "sex and age_total population_65 years and over_1                                      int64\n",
       "sex and age_total population_65 years and over_male                                   int64\n",
       "sex and age_total population_65 years and over_female                                 int64\n",
       "Length: 95, dtype: object"
      ]
     },
     "execution_count": 8,
     "metadata": {},
     "output_type": "execute_result"
    }
   ],
   "source": [
    "db2.dtypes"
   ]
  },
  {
   "cell_type": "markdown",
   "metadata": {},
   "source": [
    "Finally, we are going to take a quick glance at our columns (or features) and drop the ones that we will not use in the analysis"
   ]
  },
  {
   "cell_type": "code",
   "execution_count": 8,
   "metadata": {
    "scrolled": false
   },
   "outputs": [
    {
     "data": {
      "text/plain": [
       "Index(['County', 'State', 'CountyFIPS', 'Diabetes_Number', 'Obesity_Number',\n",
       "       'Physical_Inactivity_Number',\n",
       "       'sex and age_total population_65 years and over_sex ratio (males per 100 females)',\n",
       "       'race_total population', 'race_total population_one race',\n",
       "       'race_total population_two or more races',\n",
       "       'race_total population_one race_1',\n",
       "       'race_total population_one race_white',\n",
       "       'race_total population_one race_black or african american',\n",
       "       'race_total population_one race_american indian and alaska native',\n",
       "       'race_total population_one race_american indian and alaska native_cherokee tribal grouping',\n",
       "       'race_total population_one race_american indian and alaska native_chippewa tribal grouping',\n",
       "       'race_total population_one race_american indian and alaska native_navajo tribal grouping',\n",
       "       'race_total population_one race_american indian and alaska native_sioux tribal grouping',\n",
       "       'race_total population_one race_asian',\n",
       "       'race_total population_one race_asian_asian indian',\n",
       "       'race_total population_one race_asian_chinese',\n",
       "       'race_total population_one race_asian_filipino',\n",
       "       'race_total population_one race_asian_japanese',\n",
       "       'race_total population_one race_asian_korean',\n",
       "       'race_total population_one race_asian_vietnamese',\n",
       "       'race_total population_one race_asian_other asian',\n",
       "       'race_total population_one race_native hawaiian and other pacific islander',\n",
       "       'race_total population_one race_native hawaiian and other pacific islander_native hawaiian',\n",
       "       'race_total population_one race_native hawaiian and other pacific islander_guamanian or chamorro',\n",
       "       'race_total population_one race_native hawaiian and other pacific islander_samoan',\n",
       "       'race_total population_one race_native hawaiian and other pacific islander_other pacific islander',\n",
       "       'race_total population_one race_some other race',\n",
       "       'race_total population_two or more races_1',\n",
       "       'race_total population_two or more races_white and black or african american',\n",
       "       'race_total population_two or more races_white and american indian and alaska native',\n",
       "       'race_total population_two or more races_white and asian',\n",
       "       'race_total population_two or more races_black or african american and american indian and alaska native',\n",
       "       'race alone or in combination with one or more other races_total population',\n",
       "       'race alone or in combination with one or more other races_total population_white',\n",
       "       'race alone or in combination with one or more other races_total population_black or african american',\n",
       "       'race alone or in combination with one or more other races_total population_american indian and alaska native',\n",
       "       'race alone or in combination with one or more other races_total population_asian',\n",
       "       'race alone or in combination with one or more other races_total population_native hawaiian and other pacific islander',\n",
       "       'race alone or in combination with one or more other races_total population_some other race',\n",
       "       'hispanic or latino and race_total population',\n",
       "       'hispanic or latino and race_total population_hispanic or latino (of any race)',\n",
       "       'hispanic or latino and race_total population_hispanic or latino (of any race)_mexican',\n",
       "       'hispanic or latino and race_total population_hispanic or latino (of any race)_puerto rican',\n",
       "       'hispanic or latino and race_total population_hispanic or latino (of any race)_cuban',\n",
       "       'hispanic or latino and race_total population_hispanic or latino (of any race)_other hispanic or latino',\n",
       "       'hispanic or latino and race_total population_not hispanic or latino',\n",
       "       'hispanic or latino and race_total population_not hispanic or latino_white alone',\n",
       "       'hispanic or latino and race_total population_not hispanic or latino_black or african american alone',\n",
       "       'hispanic or latino and race_total population_not hispanic or latino_american indian and alaska native alone',\n",
       "       'hispanic or latino and race_total population_not hispanic or latino_asian alone',\n",
       "       'hispanic or latino and race_total population_not hispanic or latino_native hawaiian and other pacific islander alone',\n",
       "       'hispanic or latino and race_total population_not hispanic or latino_some other race alone',\n",
       "       'hispanic or latino and race_total population_not hispanic or latino_two or more races',\n",
       "       'hispanic or latino and race_total population_not hispanic or latino_two or more races_two races including some other race',\n",
       "       'hispanic or latino and race_total population_not hispanic or latino_two or more races_two races excluding some other race -  and three or more races',\n",
       "       'total housing units',\n",
       "       'citizen -  voting age population_citizen -  18 and over population',\n",
       "       'citizen -  voting age population_citizen -  18 and over population_male',\n",
       "       'citizen -  voting age population_citizen -  18 and over population_female',\n",
       "       'sex and age_total population', 'sex and age_total population_male',\n",
       "       'sex and age_total population_female',\n",
       "       'sex and age_total population_sex ratio (males per 100 females)',\n",
       "       'sex and age_total population_under 5 years',\n",
       "       'sex and age_total population_5 to 9 years',\n",
       "       'sex and age_total population_10 to 14 years',\n",
       "       'sex and age_total population_15 to 19 years',\n",
       "       'sex and age_total population_20 to 24 years',\n",
       "       'sex and age_total population_25 to 34 years',\n",
       "       'sex and age_total population_35 to 44 years',\n",
       "       'sex and age_total population_45 to 54 years',\n",
       "       'sex and age_total population_55 to 59 years',\n",
       "       'sex and age_total population_60 to 64 years',\n",
       "       'sex and age_total population_65 to 74 years',\n",
       "       'sex and age_total population_75 to 84 years',\n",
       "       'sex and age_total population_85 years and over',\n",
       "       'sex and age_total population_median age (years)',\n",
       "       'sex and age_total population_under 18 years',\n",
       "       'sex and age_total population_16 years and over',\n",
       "       'sex and age_total population_18 years and over',\n",
       "       'sex and age_total population_21 years and over',\n",
       "       'sex and age_total population_62 years and over',\n",
       "       'sex and age_total population_65 years and over',\n",
       "       'sex and age_total population_18 years and over_1',\n",
       "       'sex and age_total population_18 years and over_male',\n",
       "       'sex and age_total population_18 years and over_female',\n",
       "       'sex and age_total population_18 years and over_sex ratio (males per 100 females)',\n",
       "       'sex and age_total population_65 years and over_1',\n",
       "       'sex and age_total population_65 years and over_male',\n",
       "       'sex and age_total population_65 years and over_female'],\n",
       "      dtype='object')"
      ]
     },
     "execution_count": 8,
     "metadata": {},
     "output_type": "execute_result"
    }
   ],
   "source": [
    "#First, let's take a look at our columns\n",
    "columns = db2.columns\n",
    "\n",
    "#Print\n",
    "columns\n"
   ]
  },
  {
   "cell_type": "markdown",
   "metadata": {},
   "source": [
    "Drop Features/Columns that I want for analysis"
   ]
  },
  {
   "cell_type": "code",
   "execution_count": 9,
   "metadata": {},
   "outputs": [],
   "source": [
    "#Drop columns that we don't need \n",
    "cols = [0,1,6,61,62,63,64,67,81,82,83,84,85,86,87,88,89,90,91,92,93,94] \n",
    "db2.drop(db2.columns[cols],axis=1,inplace=True)"
   ]
  },
  {
   "cell_type": "markdown",
   "metadata": {},
   "source": [
    "## 1.1 Visualizations"
   ]
  },
  {
   "cell_type": "markdown",
   "metadata": {},
   "source": [
    "Now let's do some visualization with some feartures of interest"
   ]
  },
  {
   "cell_type": "code",
   "execution_count": 11,
   "metadata": {},
   "outputs": [
    {
     "data": {
      "text/plain": [
       "<matplotlib.axes._subplots.AxesSubplot at 0x7fae1226a150>"
      ]
     },
     "execution_count": 11,
     "metadata": {},
     "output_type": "execute_result"
    },
    {
     "data": {
      "image/png": "[encoded data removed]",
      "text/plain": [
       "<Figure size 432x288 with 1 Axes>"
      ]
     },
     "metadata": {
      "needs_background": "light"
     },
     "output_type": "display_data"
    }
   ],
   "source": [
    "#Regression Plot: Gender (men) and Obesity Number\n",
    "sns.regplot(x='sex and age_total population_male', y='Obesity_Number', data=db2)"
   ]
  },
  {
   "cell_type": "code",
   "execution_count": 63,
   "metadata": {},
   "outputs": [
    {
     "data": {
      "text/plain": [
       "<matplotlib.axes._subplots.AxesSubplot at 0x7fb50a075510>"
      ]
     },
     "execution_count": 63,
     "metadata": {},
     "output_type": "execute_result"
    },
    {
     "data": {
      "image/png": "[encoded data removed]",
      "text/plain": [
       "<Figure size 432x288 with 1 Axes>"
      ]
     },
     "metadata": {
      "needs_background": "light"
     },
     "output_type": "display_data"
    }
   ],
   "source": [
    "#Regression Plot: Gender (women) and Obesity Number\n",
    "sns.regplot(x='sex and age_total population_female', y='Obesity_Number', data=db2)"
   ]
  },
  {
   "cell_type": "code",
   "execution_count": 64,
   "metadata": {},
   "outputs": [
    {
     "data": {
      "text/plain": [
       "<matplotlib.axes._subplots.AxesSubplot at 0x7fb50a075590>"
      ]
     },
     "execution_count": 64,
     "metadata": {},
     "output_type": "execute_result"
    },
    {
     "data": {
      "image/png": "[encoded data removed]",
      "text/plain": [
       "<Figure size 432x288 with 1 Axes>"
      ]
     },
     "metadata": {
      "needs_background": "light"
     },
     "output_type": "display_data"
    }
   ],
   "source": [
    "#Regression Plot: Race (Black) and Obesity Number\n",
    "sns.regplot(x='race_total population_one race_black or african american', y='Obesity_Number', data=db2)"
   ]
  },
  {
   "cell_type": "code",
   "execution_count": 65,
   "metadata": {},
   "outputs": [
    {
     "data": {
      "text/plain": [
       "<matplotlib.axes._subplots.AxesSubplot at 0x7fb50a17fd10>"
      ]
     },
     "execution_count": 65,
     "metadata": {},
     "output_type": "execute_result"
    },
    {
     "data": {
      "image/png": "[encoded data removed]",
      "text/plain": [
       "<Figure size 432x288 with 1 Axes>"
      ]
     },
     "metadata": {
      "needs_background": "light"
     },
     "output_type": "display_data"
    }
   ],
   "source": [
    "#Regression Plot: Race (white) and Obesity Number\n",
    "sns.regplot(x='race_total population_one race_white', y='Obesity_Number', data=db2)"
   ]
  },
  {
   "cell_type": "code",
   "execution_count": 66,
   "metadata": {},
   "outputs": [
    {
     "data": {
      "text/plain": [
       "<matplotlib.axes._subplots.AxesSubplot at 0x7fb50a22ddd0>"
      ]
     },
     "execution_count": 66,
     "metadata": {},
     "output_type": "execute_result"
    },
    {
     "data": {
      "image/png": "[encoded data removed]",
      "text/plain": [
       "<Figure size 432x288 with 1 Axes>"
      ]
     },
     "metadata": {
      "needs_background": "light"
     },
     "output_type": "display_data"
    }
   ],
   "source": [
    "#Regression Plot: Race (Asian) and Obesity Number\n",
    "sns.regplot(x='race_total population_one race_asian', y='Obesity_Number', data=db2)"
   ]
  },
  {
   "cell_type": "code",
   "execution_count": 61,
   "metadata": {},
   "outputs": [
    {
     "data": {
      "text/plain": [
       "Text(0.5, 1.0, 'Histogram of Obesity Number and Diabetes Number')"
      ]
     },
     "execution_count": 61,
     "metadata": {},
     "output_type": "execute_result"
    },
    {
     "data": {
      "image/png": "[encoded data removed]",
      "text/plain": [
       "<Figure size 432x288 with 1 Axes>"
      ]
     },
     "metadata": {
      "needs_background": "light"
     },
     "output_type": "display_data"
    }
   ],
   "source": [
    "# Method 1: on the same Axis\n",
    "plt.xlim(0, 40000)\n",
    "plt.hist( db2[\"Diabetes_Number\"] , bins=500, label=\"Diabetes Number\", alpha =.4)\n",
    "plt.hist( db2[\"Obesity_Number\"] , bins=500, label=\"Obesity Number\", alpha =.3)\n",
    "plt.legend(loc= 'best')\n",
    "plt.xlabel(\"Data\", size=14)\n",
    "plt.ylabel(\"Count\", size=14)\n",
    "plt.title(\"Histogram of Obesity Number and Diabetes Number\")"
   ]
  },
  {
   "cell_type": "code",
   "execution_count": 62,
   "metadata": {
    "scrolled": true
   },
   "outputs": [
    {
     "data": {
      "text/plain": [
       "<matplotlib.legend.Legend at 0x7fb507e3a6d0>"
      ]
     },
     "execution_count": 62,
     "metadata": {},
     "output_type": "execute_result"
    },
    {
     "data": {
      "image/png": "[encoded data removed]",
      "text/plain": [
       "<Figure size 432x288 with 1 Axes>"
      ]
     },
     "metadata": {
      "needs_background": "light"
     },
     "output_type": "display_data"
    }
   ],
   "source": [
    "# Method 1: on the same Axis\n",
    "plt.xlim(0, 60000)\n",
    "plt.hist( db2['hispanic or latino and race_total population_hispanic or latino (of any race)'] , bins=500, label= 'Hispanic', alpha =.5)\n",
    "plt.hist( db2['race_total population_one race_black or african american'] , bins=500, label='Black', alpha =.5)\n",
    "plt.hist( db2['race_total population_one race_white'] , bins=500, label='White', alpha =.5)\n",
    "plt.xlabel(\"Data\", size=14)\n",
    "plt.ylabel(\"Count\", size=14)\n",
    "plt.title(\"Histogram of Race/Ethncity (White, Black, Hispanic)\")\n",
    "plt.legend(loc= 'best')\n"
   ]
  },
  {
   "cell_type": "markdown",
   "metadata": {},
   "source": [
    "## 1.2 Create a 'Diabetes_Proportion' Column"
   ]
  },
  {
   "cell_type": "code",
   "execution_count": null,
   "metadata": {},
   "outputs": [],
   "source": [
    "db2['Diabetes_Proportion'] = db2['Diabetes_Number']/db2['race_total population']\n"
   ]
  },
  {
   "cell_type": "code",
   "execution_count": null,
   "metadata": {},
   "outputs": [],
   "source": [
    "db2[['Diabetes_Proportion']]"
   ]
  },
  {
   "cell_type": "markdown",
   "metadata": {},
   "source": [
    "Next we want to move the 'Diabetes_Proportion' column to the front of the dataframe"
   ]
  },
  {
   "cell_type": "code",
   "execution_count": null,
   "metadata": {},
   "outputs": [],
   "source": [
    "col_name=\"Diabetes_Proportion\"\n",
    "first_col = db2.pop(col_name)\n",
    "db2.insert(2, col_name, first_col)"
   ]
  },
  {
   "cell_type": "code",
   "execution_count": null,
   "metadata": {
    "scrolled": false
   },
   "outputs": [],
   "source": [
    "db2"
   ]
  },
  {
   "cell_type": "markdown",
   "metadata": {},
   "source": [
    "# 2. The Test-Train-Validation Split "
   ]
  },
  {
   "cell_type": "markdown",
   "metadata": {},
   "source": [
    "So what we want to do is look at the features we'll be using for prediction"
   ]
  },
  {
   "cell_type": "code",
   "execution_count": null,
   "metadata": {},
   "outputs": [],
   "source": [
    "#Feature used to predict diabetes_proportion\n",
    "X = db2.drop(['Diabetes_Proportion', 'Diabetes_Number', 'Obesity_Number'], axis = 1)\n",
    "\n",
    "#Proportion of diabetes by county \n",
    "y = db2['Diabetes_Proportion']"
   ]
  },
  {
   "cell_type": "code",
   "execution_count": null,
   "metadata": {},
   "outputs": [],
   "source": [
    "#set the random seed\n",
    "np.random.seed(10)\n",
    "\n",
    "# split the data\n",
    "# train_test_split returns 4 values: X_train, X_test, y_train, y_test\n",
    "\n",
    "X_train, X_test, y_train, y_test = train_test_split(X, y,\n",
    "                                                    train_size=0.80, test_size=0.20)\n"
   ]
  },
  {
   "cell_type": "markdown",
   "metadata": {},
   "source": [
    "## 2.1 The Validation Set"
   ]
  },
  {
   "cell_type": "code",
   "execution_count": null,
   "metadata": {},
   "outputs": [],
   "source": [
    "# split the data\n",
    "# Returns 4 values: X_train, X_validate, y_train, y_validate\n",
    "\n",
    "X_train, X_validate, y_train, y_validate = train_test_split(X_train, y_train,\n",
    "                                                    train_size=0.75, test_size=0.25)"
   ]
  },
  {
   "cell_type": "markdown",
   "metadata": {},
   "source": [
    "# 3. Train Models"
   ]
  },
  {
   "cell_type": "markdown",
   "metadata": {},
   "source": [
    "## 3.1 Linear Regression (OLS)"
   ]
  },
  {
   "cell_type": "code",
   "execution_count": null,
   "metadata": {},
   "outputs": [],
   "source": [
    "# create a model\n",
    "lin_reg = LinearRegression(normalize=True)\n",
    "\n",
    "# fit the model\n",
    "lin_model = lin_reg.fit(X_train, y_train)"
   ]
  },
  {
   "cell_type": "code",
   "execution_count": null,
   "metadata": {},
   "outputs": [],
   "source": [
    "print(lin_model.coef_)\n",
    "print(lin_model.intercept_)"
   ]
  },
  {
   "cell_type": "markdown",
   "metadata": {},
   "source": [
    "Now we are going to visualize the coefficents"
   ]
  },
  {
   "cell_type": "code",
   "execution_count": null,
   "metadata": {},
   "outputs": [],
   "source": [
    "# get fearture importance\n",
    "importance_ols = lin_model.coef_\n",
    "# summarize feature importance\n",
    "for i,v in enumerate(importance_ols):\n",
    "\tprint('Feature: %0d, Score: %.6f' % (i,v))\n",
    "# plot feature importance\n",
    "plt.bar([x for x in range(len(importance_ols))], importance_ols)\n",
    "plt.show()"
   ]
  },
  {
   "cell_type": "code",
   "execution_count": null,
   "metadata": {},
   "outputs": [],
   "source": [
    "# predict the diabetes number\n",
    "lin_pred = lin_model.predict(X_validate)\n",
    "\n",
    "# plot the residuals on a scatter plot\n",
    "plt.scatter(y_validate, lin_pred)\n",
    "plt.title('Linear Model (OLS) Predicted v. Actual')\n",
    "plt.xlabel('actual value')\n",
    "plt.ylabel('predicted value')\n",
    "plt.show()"
   ]
  },
  {
   "cell_type": "markdown",
   "metadata": {},
   "source": [
    "Finally, we are going to calculate the **root means squared error** to get the average difference between the predicted and the actual values"
   ]
  },
  {
   "cell_type": "code",
   "execution_count": null,
   "metadata": {},
   "outputs": [],
   "source": [
    "def rmse(pred, actual):\n",
    "    return np.sqrt(np.mean((pred - actual) ** 2))"
   ]
  },
  {
   "cell_type": "code",
   "execution_count": null,
   "metadata": {},
   "outputs": [],
   "source": [
    "rmse(lin_pred, y_validate)"
   ]
  },
  {
   "cell_type": "markdown",
   "metadata": {},
   "source": [
    "## 3.2 Ridge Regression"
   ]
  },
  {
   "cell_type": "markdown",
   "metadata": {},
   "source": [
    "Now that we got the RMSE for OLS, we're going to do the same for Ridge Regression"
   ]
  },
  {
   "cell_type": "code",
   "execution_count": null,
   "metadata": {},
   "outputs": [],
   "source": [
    "# make and fit a Ridge regression model\n",
    "ridge_reg = Ridge()\n",
    "ridge_model = ridge_reg.fit(X_train, y_train)\n",
    "ridge_reg_data = pd.DataFrame([ridge_model.coef_, X.columns]).T\n",
    "ridge_reg_data.columns = ['Coefficient', 'Feature']"
   ]
  },
  {
   "cell_type": "code",
   "execution_count": null,
   "metadata": {},
   "outputs": [],
   "source": [
    "print(lin_model.coef_)\n",
    "print(lin_model.intercept_)"
   ]
  },
  {
   "cell_type": "markdown",
   "metadata": {},
   "source": [
    "Now, we are going to plot the coefficients for the Ridge "
   ]
  },
  {
   "cell_type": "code",
   "execution_count": null,
   "metadata": {},
   "outputs": [],
   "source": [
    "# get feature importance\n",
    "importance_ridge = ridge_model.coef_\n",
    "# summarize feature importance\n",
    "for i,v in enumerate(importance_ridge):\n",
    "\tprint('Feature: %0d, Score: %.6f' % (i,v))\n",
    "# plot feature importance\n",
    "plt.bar([x for x in range(len(importance_ridge))], importance_ridge)\n",
    "plt.show()"
   ]
  },
  {
   "cell_type": "markdown",
   "metadata": {},
   "source": [
    "Now we are going to use the Ridge model to make predictions and visualize the predictions against the actual values."
   ]
  },
  {
   "cell_type": "code",
   "execution_count": null,
   "metadata": {},
   "outputs": [],
   "source": [
    "# use the model to make predictions\n",
    "ridge_pred = ridge_model.predict(X_validate)\n",
    "\n",
    "# plot the predictions\n",
    "plt.scatter(y_validate, ridge_pred)\n",
    "plt.title('Ridge Model')\n",
    "plt.xlabel('actual values')\n",
    "plt.ylabel('predicted values')\n",
    "plt.show()"
   ]
  },
  {
   "cell_type": "code",
   "execution_count": null,
   "metadata": {},
   "outputs": [],
   "source": [
    "# calculate the rmse for the Ridge model\n",
    "rmse(ridge_pred, y_validate)"
   ]
  },
  {
   "cell_type": "markdown",
   "metadata": {},
   "source": [
    "## 3.3 LASSO Regression"
   ]
  },
  {
   "cell_type": "markdown",
   "metadata": {},
   "source": [
    "Now we'll try LASSO to compare its RMSE value to Ridge and Regression"
   ]
  },
  {
   "cell_type": "code",
   "execution_count": null,
   "metadata": {},
   "outputs": [],
   "source": [
    "# create and fit the model\n",
    "lasso_reg = Lasso(tol=.2)\n",
    "\n",
    "lasso_model = lasso_reg.fit(X_train, y_train)\n",
    "lasso_reg_data = pd.DataFrame([lasso_model.coef_, X.columns]).T\n",
    "lasso_reg_data.columns = ['Coefficient', 'Feature']"
   ]
  },
  {
   "cell_type": "markdown",
   "metadata": {},
   "source": [
    "Plot the coefficients for Ridge and Lasso"
   ]
  },
  {
   "cell_type": "code",
   "execution_count": null,
   "metadata": {},
   "outputs": [],
   "source": [
    "# get feature importance\n",
    "importance_lasso = lasso_model.coef_\n",
    "# summarize feature importance\n",
    "for i,v in enumerate(importance_lasso):\n",
    "\tprint('Feature: %0d, Score: %.10f' % (i,v))\n",
    "# plot feature importance\n",
    "plt.bar([x for x in range(len(importance_lasso))], importance_lasso)\n",
    "plt.show()"
   ]
  },
  {
   "cell_type": "markdown",
   "metadata": {},
   "source": [
    "Now we're going to use the LASSO model to make predictions and visualize the predictions against the actual values. "
   ]
  },
  {
   "cell_type": "code",
   "execution_count": null,
   "metadata": {},
   "outputs": [],
   "source": [
    "\n",
    "# use the model to make predictions\n",
    "lasso_pred = lasso_model.predict(X_validate)\n",
    "\n",
    "# plot the predictions\n",
    "plt.scatter(y_validate, lasso_pred)\n",
    "plt.title('LASSO Model')\n",
    "plt.xlabel('actual values')\n",
    "plt.ylabel('predicted values')\n",
    "plt.show()"
   ]
  },
  {
   "cell_type": "code",
   "execution_count": null,
   "metadata": {},
   "outputs": [],
   "source": [
    "#calculate the rmse for the Ridge model\n",
    "rmse(lasso_pred, y_validate)"
   ]
  },
  {
   "cell_type": "markdown",
   "metadata": {},
   "source": [
    "## 3.4 Elastic - Net"
   ]
  },
  {
   "cell_type": "code",
   "execution_count": null,
   "metadata": {},
   "outputs": [],
   "source": [
    "# create and fit the model\n",
    "ElasNet_reg = ElasticNet(tol=.5)\n",
    "ElasNet_model = ElasNet_reg.fit(X_train, y_train)\n",
    "ElasNet_reg_data = pd.DataFrame([ElasNet_model.coef_, X.columns]).T\n",
    "ElasNet_reg_data.columns = ['Coefficient', 'Feature']"
   ]
  },
  {
   "cell_type": "code",
   "execution_count": null,
   "metadata": {},
   "outputs": [],
   "source": [
    "# get feature importance\n",
    "importance_ElasNet = ElasNet_model.coef_\n",
    "# summarize feature importance\n",
    "for i,v in enumerate(importance_ElasNet):\n",
    "\tprint('Feature: %0d, Score: %.10f' % (i,v))\n",
    "# plot feature importance\n",
    "plt.bar([x for x in range(len(importance_ElasNet))], importance_ElasNet)\n",
    "plt.show()"
   ]
  },
  {
   "cell_type": "code",
   "execution_count": null,
   "metadata": {},
   "outputs": [],
   "source": [
    "# use the model to make predictions\n",
    "ElasNet_pred = ElasNet_model.predict(X_validate)\n",
    "\n",
    "# plot the predictions\n",
    "plt.scatter(y_validate, lasso_pred)\n",
    "plt.title('Elastic net Model')\n",
    "plt.xlabel('actual values')\n",
    "plt.ylabel('predicted values')\n",
    "plt.show()"
   ]
  },
  {
   "cell_type": "code",
   "execution_count": null,
   "metadata": {},
   "outputs": [],
   "source": [
    "#calculate the rmse for the Ridge model\n",
    "rmse(ElasNet_pred, y_validate)"
   ]
  },
  {
   "cell_type": "markdown",
   "metadata": {},
   "source": [
    "## 3.5 Random Forest"
   ]
  },
  {
   "cell_type": "code",
   "execution_count": null,
   "metadata": {},
   "outputs": [],
   "source": [
    "# create and fit the model\n",
    "RandomF_reg = RandomForestRegressor(n_estimators= 71, random_state = 10)\n",
    "RandomF_model = RandomF_reg.fit(X_train, y_train)"
   ]
  },
  {
   "cell_type": "code",
   "execution_count": null,
   "metadata": {},
   "outputs": [],
   "source": [
    "# Build a forest and compute the impurity-based feature importances\n",
    "importances = RandomF_model.feature_importances_\n",
    "std = np.std([tree.feature_importances_ for tree in RandomF_model.estimators_],\n",
    "             axis=0)\n",
    "indices = np.argsort(importances)[::-1]\n",
    "\n",
    "# Print the feature ranking\n",
    "print(\"Feature ranking:\")\n",
    "\n",
    "for f in range(X.shape[1]):\n",
    "    print(\"%d. feature %d (%f)\" % (f + 1, indices[f], importances[indices[f]]))"
   ]
  },
  {
   "cell_type": "markdown",
   "metadata": {},
   "source": [
    "Plot Feature Importance"
   ]
  },
  {
   "cell_type": "code",
   "execution_count": null,
   "metadata": {},
   "outputs": [],
   "source": [
    "plt.figure()\n",
    "plt.title(\"Feature importances\")\n",
    "plt.bar(range(X.shape[1]), importances[indices],\n",
    "        color=\"r\", yerr=std[indices], align=\"center\", width=.8)\n",
    "plt.xticks(range(X.shape[1]), indices)\n",
    "plt.xlim([-1, X.shape[1]])\n",
    "plt.show()"
   ]
  },
  {
   "cell_type": "code",
   "execution_count": null,
   "metadata": {},
   "outputs": [],
   "source": [
    "# use the model to make predictions\n",
    "RandomF_pred = RandomF_model.predict(X_validate)\n",
    "\n",
    "# plot the predictions\n",
    "plt.scatter(y_validate, RandomF_pred)\n",
    "plt.title('Random Forest Model')\n",
    "plt.xlabel('actual values')\n",
    "plt.ylabel('predicted values')\n",
    "plt.show()"
   ]
  },
  {
   "cell_type": "code",
   "execution_count": null,
   "metadata": {},
   "outputs": [],
   "source": [
    "#calculate the rmse for the Random Forest model\n",
    "rmse(RandomF_pred, y_validate)"
   ]
  },
  {
   "cell_type": "markdown",
   "metadata": {},
   "source": [
    "# 4. Hyperparameter Tuning (OLS, Ridge, LASSO, Elastic Net)"
   ]
  },
  {
   "cell_type": "markdown",
   "metadata": {},
   "source": [
    "Hyperparameter tuning for OLS"
   ]
  },
  {
   "cell_type": "code",
   "execution_count": null,
   "metadata": {},
   "outputs": [],
   "source": [
    "param_grid = {'fit_intercept': ['True', 'False'],\n",
    "              'normalize': ['True', 'False']}\n",
    "\n",
    "lin_grid_reg = GridSearchCV(lin_reg, param_grid, cv=3, iid=False)\n",
    "lin_grid_reg.fit(X_train, y_train)\n",
    "\n",
    "best_index = np.argmax(lin_grid_reg.cv_results_[\"mean_test_score\"])\n",
    "best_lin_pred = lin_grid_reg.best_estimator_.predict(X_validate)\n",
    "\n",
    "print(lin_grid_reg.cv_results_[\"params\"][best_index])\n",
    "print('Best CV R^2:', max(lin_grid_reg.cv_results_[\"mean_test_score\"]))\n",
    "print('Validation R^2:', lin_grid_reg.score(X_validate, y_validate))\n",
    "print('Validation RMSE', rmse(best_lin_pred, y_validate))"
   ]
  },
  {
   "cell_type": "markdown",
   "metadata": {},
   "source": [
    "Hyperparameter tuning for Ridge"
   ]
  },
  {
   "cell_type": "code",
   "execution_count": null,
   "metadata": {},
   "outputs": [],
   "source": [
    "param_grid = {'alpha': np.arange(.1, 1, .1),\n",
    "               'normalize': ['True', 'False'],\n",
    "             'fit_intercept': ['True', 'False'],\n",
    "             'solver': ['auto', 'svd', 'cholesky', 'lsqr']}\n",
    "\n",
    "ridge_grid_reg = GridSearchCV(ridge_reg, param_grid, cv=3, iid=False)\n",
    "ridge_grid_reg.fit(X_train, y_train)\n",
    "\n",
    "best_index = np.argmax(ridge_grid_reg.cv_results_[\"mean_test_score\"])\n",
    "best_ridge_pred = ridge_grid_reg.best_estimator_.predict(X_validate)\n",
    "\n",
    "print(ridge_grid_reg.cv_results_[\"params\"][best_index])\n",
    "print('Best CV R^2:', max(ridge_grid_reg.cv_results_[\"mean_test_score\"]))\n",
    "print('Validation R^2:', ridge_grid_reg.score(X_validate, y_validate))\n",
    "print('Validation RMSE', rmse(best_ridge_pred, y_validate))"
   ]
  },
  {
   "cell_type": "markdown",
   "metadata": {},
   "source": [
    "Hyperparameter tuning for lasso"
   ]
  },
  {
   "cell_type": "code",
   "execution_count": null,
   "metadata": {},
   "outputs": [],
   "source": [
    "param_grid = {'alpha': np.arange(.1, 1, .1),\n",
    "               'normalize': ['True', 'False'],\n",
    "             'fit_intercept': ['True', 'False'],\n",
    "             'selection': ['cyclic', 'random']}\n",
    "\n",
    "lasso_grid_reg = GridSearchCV(lasso_reg, param_grid, cv=3, iid=False)\n",
    "lasso_grid_reg.fit(X_train, y_train)\n",
    "\n",
    "best_index = np.argmax(lasso_grid_reg.cv_results_[\"mean_test_score\"])\n",
    "best_lasso_pred = lasso_grid_reg.best_estimator_.predict(X_validate)\n",
    "\n",
    "print(lasso_grid_reg.cv_results_[\"params\"][best_index])\n",
    "print('Best CV R^2:', max(lasso_grid_reg.cv_results_[\"mean_test_score\"]))\n",
    "print('Validation R^2:', lasso_grid_reg.score(X_validate, y_validate))\n",
    "print('Validation RMSE', rmse(best_lasso_pred, y_validate))"
   ]
  },
  {
   "cell_type": "markdown",
   "metadata": {},
   "source": [
    "Hyperparameter tuning for Elastic Net"
   ]
  },
  {
   "cell_type": "code",
   "execution_count": null,
   "metadata": {},
   "outputs": [],
   "source": [
    "param_grid = {'alpha': np.arange(.1, 1, .1),\n",
    "               'normalize': ['True', 'False'],\n",
    "             'fit_intercept': ['True', 'False'],\n",
    "             'selection': ['cyclic', 'random']}\n",
    "\n",
    "ElasNet_grid_reg = GridSearchCV(ElasNet_reg, param_grid, cv=3, iid=False)\n",
    "ElasNet_grid_reg.fit(X_train, y_train)\n",
    "\n",
    "best_index = np.argmax(ElasNet_grid_reg.cv_results_[\"mean_test_score\"])\n",
    "best_ElasNet_pred = ElasNet_grid_reg.best_estimator_.predict(X_validate)\n",
    "\n",
    "print(ElasNet_grid_reg.cv_results_[\"params\"][best_index])\n",
    "print('Best CV R^2:', max(ElasNet_grid_reg.cv_results_[\"mean_test_score\"]))\n",
    "print('Validation R^2:', ElasNet_grid_reg.score(X_validate, y_validate))\n",
    "print('Validation RMSE', rmse(best_ElasNet_pred, y_validate))"
   ]
  },
  {
   "cell_type": "markdown",
   "metadata": {},
   "source": [
    "Hyperperamter Tuning for Random Forest"
   ]
  },
  {
   "cell_type": "code",
   "execution_count": null,
   "metadata": {},
   "outputs": [],
   "source": [
    "param_grid = {'max_features': ['auto', 'sqrt']}\n",
    "\n",
    "RandomF_grid_reg = GridSearchCV(RandomF_reg, param_grid, cv=3, iid=False)\n",
    "RandomF_grid_reg.fit(X_train, y_train)\n",
    "\n",
    "best_index = np.argmax(RandomF_grid_reg.cv_results_[\"mean_test_score\"])\n",
    "best_RandomF_pred = RandomF_grid_reg.best_estimator_.predict(X_validate)\n",
    "\n",
    "print(RandomF_grid_reg.cv_results_[\"params\"][best_index])\n",
    "print('Best CV R^2:', max(RandomF_grid_reg.cv_results_[\"mean_test_score\"]))\n",
    "print('Validation R^2:', RandomF_grid_reg.score(X_validate, y_validate))\n",
    "print('Validation RMSE', rmse(best_RandomF_pred, y_validate))"
   ]
  },
  {
   "cell_type": "markdown",
   "metadata": {},
   "source": [
    "# 5. Test Set Using Random Forest"
   ]
  },
  {
   "cell_type": "code",
   "execution_count": null,
   "metadata": {},
   "outputs": [],
   "source": [
    "# Create a selector object that will use the random forest classifier to identify\n",
    "# features that have an importance of more than 0.013\n",
    "sfm = SelectFromModel(RandomF_reg, threshold=0.013)\n",
    "\n",
    "# Train the selector\n",
    "sfm.fit(X_train, y_train)"
   ]
  },
  {
   "cell_type": "code",
   "execution_count": null,
   "metadata": {},
   "outputs": [],
   "source": [
    "# Transform the data to create a new dataset containing only the most important features\n",
    "# Note: We have to apply the transform to both the training X and test X data.\n",
    "X_important_train = sfm.transform(X_train)\n",
    "X_important_test = sfm.transform(X_test)\n",
    "X_important_validate = sfm.transform(X_validate)"
   ]
  },
  {
   "cell_type": "code",
   "execution_count": null,
   "metadata": {},
   "outputs": [],
   "source": [
    "# create a random forest regressor using only important features \n",
    "RF_important_reg = RandomForestRegressor(n_estimators= 71, random_state = 10)\n",
    "RF_important_model = RF_important_reg.fit(X_important_train, y_train)"
   ]
  },
  {
   "cell_type": "code",
   "execution_count": null,
   "metadata": {},
   "outputs": [],
   "source": [
    "plt.figure()\n",
    "plt.title(\"Feature importances\")\n",
    "plt.bar(range(X.shape[1]), importances[indices],\n",
    "        color=\"r\", yerr=std[indices], align=\"center\", width=.8)\n",
    "plt.xticks(range(X.shape[1]), indices)\n",
    "plt.xlim([-1, X.shape[1]])\n",
    "plt.show()"
   ]
  },
  {
   "cell_type": "code",
   "execution_count": null,
   "metadata": {},
   "outputs": [],
   "source": [
    "# use the model to make predictions using important features\n",
    "RF_important_pred = RF_important_model.predict(X_important_validate)\n",
    "\n",
    "# plot the predictions\n",
    "plt.scatter(y_validate, RF_important_pred)\n",
    "plt.title('Random Forest Model')\n",
    "plt.xlabel('actual values')\n",
    "plt.ylabel('predicted values')\n",
    "plt.show()"
   ]
  },
  {
   "cell_type": "code",
   "execution_count": null,
   "metadata": {},
   "outputs": [],
   "source": [
    "#calculate the rmse for the Random Forest model\n",
    "rmse(RF_important_pred, y_validate)"
   ]
  },
  {
   "cell_type": "code",
   "execution_count": null,
   "metadata": {},
   "outputs": [],
   "source": [
    "#Hyperparameter tuning with important features \n",
    "\n",
    "param_grid = {'max_features': ['auto', 'sqrt']}\n",
    "\n",
    "RandomF_grid_reg = GridSearchCV(RandomF_reg, param_grid, cv=3, iid=False)\n",
    "RandomF_grid_reg.fit(X_important_train, y_train)\n",
    "\n",
    "best_index = np.argmax(RandomF_grid_reg.cv_results_[\"mean_test_score\"])\n",
    "best_RandomF_pred = RandomF_grid_reg.best_estimator_.predict(X_important_validate)\n",
    "\n",
    "print(RandomF_grid_reg.cv_results_[\"params\"][best_index])\n",
    "print('Best CV R^2:', max(RandomF_grid_reg.cv_results_[\"mean_test_score\"]))\n",
    "print('Validation R^2:', RandomF_grid_reg.score(X_important_validate, y_validate))\n",
    "print('Validation RMSE', rmse(best_RandomF_pred, y_validate))"
   ]
  },
  {
   "cell_type": "code",
   "execution_count": null,
   "metadata": {},
   "outputs": [],
   "source": [
    "# make predictions for the test set using Random Forest Model\n",
    "final_pred = RandomF_grid_reg.predict(X_important_test)\n",
    "# calculate the rmse for the final predictions\n",
    "print('Test set rmse: ', rmse(final_pred, y_test))"
   ]
  },
  {
   "cell_type": "markdown",
   "metadata": {},
   "source": [
    "# 6. Cross Validation"
   ]
  },
  {
   "cell_type": "markdown",
   "metadata": {},
   "source": [
    "First, we need to binarize the \"Diabetes Proportion\" column to perform CV and to plot a confusion matrix"
   ]
  },
  {
   "cell_type": "code",
   "execution_count": null,
   "metadata": {},
   "outputs": [],
   "source": [
    "desc = db2[\"Diabetes_Proportion\"].describe() \n",
    "desc"
   ]
  },
  {
   "cell_type": "markdown",
   "metadata": {},
   "source": [
    "We see that .112038 makes up 75% of the distribution. Therefore, we can take all the counties above this threshold and label them as 1 and the ones below this threshold as 0"
   ]
  },
  {
   "cell_type": "code",
   "execution_count": null,
   "metadata": {},
   "outputs": [],
   "source": [
    "conditions = [\n",
    "    (db2['Diabetes_Proportion'] >= 0.112038),\n",
    "    (db2['Diabetes_Proportion'] < 0.112038),\n",
    "    ]\n",
    "values = ['1', '0']\n",
    "db2['Diabetes_Binarizer'] = np.select(conditions,values)\n",
    "\n",
    "db2.head()"
   ]
  },
  {
   "cell_type": "code",
   "execution_count": null,
   "metadata": {},
   "outputs": [],
   "source": [
    "#Feature used to predict diabetes_Binarizer\n",
    "X2 = db2.drop(['Diabetes_Proportion', 'Diabetes_Number', 'Obesity_Number', 'Diabetes_Binarizer'], axis = 1)\n",
    "\n",
    "#Proportion of diabetes by county \n",
    "y2 = db2['Diabetes_Binarizer']\n"
   ]
  },
  {
   "cell_type": "markdown",
   "metadata": {},
   "source": [
    "Now we will create a new set of training, validation and test sets to do cross validation since we are changing \"Y\" to \"Diabetes_Binarizer\" "
   ]
  },
  {
   "cell_type": "code",
   "execution_count": null,
   "metadata": {},
   "outputs": [],
   "source": [
    "# set the random seed\n",
    "np.random.seed(10)\n",
    "\n",
    "# split the data\n",
    "# train_test_split returns 4 values: X2_train, X2_test, y2_train, y2_test\n",
    "\n",
    "X2_train, X2_test, y2_train, y2_test = train_test_split(X2, y2,\n",
    "                                                    train_size=0.80, test_size=0.20)"
   ]
  },
  {
   "cell_type": "markdown",
   "metadata": {},
   "source": [
    "Validation Set"
   ]
  },
  {
   "cell_type": "code",
   "execution_count": null,
   "metadata": {},
   "outputs": [],
   "source": [
    "# split the data\n",
    "# Returns 4 values: X_train, X_validate, y_train, y_validate\n",
    "\n",
    "X2_train, X2_validate, y2_train, y2_validate = train_test_split(X2_train, y2_train,\n",
    "                                                    train_size=0.75, test_size=0.25)"
   ]
  },
  {
   "cell_type": "markdown",
   "metadata": {},
   "source": [
    "Now let's create and fit the model"
   ]
  },
  {
   "cell_type": "code",
   "execution_count": null,
   "metadata": {},
   "outputs": [],
   "source": [
    "# create and fit the model\n",
    "RF_reg = RandomForestClassifier(n_estimators= 71, random_state = 10)\n",
    "RF_model = RF_reg.fit(X2_train, y2_train)"
   ]
  },
  {
   "cell_type": "markdown",
   "metadata": {},
   "source": [
    "Now, I want to create a selector object that will use the random forest classifier to identify features that have an importance of more than 0.013"
   ]
  },
  {
   "cell_type": "code",
   "execution_count": null,
   "metadata": {},
   "outputs": [],
   "source": [
    "from sklearn.model_selection import cross_val_score\n",
    "from sklearn.model_selection import cross_val_predict\n",
    "from sklearn.metrics import confusion_matrix\n",
    "\n",
    "\n",
    "RF_pred = cross_val_predict(RF_reg, X2, y2, cv = 3)\n",
    "\n",
    "cf_matrix = confusion_matrix(y2,RF_pred, normalize = \"True\")\n",
    "\n",
    "df_cm = pd.DataFrame(cf_matrix, range(2),\n",
    "              range(2))\n",
    "\n",
    "df_cm = df_cm.rename(index=str, columns={0: \"<.1120\", 1: \">=.1120\"})\n",
    "df_cm.index = [\"<.1120\", \">=.1120\"]\n",
    "plt.figure(figsize = (10,7))\n",
    "sns.set(font_scale=1.4)#for label size\n",
    "sns.heatmap(df_cm, \n",
    "           annot=True,\n",
    "           annot_kws={\"size\": 16},\n",
    "           fmt='g')\n",
    "\n",
    "plt.title(\"Confusion Matrix\")\n",
    "plt.xlabel(\"Predicted Label\")\n",
    "plt.ylabel(\"True Label\")\n",
    "plt.show()"
   ]
  }
 ],
 "metadata": {
  "kernelspec": {
   "display_name": "Python 3",
   "language": "python",
   "name": "python3"
  },
  "language_info": {
   "codemirror_mode": {
    "name": "ipython",
    "version": 3
   },
   "file_extension": ".py",
   "mimetype": "text/x-python",
   "name": "python",
   "nbconvert_exporter": "python",
   "pygments_lexer": "ipython3",
   "version": "3.7.4"
  }
 },
 "nbformat": 4,
 "nbformat_minor": 2
}
