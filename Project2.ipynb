{
 "cells": [
  {
   "cell_type": "markdown",
   "metadata": {},
   "source": [
    "**Project 2 - Regression**\n",
    "\n",
    "Authors: Reubén Pérez, José Aveldanes, and Xavier Durham"
   ]
  },
  {
   "cell_type": "markdown",
   "metadata": {},
   "source": [
    "# Tables of Contents\n",
    "\n",
    "### 1 - Data Pre-processing\n",
    "\n",
    "### 2 - The Test-Train-Validation Split\n",
    "\n",
    "### 3 - Training the Data\n",
    "\n",
    "### 4 - Hyperperameter Tuning \n",
    "\n",
    "### 5 - Test Set\n",
    "\n",
    "### 6 - Cross Validation"
   ]
  },
  {
   "cell_type": "markdown",
   "metadata": {},
   "source": [
    "### Dependencies:"
   ]
  },
  {
   "cell_type": "code",
   "execution_count": 83,
   "metadata": {},
   "outputs": [],
   "source": [
    "import pandas as pd \n",
    "import numpy as np\n",
    "from sklearn.preprocessing import LabelBinarizer\n",
    "import matplotlib.pyplot as plt\n",
    "import seaborn as sns\n",
    "import sklearn as sklearn\n",
    "%matplotlib inline\n",
    "from sklearn.model_selection import train_test_split\n",
    "from sklearn.linear_model import Ridge, Lasso, LinearRegression, ElasticNet\n",
    "from sklearn.ensemble import RandomForestRegressor, RandomForestClassifier\n",
    "from sklearn.feature_selection import SelectFromModel\n",
    "from sklearn.model_selection import KFold\n",
    "from sklearn.model_selection import GridSearchCV\n",
    "\n",
    "sns.set_style(\"darkgrid\")"
   ]
  },
  {
   "cell_type": "markdown",
   "metadata": {},
   "source": [
    "## The Data: Diabetes with Population Info by County"
   ]
  },
  {
   "cell_type": "code",
   "execution_count": 10,
   "metadata": {},
   "outputs": [
    {
     "data": {
      "text/html": [
       "<div>\n",
       "<style scoped>\n",
       "    .dataframe tbody tr th:only-of-type {\n",
       "        vertical-align: middle;\n",
       "    }\n",
       "\n",
       "    .dataframe tbody tr th {\n",
       "        vertical-align: top;\n",
       "    }\n",
       "\n",
       "    .dataframe thead th {\n",
       "        text-align: right;\n",
       "    }\n",
       "</style>\n",
       "<table border=\"1\" class=\"dataframe\">\n",
       "  <thead>\n",
       "    <tr style=\"text-align: right;\">\n",
       "      <th></th>\n",
       "      <th>County</th>\n",
       "      <th>State</th>\n",
       "      <th>CountyFIPS</th>\n",
       "      <th>Diabetes_Number</th>\n",
       "      <th>Obesity_Number</th>\n",
       "      <th>Physical_Inactivity_Number</th>\n",
       "      <th>sex and age_total population_65 years and over_sex ratio (males per 100 females)</th>\n",
       "      <th>race_total population</th>\n",
       "      <th>race_total population_one race</th>\n",
       "      <th>race_total population_two or more races</th>\n",
       "      <th>...</th>\n",
       "      <th>sex and age_total population_21 years and over</th>\n",
       "      <th>sex and age_total population_62 years and over</th>\n",
       "      <th>sex and age_total population_65 years and over</th>\n",
       "      <th>sex and age_total population_18 years and over_1</th>\n",
       "      <th>sex and age_total population_18 years and over_male</th>\n",
       "      <th>sex and age_total population_18 years and over_female</th>\n",
       "      <th>sex and age_total population_18 years and over_sex ratio (males per 100 females)</th>\n",
       "      <th>sex and age_total population_65 years and over_1</th>\n",
       "      <th>sex and age_total population_65 years and over_male</th>\n",
       "      <th>sex and age_total population_65 years and over_female</th>\n",
       "    </tr>\n",
       "  </thead>\n",
       "  <tbody>\n",
       "    <tr>\n",
       "      <th>0</th>\n",
       "      <td>Autauga County</td>\n",
       "      <td>Alabama</td>\n",
       "      <td>1001</td>\n",
       "      <td>5178</td>\n",
       "      <td>13489</td>\n",
       "      <td>12525</td>\n",
       "      <td>76.5</td>\n",
       "      <td>55200</td>\n",
       "      <td>54170</td>\n",
       "      <td>1030</td>\n",
       "      <td>...</td>\n",
       "      <td>39614</td>\n",
       "      <td>9403</td>\n",
       "      <td>8050</td>\n",
       "      <td>41831</td>\n",
       "      <td>20054</td>\n",
       "      <td>21777</td>\n",
       "      <td>92.1</td>\n",
       "      <td>8050</td>\n",
       "      <td>3488</td>\n",
       "      <td>4562</td>\n",
       "    </tr>\n",
       "    <tr>\n",
       "      <th>1</th>\n",
       "      <td>Baldwin County</td>\n",
       "      <td>Alabama</td>\n",
       "      <td>1003</td>\n",
       "      <td>16707</td>\n",
       "      <td>48542</td>\n",
       "      <td>40024</td>\n",
       "      <td>86.6</td>\n",
       "      <td>208107</td>\n",
       "      <td>204535</td>\n",
       "      <td>3572</td>\n",
       "      <td>...</td>\n",
       "      <td>155502</td>\n",
       "      <td>49811</td>\n",
       "      <td>40665</td>\n",
       "      <td>162430</td>\n",
       "      <td>78104</td>\n",
       "      <td>84326</td>\n",
       "      <td>92.6</td>\n",
       "      <td>40665</td>\n",
       "      <td>18870</td>\n",
       "      <td>21795</td>\n",
       "    </tr>\n",
       "    <tr>\n",
       "      <th>2</th>\n",
       "      <td>Barbour County</td>\n",
       "      <td>Alabama</td>\n",
       "      <td>1005</td>\n",
       "      <td>3400</td>\n",
       "      <td>8009</td>\n",
       "      <td>5431</td>\n",
       "      <td>76.2</td>\n",
       "      <td>25782</td>\n",
       "      <td>25429</td>\n",
       "      <td>353</td>\n",
       "      <td>...</td>\n",
       "      <td>19394</td>\n",
       "      <td>5658</td>\n",
       "      <td>4634</td>\n",
       "      <td>20346</td>\n",
       "      <td>10923</td>\n",
       "      <td>9423</td>\n",
       "      <td>115.9</td>\n",
       "      <td>4634</td>\n",
       "      <td>2004</td>\n",
       "      <td>2630</td>\n",
       "    </tr>\n",
       "    <tr>\n",
       "      <th>3</th>\n",
       "      <td>Bibb County</td>\n",
       "      <td>Alabama</td>\n",
       "      <td>1007</td>\n",
       "      <td>2371</td>\n",
       "      <td>6534</td>\n",
       "      <td>5827</td>\n",
       "      <td>80.5</td>\n",
       "      <td>22527</td>\n",
       "      <td>22340</td>\n",
       "      <td>187</td>\n",
       "      <td>...</td>\n",
       "      <td>16864</td>\n",
       "      <td>4323</td>\n",
       "      <td>3661</td>\n",
       "      <td>17868</td>\n",
       "      <td>9578</td>\n",
       "      <td>8290</td>\n",
       "      <td>115.5</td>\n",
       "      <td>3661</td>\n",
       "      <td>1633</td>\n",
       "      <td>2028</td>\n",
       "    </tr>\n",
       "    <tr>\n",
       "      <th>4</th>\n",
       "      <td>Blount County</td>\n",
       "      <td>Alabama</td>\n",
       "      <td>1009</td>\n",
       "      <td>6282</td>\n",
       "      <td>14227</td>\n",
       "      <td>14365</td>\n",
       "      <td>79.7</td>\n",
       "      <td>57645</td>\n",
       "      <td>56710</td>\n",
       "      <td>935</td>\n",
       "      <td>...</td>\n",
       "      <td>42232</td>\n",
       "      <td>12400</td>\n",
       "      <td>10233</td>\n",
       "      <td>44177</td>\n",
       "      <td>21595</td>\n",
       "      <td>22582</td>\n",
       "      <td>95.6</td>\n",
       "      <td>10233</td>\n",
       "      <td>4540</td>\n",
       "      <td>5693</td>\n",
       "    </tr>\n",
       "  </tbody>\n",
       "</table>\n",
       "<p>5 rows × 95 columns</p>\n",
       "</div>"
      ],
      "text/plain": [
       "           County    State  CountyFIPS Diabetes_Number Obesity_Number  \\\n",
       "0  Autauga County  Alabama        1001            5178          13489   \n",
       "1  Baldwin County  Alabama        1003           16707          48542   \n",
       "2  Barbour County  Alabama        1005            3400           8009   \n",
       "3     Bibb County  Alabama        1007            2371           6534   \n",
       "4   Blount County  Alabama        1009            6282          14227   \n",
       "\n",
       "  Physical_Inactivity_Number  \\\n",
       "0                      12525   \n",
       "1                      40024   \n",
       "2                       5431   \n",
       "3                       5827   \n",
       "4                      14365   \n",
       "\n",
       "  sex and age_total population_65 years and over_sex ratio (males per 100 females)  \\\n",
       "0                                               76.5                                 \n",
       "1                                               86.6                                 \n",
       "2                                               76.2                                 \n",
       "3                                               80.5                                 \n",
       "4                                               79.7                                 \n",
       "\n",
       "   race_total population  race_total population_one race  \\\n",
       "0                  55200                           54170   \n",
       "1                 208107                          204535   \n",
       "2                  25782                           25429   \n",
       "3                  22527                           22340   \n",
       "4                  57645                           56710   \n",
       "\n",
       "   race_total population_two or more races  ...  \\\n",
       "0                                     1030  ...   \n",
       "1                                     3572  ...   \n",
       "2                                      353  ...   \n",
       "3                                      187  ...   \n",
       "4                                      935  ...   \n",
       "\n",
       "   sex and age_total population_21 years and over  \\\n",
       "0                                           39614   \n",
       "1                                          155502   \n",
       "2                                           19394   \n",
       "3                                           16864   \n",
       "4                                           42232   \n",
       "\n",
       "   sex and age_total population_62 years and over  \\\n",
       "0                                            9403   \n",
       "1                                           49811   \n",
       "2                                            5658   \n",
       "3                                            4323   \n",
       "4                                           12400   \n",
       "\n",
       "   sex and age_total population_65 years and over  \\\n",
       "0                                            8050   \n",
       "1                                           40665   \n",
       "2                                            4634   \n",
       "3                                            3661   \n",
       "4                                           10233   \n",
       "\n",
       "   sex and age_total population_18 years and over_1  \\\n",
       "0                                             41831   \n",
       "1                                            162430   \n",
       "2                                             20346   \n",
       "3                                             17868   \n",
       "4                                             44177   \n",
       "\n",
       "   sex and age_total population_18 years and over_male  \\\n",
       "0                                              20054     \n",
       "1                                              78104     \n",
       "2                                              10923     \n",
       "3                                               9578     \n",
       "4                                              21595     \n",
       "\n",
       "   sex and age_total population_18 years and over_female  \\\n",
       "0                                              21777       \n",
       "1                                              84326       \n",
       "2                                               9423       \n",
       "3                                               8290       \n",
       "4                                              22582       \n",
       "\n",
       "   sex and age_total population_18 years and over_sex ratio (males per 100 females)  \\\n",
       "0                                               92.1                                  \n",
       "1                                               92.6                                  \n",
       "2                                              115.9                                  \n",
       "3                                              115.5                                  \n",
       "4                                               95.6                                  \n",
       "\n",
       "   sex and age_total population_65 years and over_1  \\\n",
       "0                                              8050   \n",
       "1                                             40665   \n",
       "2                                              4634   \n",
       "3                                              3661   \n",
       "4                                             10233   \n",
       "\n",
       "   sex and age_total population_65 years and over_male  \\\n",
       "0                                               3488     \n",
       "1                                              18870     \n",
       "2                                               2004     \n",
       "3                                               1633     \n",
       "4                                               4540     \n",
       "\n",
       "   sex and age_total population_65 years and over_female  \n",
       "0                                               4562      \n",
       "1                                              21795      \n",
       "2                                               2630      \n",
       "3                                               2028      \n",
       "4                                               5693      \n",
       "\n",
       "[5 rows x 95 columns]"
      ]
     },
     "execution_count": 10,
     "metadata": {},
     "output_type": "execute_result"
    }
   ],
   "source": [
    "# Create a list of column names found in db.info \n",
    "\n",
    "db=pd.read_csv('/Users/joseaveldanes/Documents/GitHub/CSS_Project_2_Team_4_Fall_2020/Data/Diabetes.csv')\n",
    "db.head()"
   ]
  },
  {
   "cell_type": "markdown",
   "metadata": {},
   "source": [
    "# 1. Data Pre-processing"
   ]
  },
  {
   "cell_type": "markdown",
   "metadata": {},
   "source": [
    "First, Let's make a copy of the Data"
   ]
  },
  {
   "cell_type": "code",
   "execution_count": 11,
   "metadata": {},
   "outputs": [],
   "source": [
    "db2 = db.copy()"
   ]
  },
  {
   "cell_type": "code",
   "execution_count": 12,
   "metadata": {},
   "outputs": [
    {
     "name": "stdout",
     "output_type": "stream",
     "text": [
      "<class 'pandas.core.frame.DataFrame'>\n",
      "RangeIndex: 3220 entries, 0 to 3219\n",
      "Data columns (total 95 columns):\n",
      " #   Column                                                                                                                                                Non-Null Count  Dtype  \n",
      "---  ------                                                                                                                                                --------------  -----  \n",
      " 0   County                                                                                                                                                3220 non-null   object \n",
      " 1   State                                                                                                                                                 3220 non-null   object \n",
      " 2   CountyFIPS                                                                                                                                            3220 non-null   int64  \n",
      " 3   Diabetes_Number                                                                                                                                       3220 non-null   object \n",
      " 4   Obesity_Number                                                                                                                                        3220 non-null   object \n",
      " 5   Physical_Inactivity_Number                                                                                                                            3220 non-null   object \n",
      " 6   sex and age_total population_65 years and over_sex ratio (males per 100 females)                                                                      3220 non-null   object \n",
      " 7   race_total population                                                                                                                                 3220 non-null   int64  \n",
      " 8   race_total population_one race                                                                                                                        3220 non-null   int64  \n",
      " 9   race_total population_two or more races                                                                                                               3220 non-null   int64  \n",
      " 10  race_total population_one race_1                                                                                                                      3220 non-null   int64  \n",
      " 11  race_total population_one race_white                                                                                                                  3220 non-null   int64  \n",
      " 12  race_total population_one race_black or african american                                                                                              3220 non-null   int64  \n",
      " 13  race_total population_one race_american indian and alaska native                                                                                      3220 non-null   int64  \n",
      " 14  race_total population_one race_american indian and alaska native_cherokee tribal grouping                                                             3220 non-null   int64  \n",
      " 15  race_total population_one race_american indian and alaska native_chippewa tribal grouping                                                             3220 non-null   int64  \n",
      " 16  race_total population_one race_american indian and alaska native_navajo tribal grouping                                                               3220 non-null   int64  \n",
      " 17  race_total population_one race_american indian and alaska native_sioux tribal grouping                                                                3220 non-null   int64  \n",
      " 18  race_total population_one race_asian                                                                                                                  3220 non-null   int64  \n",
      " 19  race_total population_one race_asian_asian indian                                                                                                     3220 non-null   int64  \n",
      " 20  race_total population_one race_asian_chinese                                                                                                          3220 non-null   int64  \n",
      " 21  race_total population_one race_asian_filipino                                                                                                         3220 non-null   int64  \n",
      " 22  race_total population_one race_asian_japanese                                                                                                         3220 non-null   int64  \n",
      " 23  race_total population_one race_asian_korean                                                                                                           3220 non-null   int64  \n",
      " 24  race_total population_one race_asian_vietnamese                                                                                                       3220 non-null   int64  \n",
      " 25  race_total population_one race_asian_other asian                                                                                                      3220 non-null   int64  \n",
      " 26  race_total population_one race_native hawaiian and other pacific islander                                                                             3220 non-null   int64  \n",
      " 27  race_total population_one race_native hawaiian and other pacific islander_native hawaiian                                                             3220 non-null   int64  \n",
      " 28  race_total population_one race_native hawaiian and other pacific islander_guamanian or chamorro                                                       3220 non-null   int64  \n",
      " 29  race_total population_one race_native hawaiian and other pacific islander_samoan                                                                      3220 non-null   int64  \n",
      " 30  race_total population_one race_native hawaiian and other pacific islander_other pacific islander                                                      3220 non-null   int64  \n",
      " 31  race_total population_one race_some other race                                                                                                        3220 non-null   int64  \n",
      " 32  race_total population_two or more races_1                                                                                                             3220 non-null   int64  \n",
      " 33  race_total population_two or more races_white and black or african american                                                                           3220 non-null   int64  \n",
      " 34  race_total population_two or more races_white and american indian and alaska native                                                                   3220 non-null   int64  \n",
      " 35  race_total population_two or more races_white and asian                                                                                               3220 non-null   int64  \n",
      " 36  race_total population_two or more races_black or african american and american indian and alaska native                                               3220 non-null   int64  \n",
      " 37  race alone or in combination with one or more other races_total population                                                                            3220 non-null   int64  \n",
      " 38  race alone or in combination with one or more other races_total population_white                                                                      3220 non-null   int64  \n",
      " 39  race alone or in combination with one or more other races_total population_black or african american                                                  3220 non-null   int64  \n",
      " 40  race alone or in combination with one or more other races_total population_american indian and alaska native                                          3220 non-null   int64  \n",
      " 41  race alone or in combination with one or more other races_total population_asian                                                                      3220 non-null   int64  \n",
      " 42  race alone or in combination with one or more other races_total population_native hawaiian and other pacific islander                                 3220 non-null   int64  \n",
      " 43  race alone or in combination with one or more other races_total population_some other race                                                            3220 non-null   int64  \n",
      " 44  hispanic or latino and race_total population                                                                                                          3220 non-null   int64  \n",
      " 45  hispanic or latino and race_total population_hispanic or latino (of any race)                                                                         3220 non-null   int64  \n",
      " 46  hispanic or latino and race_total population_hispanic or latino (of any race)_mexican                                                                 3220 non-null   int64  \n",
      " 47  hispanic or latino and race_total population_hispanic or latino (of any race)_puerto rican                                                            3220 non-null   int64  \n",
      " 48  hispanic or latino and race_total population_hispanic or latino (of any race)_cuban                                                                   3220 non-null   int64  \n",
      " 49  hispanic or latino and race_total population_hispanic or latino (of any race)_other hispanic or latino                                                3220 non-null   int64  \n",
      " 50  hispanic or latino and race_total population_not hispanic or latino                                                                                   3220 non-null   int64  \n",
      " 51  hispanic or latino and race_total population_not hispanic or latino_white alone                                                                       3220 non-null   int64  \n",
      " 52  hispanic or latino and race_total population_not hispanic or latino_black or african american alone                                                   3220 non-null   int64  \n",
      " 53  hispanic or latino and race_total population_not hispanic or latino_american indian and alaska native alone                                           3220 non-null   int64  \n",
      " 54  hispanic or latino and race_total population_not hispanic or latino_asian alone                                                                       3220 non-null   int64  \n",
      " 55  hispanic or latino and race_total population_not hispanic or latino_native hawaiian and other pacific islander alone                                  3220 non-null   int64  \n",
      " 56  hispanic or latino and race_total population_not hispanic or latino_some other race alone                                                             3220 non-null   int64  \n",
      " 57  hispanic or latino and race_total population_not hispanic or latino_two or more races                                                                 3220 non-null   int64  \n",
      " 58  hispanic or latino and race_total population_not hispanic or latino_two or more races_two races including some other race                             3220 non-null   int64  \n",
      " 59  hispanic or latino and race_total population_not hispanic or latino_two or more races_two races excluding some other race -  and three or more races  3220 non-null   int64  \n",
      " 60  total housing units                                                                                                                                   3220 non-null   int64  \n",
      " 61  citizen -  voting age population_citizen -  18 and over population                                                                                    3220 non-null   int64  \n",
      " 62  citizen -  voting age population_citizen -  18 and over population_male                                                                               3220 non-null   int64  \n",
      " 63  citizen -  voting age population_citizen -  18 and over population_female                                                                             3220 non-null   int64  \n",
      " 64  sex and age_total population                                                                                                                          3220 non-null   int64  \n",
      " 65  sex and age_total population_male                                                                                                                     3220 non-null   int64  \n",
      " 66  sex and age_total population_female                                                                                                                   3220 non-null   int64  \n",
      " 67  sex and age_total population_sex ratio (males per 100 females)                                                                                        3220 non-null   float64\n",
      " 68  sex and age_total population_under 5 years                                                                                                            3220 non-null   int64  \n",
      " 69  sex and age_total population_5 to 9 years                                                                                                             3220 non-null   int64  \n",
      " 70  sex and age_total population_10 to 14 years                                                                                                           3220 non-null   int64  \n",
      " 71  sex and age_total population_15 to 19 years                                                                                                           3220 non-null   int64  \n",
      " 72  sex and age_total population_20 to 24 years                                                                                                           3220 non-null   int64  \n",
      " 73  sex and age_total population_25 to 34 years                                                                                                           3220 non-null   int64  \n",
      " 74  sex and age_total population_35 to 44 years                                                                                                           3220 non-null   int64  \n",
      " 75  sex and age_total population_45 to 54 years                                                                                                           3220 non-null   int64  \n",
      " 76  sex and age_total population_55 to 59 years                                                                                                           3220 non-null   int64  \n",
      " 77  sex and age_total population_60 to 64 years                                                                                                           3220 non-null   int64  \n",
      " 78  sex and age_total population_65 to 74 years                                                                                                           3220 non-null   int64  \n",
      " 79  sex and age_total population_75 to 84 years                                                                                                           3220 non-null   int64  \n",
      " 80  sex and age_total population_85 years and over                                                                                                        3220 non-null   int64  \n",
      " 81  sex and age_total population_median age (years)                                                                                                       3220 non-null   float64\n",
      " 82  sex and age_total population_under 18 years                                                                                                           3220 non-null   int64  \n",
      " 83  sex and age_total population_16 years and over                                                                                                        3220 non-null   int64  \n",
      " 84  sex and age_total population_18 years and over                                                                                                        3220 non-null   int64  \n",
      " 85  sex and age_total population_21 years and over                                                                                                        3220 non-null   int64  \n",
      " 86  sex and age_total population_62 years and over                                                                                                        3220 non-null   int64  \n",
      " 87  sex and age_total population_65 years and over                                                                                                        3220 non-null   int64  \n",
      " 88  sex and age_total population_18 years and over_1                                                                                                      3220 non-null   int64  \n",
      " 89  sex and age_total population_18 years and over_male                                                                                                   3220 non-null   int64  \n",
      " 90  sex and age_total population_18 years and over_female                                                                                                 3220 non-null   int64  \n",
      " 91  sex and age_total population_18 years and over_sex ratio (males per 100 females)                                                                      3220 non-null   float64\n",
      " 92  sex and age_total population_65 years and over_1                                                                                                      3220 non-null   int64  \n",
      " 93  sex and age_total population_65 years and over_male                                                                                                   3220 non-null   int64  \n",
      " 94  sex and age_total population_65 years and over_female                                                                                                 3220 non-null   int64  \n",
      "dtypes: float64(3), int64(86), object(6)\n",
      "memory usage: 2.3+ MB\n"
     ]
    }
   ],
   "source": [
    "db2.info()"
   ]
  },
  {
   "cell_type": "markdown",
   "metadata": {},
   "source": [
    "Now, we have to deal with missing data in the objects before we can move on to visualization so:"
   ]
  },
  {
   "cell_type": "code",
   "execution_count": 13,
   "metadata": {},
   "outputs": [
    {
     "name": "stdout",
     "output_type": "stream",
     "text": [
      "2751 Suppressed\n",
      "2311 No Data\n",
      "2312 No Data\n",
      "2313 No Data\n",
      "2314 No Data\n",
      "2315 No Data\n",
      "2316 No Data\n",
      "2317 No Data\n",
      "2318 No Data\n",
      "2319 No Data\n",
      "2320 No Data\n",
      "2321 No Data\n",
      "2322 No Data\n",
      "2323 No Data\n",
      "2324 No Data\n",
      "2325 No Data\n",
      "2326 No Data\n",
      "2327 No Data\n",
      "2328 No Data\n",
      "2329 No Data\n",
      "2330 No Data\n",
      "2331 No Data\n",
      "2332 No Data\n",
      "2333 No Data\n",
      "2334 No Data\n",
      "2335 No Data\n",
      "2336 No Data\n",
      "2337 No Data\n",
      "2338 No Data\n",
      "2339 No Data\n",
      "2340 No Data\n",
      "2341 No Data\n",
      "2342 No Data\n",
      "2343 No Data\n",
      "2344 No Data\n",
      "2345 No Data\n",
      "2346 No Data\n",
      "2347 No Data\n",
      "2348 No Data\n",
      "2349 No Data\n",
      "2350 No Data\n",
      "2351 No Data\n",
      "2352 No Data\n",
      "2353 No Data\n",
      "2354 No Data\n",
      "2355 No Data\n",
      "2356 No Data\n",
      "2357 No Data\n",
      "2358 No Data\n",
      "2359 No Data\n",
      "2360 No Data\n",
      "2361 No Data\n",
      "2362 No Data\n",
      "2363 No Data\n",
      "2364 No Data\n",
      "2365 No Data\n",
      "2366 No Data\n",
      "2367 No Data\n",
      "2368 No Data\n",
      "2369 No Data\n",
      "2370 No Data\n",
      "2371 No Data\n",
      "2372 No Data\n",
      "2373 No Data\n",
      "2374 No Data\n",
      "2375 No Data\n",
      "2376 No Data\n",
      "2377 No Data\n",
      "2378 No Data\n",
      "2379 No Data\n",
      "2380 No Data\n",
      "2381 No Data\n",
      "2382 No Data\n",
      "2383 No Data\n",
      "2384 No Data\n",
      "2385 No Data\n",
      "2386 No Data\n",
      "2387 No Data\n",
      "2388 No Data\n",
      "2311 No Data\n",
      "2312 No Data\n",
      "2313 No Data\n",
      "2314 No Data\n",
      "2315 No Data\n",
      "2316 No Data\n",
      "2317 No Data\n",
      "2318 No Data\n",
      "2319 No Data\n",
      "2320 No Data\n",
      "2321 No Data\n",
      "2322 No Data\n",
      "2323 No Data\n",
      "2324 No Data\n",
      "2325 No Data\n",
      "2326 No Data\n",
      "2327 No Data\n",
      "2328 No Data\n",
      "2329 No Data\n",
      "2330 No Data\n",
      "2331 No Data\n",
      "2332 No Data\n",
      "2333 No Data\n",
      "2334 No Data\n",
      "2335 No Data\n",
      "2336 No Data\n",
      "2337 No Data\n",
      "2338 No Data\n",
      "2339 No Data\n",
      "2340 No Data\n",
      "2341 No Data\n",
      "2342 No Data\n",
      "2343 No Data\n",
      "2344 No Data\n",
      "2345 No Data\n",
      "2346 No Data\n",
      "2347 No Data\n",
      "2348 No Data\n",
      "2349 No Data\n",
      "2350 No Data\n",
      "2351 No Data\n",
      "2352 No Data\n",
      "2353 No Data\n",
      "2354 No Data\n",
      "2355 No Data\n",
      "2356 No Data\n",
      "2357 No Data\n",
      "2358 No Data\n",
      "2359 No Data\n",
      "2360 No Data\n",
      "2361 No Data\n",
      "2362 No Data\n",
      "2363 No Data\n",
      "2364 No Data\n",
      "2365 No Data\n",
      "2366 No Data\n",
      "2367 No Data\n",
      "2368 No Data\n",
      "2369 No Data\n",
      "2370 No Data\n",
      "2371 No Data\n",
      "2372 No Data\n",
      "2373 No Data\n",
      "2374 No Data\n",
      "2375 No Data\n",
      "2376 No Data\n",
      "2377 No Data\n",
      "2378 No Data\n",
      "2379 No Data\n",
      "2380 No Data\n",
      "2381 No Data\n",
      "2382 No Data\n",
      "2383 No Data\n",
      "2384 No Data\n",
      "2385 No Data\n",
      "2386 No Data\n",
      "2387 No Data\n",
      "2388 No Data\n"
     ]
    }
   ],
   "source": [
    " for category in [\"Diabetes_Number\", \"Obesity_Number\", \"Physical_Inactivity_Number\"]:\n",
    "    replacement = np.nan\n",
    "    for i in range(len(db2.loc[:,category])):\n",
    "        try:\n",
    "            db2.loc[i,category] = int(db2.loc[i,category])\n",
    "        except:\n",
    "            print(i, db2.loc[i,category])\n",
    "            db2.loc[i,category] = replacement"
   ]
  },
  {
   "cell_type": "markdown",
   "metadata": {},
   "source": [
    "Here we replace NaN with 0 so that Python can interpret this correctly"
   ]
  },
  {
   "cell_type": "code",
   "execution_count": 14,
   "metadata": {},
   "outputs": [],
   "source": [
    "db2=db2.replace(np.nan,0)"
   ]
  },
  {
   "cell_type": "markdown",
   "metadata": {},
   "source": [
    "Now that we have dealt with the NaN we can move on to converting our columns into integers for analysis"
   ]
  },
  {
   "cell_type": "code",
   "execution_count": 15,
   "metadata": {},
   "outputs": [],
   "source": [
    " db2.iloc[:,2:5] = db2.iloc[:,2:5].astype(int)"
   ]
  },
  {
   "cell_type": "code",
   "execution_count": 16,
   "metadata": {},
   "outputs": [
    {
     "data": {
      "text/plain": [
       "County                                                                               object\n",
       "State                                                                                object\n",
       "CountyFIPS                                                                            int64\n",
       "Diabetes_Number                                                                       int64\n",
       "Obesity_Number                                                                        int64\n",
       "                                                                                     ...   \n",
       "sex and age_total population_18 years and over_female                                 int64\n",
       "sex and age_total population_18 years and over_sex ratio (males per 100 females)    float64\n",
       "sex and age_total population_65 years and over_1                                      int64\n",
       "sex and age_total population_65 years and over_male                                   int64\n",
       "sex and age_total population_65 years and over_female                                 int64\n",
       "Length: 95, dtype: object"
      ]
     },
     "execution_count": 16,
     "metadata": {},
     "output_type": "execute_result"
    }
   ],
   "source": [
    "db2.dtypes"
   ]
  },
  {
   "cell_type": "markdown",
   "metadata": {},
   "source": [
    "Finally, we are going to take a quick glance at our columns (or features) and drop the ones that we will not use in the analysis"
   ]
  },
  {
   "cell_type": "code",
   "execution_count": 17,
   "metadata": {
    "scrolled": false
   },
   "outputs": [
    {
     "data": {
      "text/plain": [
       "Index(['County', 'State', 'CountyFIPS', 'Diabetes_Number', 'Obesity_Number',\n",
       "       'Physical_Inactivity_Number',\n",
       "       'sex and age_total population_65 years and over_sex ratio (males per 100 females)',\n",
       "       'race_total population', 'race_total population_one race',\n",
       "       'race_total population_two or more races',\n",
       "       'race_total population_one race_1',\n",
       "       'race_total population_one race_white',\n",
       "       'race_total population_one race_black or african american',\n",
       "       'race_total population_one race_american indian and alaska native',\n",
       "       'race_total population_one race_american indian and alaska native_cherokee tribal grouping',\n",
       "       'race_total population_one race_american indian and alaska native_chippewa tribal grouping',\n",
       "       'race_total population_one race_american indian and alaska native_navajo tribal grouping',\n",
       "       'race_total population_one race_american indian and alaska native_sioux tribal grouping',\n",
       "       'race_total population_one race_asian',\n",
       "       'race_total population_one race_asian_asian indian',\n",
       "       'race_total population_one race_asian_chinese',\n",
       "       'race_total population_one race_asian_filipino',\n",
       "       'race_total population_one race_asian_japanese',\n",
       "       'race_total population_one race_asian_korean',\n",
       "       'race_total population_one race_asian_vietnamese',\n",
       "       'race_total population_one race_asian_other asian',\n",
       "       'race_total population_one race_native hawaiian and other pacific islander',\n",
       "       'race_total population_one race_native hawaiian and other pacific islander_native hawaiian',\n",
       "       'race_total population_one race_native hawaiian and other pacific islander_guamanian or chamorro',\n",
       "       'race_total population_one race_native hawaiian and other pacific islander_samoan',\n",
       "       'race_total population_one race_native hawaiian and other pacific islander_other pacific islander',\n",
       "       'race_total population_one race_some other race',\n",
       "       'race_total population_two or more races_1',\n",
       "       'race_total population_two or more races_white and black or african american',\n",
       "       'race_total population_two or more races_white and american indian and alaska native',\n",
       "       'race_total population_two or more races_white and asian',\n",
       "       'race_total population_two or more races_black or african american and american indian and alaska native',\n",
       "       'race alone or in combination with one or more other races_total population',\n",
       "       'race alone or in combination with one or more other races_total population_white',\n",
       "       'race alone or in combination with one or more other races_total population_black or african american',\n",
       "       'race alone or in combination with one or more other races_total population_american indian and alaska native',\n",
       "       'race alone or in combination with one or more other races_total population_asian',\n",
       "       'race alone or in combination with one or more other races_total population_native hawaiian and other pacific islander',\n",
       "       'race alone or in combination with one or more other races_total population_some other race',\n",
       "       'hispanic or latino and race_total population',\n",
       "       'hispanic or latino and race_total population_hispanic or latino (of any race)',\n",
       "       'hispanic or latino and race_total population_hispanic or latino (of any race)_mexican',\n",
       "       'hispanic or latino and race_total population_hispanic or latino (of any race)_puerto rican',\n",
       "       'hispanic or latino and race_total population_hispanic or latino (of any race)_cuban',\n",
       "       'hispanic or latino and race_total population_hispanic or latino (of any race)_other hispanic or latino',\n",
       "       'hispanic or latino and race_total population_not hispanic or latino',\n",
       "       'hispanic or latino and race_total population_not hispanic or latino_white alone',\n",
       "       'hispanic or latino and race_total population_not hispanic or latino_black or african american alone',\n",
       "       'hispanic or latino and race_total population_not hispanic or latino_american indian and alaska native alone',\n",
       "       'hispanic or latino and race_total population_not hispanic or latino_asian alone',\n",
       "       'hispanic or latino and race_total population_not hispanic or latino_native hawaiian and other pacific islander alone',\n",
       "       'hispanic or latino and race_total population_not hispanic or latino_some other race alone',\n",
       "       'hispanic or latino and race_total population_not hispanic or latino_two or more races',\n",
       "       'hispanic or latino and race_total population_not hispanic or latino_two or more races_two races including some other race',\n",
       "       'hispanic or latino and race_total population_not hispanic or latino_two or more races_two races excluding some other race -  and three or more races',\n",
       "       'total housing units',\n",
       "       'citizen -  voting age population_citizen -  18 and over population',\n",
       "       'citizen -  voting age population_citizen -  18 and over population_male',\n",
       "       'citizen -  voting age population_citizen -  18 and over population_female',\n",
       "       'sex and age_total population', 'sex and age_total population_male',\n",
       "       'sex and age_total population_female',\n",
       "       'sex and age_total population_sex ratio (males per 100 females)',\n",
       "       'sex and age_total population_under 5 years',\n",
       "       'sex and age_total population_5 to 9 years',\n",
       "       'sex and age_total population_10 to 14 years',\n",
       "       'sex and age_total population_15 to 19 years',\n",
       "       'sex and age_total population_20 to 24 years',\n",
       "       'sex and age_total population_25 to 34 years',\n",
       "       'sex and age_total population_35 to 44 years',\n",
       "       'sex and age_total population_45 to 54 years',\n",
       "       'sex and age_total population_55 to 59 years',\n",
       "       'sex and age_total population_60 to 64 years',\n",
       "       'sex and age_total population_65 to 74 years',\n",
       "       'sex and age_total population_75 to 84 years',\n",
       "       'sex and age_total population_85 years and over',\n",
       "       'sex and age_total population_median age (years)',\n",
       "       'sex and age_total population_under 18 years',\n",
       "       'sex and age_total population_16 years and over',\n",
       "       'sex and age_total population_18 years and over',\n",
       "       'sex and age_total population_21 years and over',\n",
       "       'sex and age_total population_62 years and over',\n",
       "       'sex and age_total population_65 years and over',\n",
       "       'sex and age_total population_18 years and over_1',\n",
       "       'sex and age_total population_18 years and over_male',\n",
       "       'sex and age_total population_18 years and over_female',\n",
       "       'sex and age_total population_18 years and over_sex ratio (males per 100 females)',\n",
       "       'sex and age_total population_65 years and over_1',\n",
       "       'sex and age_total population_65 years and over_male',\n",
       "       'sex and age_total population_65 years and over_female'],\n",
       "      dtype='object')"
      ]
     },
     "execution_count": 17,
     "metadata": {},
     "output_type": "execute_result"
    }
   ],
   "source": [
    "#First, let's take a look at our columns\n",
    "columns = db2.columns\n",
    "\n",
    "#Print\n",
    "columns\n"
   ]
  },
  {
   "cell_type": "markdown",
   "metadata": {},
   "source": [
    "Drop Features/Columns that I want for analysis"
   ]
  },
  {
   "cell_type": "code",
   "execution_count": 18,
   "metadata": {},
   "outputs": [],
   "source": [
    "#Drop columns that we don't need \n",
    "cols = [0,1,6,61,62,63,64,67,81,82,83,84,85,86,87,88,89,90,91,92,93,94] \n",
    "db2.drop(db2.columns[cols],axis=1,inplace=True)"
   ]
  },
  {
   "cell_type": "markdown",
   "metadata": {},
   "source": [
    "## 1.1 Visualizations"
   ]
  },
  {
   "cell_type": "markdown",
   "metadata": {},
   "source": [
    "Now let's do some visualization with some feartures of interest"
   ]
  },
  {
   "cell_type": "code",
   "execution_count": 19,
   "metadata": {},
   "outputs": [
    {
     "data": {
      "text/plain": [
       "<matplotlib.axes._subplots.AxesSubplot at 0x7fb0a0126700>"
      ]
     },
     "execution_count": 19,
     "metadata": {},
     "output_type": "execute_result"
    },
    {
     "data": {
      "image/png": "[encoded data removed]",
      "text/plain": [
       "<Figure size 432x288 with 1 Axes>"
      ]
     },
     "metadata": {},
     "output_type": "display_data"
    }
   ],
   "source": [
    "#Regression Plot: Gender (men) and Obesity Number\n",
    "sns.regplot(x='sex and age_total population_male', y='Obesity_Number', data=db2)"
   ]
  },
  {
   "cell_type": "code",
   "execution_count": 20,
   "metadata": {},
   "outputs": [
    {
     "data": {
      "text/plain": [
       "<matplotlib.axes._subplots.AxesSubplot at 0x7fb0a1c4beb0>"
      ]
     },
     "execution_count": 20,
     "metadata": {},
     "output_type": "execute_result"
    },
    {
     "data": {
      "image/png": "[encoded data removed]",
      "text/plain": [
       "<Figure size 432x288 with 1 Axes>"
      ]
     },
     "metadata": {},
     "output_type": "display_data"
    }
   ],
   "source": [
    "#Regression Plot: Gender (women) and Obesity Number\n",
    "sns.regplot(x='sex and age_total population_female', y='Obesity_Number', data=db2)"
   ]
  },
  {
   "cell_type": "code",
   "execution_count": 21,
   "metadata": {},
   "outputs": [
    {
     "data": {
      "text/plain": [
       "<matplotlib.axes._subplots.AxesSubplot at 0x7fb0a1d5cca0>"
      ]
     },
     "execution_count": 21,
     "metadata": {},
     "output_type": "execute_result"
    },
    {
     "data": {
      "image/png": "[encoded data removed]",
      "text/plain": [
       "<Figure size 432x288 with 1 Axes>"
      ]
     },
     "metadata": {},
     "output_type": "display_data"
    }
   ],
   "source": [
    "#Regression Plot: Race (Black) and Obesity Number\n",
    "sns.regplot(x='race_total population_one race_black or african american', y='Obesity_Number', data=db2)"
   ]
  },
  {
   "cell_type": "code",
   "execution_count": 22,
   "metadata": {},
   "outputs": [
    {
     "data": {
      "text/plain": [
       "<matplotlib.axes._subplots.AxesSubplot at 0x7fb0a1c6ed30>"
      ]
     },
     "execution_count": 22,
     "metadata": {},
     "output_type": "execute_result"
    },
    {
     "data": {
      "image/png": "[encoded data removed]",
      "text/plain": [
       "<Figure size 432x288 with 1 Axes>"
      ]
     },
     "metadata": {},
     "output_type": "display_data"
    }
   ],
   "source": [
    "#Regression Plot: Race (white) and Obesity Number\n",
    "sns.regplot(x='race_total population_one race_white', y='Obesity_Number', data=db2)"
   ]
  },
  {
   "cell_type": "code",
   "execution_count": 23,
   "metadata": {},
   "outputs": [
    {
     "data": {
      "text/plain": [
       "<matplotlib.axes._subplots.AxesSubplot at 0x7fb0a1c6ed90>"
      ]
     },
     "execution_count": 23,
     "metadata": {},
     "output_type": "execute_result"
    },
    {
     "data": {
      "image/png": "[encoded data removed]",
      "text/plain": [
       "<Figure size 432x288 with 1 Axes>"
      ]
     },
     "metadata": {},
     "output_type": "display_data"
    }
   ],
   "source": [
    "#Regression Plot: Race (Asian) and Obesity Number\n",
    "sns.regplot(x='race_total population_one race_asian', y='Obesity_Number', data=db2)"
   ]
  },
  {
   "cell_type": "code",
   "execution_count": 24,
   "metadata": {},
   "outputs": [
    {
     "data": {
      "text/plain": [
       "Text(0.5, 1.0, 'Histogram of Obesity Number and Diabetes Number')"
      ]
     },
     "execution_count": 24,
     "metadata": {},
     "output_type": "execute_result"
    },
    {
     "data": {
      "image/png": "[encoded data removed]",
      "text/plain": [
       "<Figure size 432x288 with 1 Axes>"
      ]
     },
     "metadata": {},
     "output_type": "display_data"
    }
   ],
   "source": [
    "# Method 1: on the same Axis\n",
    "plt.xlim(0, 40000)\n",
    "plt.hist( db2[\"Diabetes_Number\"] , bins=500, label=\"Diabetes Number\", alpha =.4)\n",
    "plt.hist( db2[\"Obesity_Number\"] , bins=500, label=\"Obesity Number\", alpha =.3)\n",
    "plt.legend(loc= 'best')\n",
    "plt.xlabel(\"Data\", size=14)\n",
    "plt.ylabel(\"Count\", size=14)\n",
    "plt.title(\"Histogram of Obesity Number and Diabetes Number\")"
   ]
  },
  {
   "cell_type": "code",
   "execution_count": 25,
   "metadata": {
    "scrolled": true
   },
   "outputs": [
    {
     "data": {
      "text/plain": [
       "<matplotlib.legend.Legend at 0x7fb0a20aa4c0>"
      ]
     },
     "execution_count": 25,
     "metadata": {},
     "output_type": "execute_result"
    },
    {
     "data": {
      "image/png": "[encoded data removed]",
      "text/plain": [
       "<Figure size 432x288 with 1 Axes>"
      ]
     },
     "metadata": {},
     "output_type": "display_data"
    }
   ],
   "source": [
    "# Method 1: on the same Axis\n",
    "plt.xlim(0, 60000)\n",
    "plt.hist( db2['hispanic or latino and race_total population_hispanic or latino (of any race)'] , bins=500, label= 'Hispanic', alpha =.5)\n",
    "plt.hist( db2['race_total population_one race_black or african american'] , bins=500, label='Black', alpha =.5)\n",
    "plt.hist( db2['race_total population_one race_white'] , bins=500, label='White', alpha =.5)\n",
    "plt.xlabel(\"Data\", size=14)\n",
    "plt.ylabel(\"Count\", size=14)\n",
    "plt.title(\"Histogram of Race/Ethncity (White, Black, Hispanic)\")\n",
    "plt.legend(loc= 'best')\n"
   ]
  },
  {
   "cell_type": "markdown",
   "metadata": {},
   "source": [
    "## 1.2 Create a 'Diabetes_Proportion' Column"
   ]
  },
  {
   "cell_type": "code",
   "execution_count": 26,
   "metadata": {},
   "outputs": [],
   "source": [
    "db2['Diabetes_Proportion'] = db2['Diabetes_Number']/db2['race_total population']\n"
   ]
  },
  {
   "cell_type": "code",
   "execution_count": 27,
   "metadata": {},
   "outputs": [
    {
     "data": {
      "text/html": [
       "<div>\n",
       "<style scoped>\n",
       "    .dataframe tbody tr th:only-of-type {\n",
       "        vertical-align: middle;\n",
       "    }\n",
       "\n",
       "    .dataframe tbody tr th {\n",
       "        vertical-align: top;\n",
       "    }\n",
       "\n",
       "    .dataframe thead th {\n",
       "        text-align: right;\n",
       "    }\n",
       "</style>\n",
       "<table border=\"1\" class=\"dataframe\">\n",
       "  <thead>\n",
       "    <tr style=\"text-align: right;\">\n",
       "      <th></th>\n",
       "      <th>Diabetes_Proportion</th>\n",
       "    </tr>\n",
       "  </thead>\n",
       "  <tbody>\n",
       "    <tr>\n",
       "      <th>0</th>\n",
       "      <td>0.093804</td>\n",
       "    </tr>\n",
       "    <tr>\n",
       "      <th>1</th>\n",
       "      <td>0.080281</td>\n",
       "    </tr>\n",
       "    <tr>\n",
       "      <th>2</th>\n",
       "      <td>0.131875</td>\n",
       "    </tr>\n",
       "    <tr>\n",
       "      <th>3</th>\n",
       "      <td>0.105251</td>\n",
       "    </tr>\n",
       "    <tr>\n",
       "      <th>4</th>\n",
       "      <td>0.108977</td>\n",
       "    </tr>\n",
       "    <tr>\n",
       "      <th>...</th>\n",
       "      <td>...</td>\n",
       "    </tr>\n",
       "    <tr>\n",
       "      <th>3215</th>\n",
       "      <td>0.058028</td>\n",
       "    </tr>\n",
       "    <tr>\n",
       "      <th>3216</th>\n",
       "      <td>0.019038</td>\n",
       "    </tr>\n",
       "    <tr>\n",
       "      <th>3217</th>\n",
       "      <td>0.069872</td>\n",
       "    </tr>\n",
       "    <tr>\n",
       "      <th>3218</th>\n",
       "      <td>0.078361</td>\n",
       "    </tr>\n",
       "    <tr>\n",
       "      <th>3219</th>\n",
       "      <td>0.084648</td>\n",
       "    </tr>\n",
       "  </tbody>\n",
       "</table>\n",
       "<p>3220 rows × 1 columns</p>\n",
       "</div>"
      ],
      "text/plain": [
       "      Diabetes_Proportion\n",
       "0                0.093804\n",
       "1                0.080281\n",
       "2                0.131875\n",
       "3                0.105251\n",
       "4                0.108977\n",
       "...                   ...\n",
       "3215             0.058028\n",
       "3216             0.019038\n",
       "3217             0.069872\n",
       "3218             0.078361\n",
       "3219             0.084648\n",
       "\n",
       "[3220 rows x 1 columns]"
      ]
     },
     "execution_count": 27,
     "metadata": {},
     "output_type": "execute_result"
    }
   ],
   "source": [
    "db2[['Diabetes_Proportion']]"
   ]
  },
  {
   "cell_type": "markdown",
   "metadata": {},
   "source": [
    "Next we want to move the 'Diabetes_Proportion' column to the front of the dataframe"
   ]
  },
  {
   "cell_type": "code",
   "execution_count": 28,
   "metadata": {},
   "outputs": [],
   "source": [
    "col_name=\"Diabetes_Proportion\"\n",
    "first_col = db2.pop(col_name)\n",
    "db2.insert(2, col_name, first_col)"
   ]
  },
  {
   "cell_type": "code",
   "execution_count": 29,
   "metadata": {
    "scrolled": false
   },
   "outputs": [
    {
     "data": {
      "text/html": [
       "<div>\n",
       "<style scoped>\n",
       "    .dataframe tbody tr th:only-of-type {\n",
       "        vertical-align: middle;\n",
       "    }\n",
       "\n",
       "    .dataframe tbody tr th {\n",
       "        vertical-align: top;\n",
       "    }\n",
       "\n",
       "    .dataframe thead th {\n",
       "        text-align: right;\n",
       "    }\n",
       "</style>\n",
       "<table border=\"1\" class=\"dataframe\">\n",
       "  <thead>\n",
       "    <tr style=\"text-align: right;\">\n",
       "      <th></th>\n",
       "      <th>CountyFIPS</th>\n",
       "      <th>Diabetes_Number</th>\n",
       "      <th>Diabetes_Proportion</th>\n",
       "      <th>Obesity_Number</th>\n",
       "      <th>Physical_Inactivity_Number</th>\n",
       "      <th>race_total population</th>\n",
       "      <th>race_total population_one race</th>\n",
       "      <th>race_total population_two or more races</th>\n",
       "      <th>race_total population_one race_1</th>\n",
       "      <th>race_total population_one race_white</th>\n",
       "      <th>...</th>\n",
       "      <th>sex and age_total population_15 to 19 years</th>\n",
       "      <th>sex and age_total population_20 to 24 years</th>\n",
       "      <th>sex and age_total population_25 to 34 years</th>\n",
       "      <th>sex and age_total population_35 to 44 years</th>\n",
       "      <th>sex and age_total population_45 to 54 years</th>\n",
       "      <th>sex and age_total population_55 to 59 years</th>\n",
       "      <th>sex and age_total population_60 to 64 years</th>\n",
       "      <th>sex and age_total population_65 to 74 years</th>\n",
       "      <th>sex and age_total population_75 to 84 years</th>\n",
       "      <th>sex and age_total population_85 years and over</th>\n",
       "    </tr>\n",
       "  </thead>\n",
       "  <tbody>\n",
       "    <tr>\n",
       "      <th>0</th>\n",
       "      <td>1001</td>\n",
       "      <td>5178</td>\n",
       "      <td>0.093804</td>\n",
       "      <td>13489</td>\n",
       "      <td>12525</td>\n",
       "      <td>55200</td>\n",
       "      <td>54170</td>\n",
       "      <td>1030</td>\n",
       "      <td>54170</td>\n",
       "      <td>42437</td>\n",
       "      <td>...</td>\n",
       "      <td>3855</td>\n",
       "      <td>3337</td>\n",
       "      <td>7064</td>\n",
       "      <td>7374</td>\n",
       "      <td>7853</td>\n",
       "      <td>4131</td>\n",
       "      <td>2694</td>\n",
       "      <td>4711</td>\n",
       "      <td>2524</td>\n",
       "      <td>815</td>\n",
       "    </tr>\n",
       "    <tr>\n",
       "      <th>1</th>\n",
       "      <td>1003</td>\n",
       "      <td>16707</td>\n",
       "      <td>0.080281</td>\n",
       "      <td>48542</td>\n",
       "      <td>40024</td>\n",
       "      <td>208107</td>\n",
       "      <td>204535</td>\n",
       "      <td>3572</td>\n",
       "      <td>204535</td>\n",
       "      <td>179526</td>\n",
       "      <td>...</td>\n",
       "      <td>12707</td>\n",
       "      <td>10790</td>\n",
       "      <td>23326</td>\n",
       "      <td>25377</td>\n",
       "      <td>28330</td>\n",
       "      <td>14440</td>\n",
       "      <td>14851</td>\n",
       "      <td>24551</td>\n",
       "      <td>12165</td>\n",
       "      <td>3949</td>\n",
       "    </tr>\n",
       "    <tr>\n",
       "      <th>2</th>\n",
       "      <td>1005</td>\n",
       "      <td>3400</td>\n",
       "      <td>0.131875</td>\n",
       "      <td>8009</td>\n",
       "      <td>5431</td>\n",
       "      <td>25782</td>\n",
       "      <td>25429</td>\n",
       "      <td>353</td>\n",
       "      <td>25429</td>\n",
       "      <td>12216</td>\n",
       "      <td>...</td>\n",
       "      <td>1434</td>\n",
       "      <td>1658</td>\n",
       "      <td>3675</td>\n",
       "      <td>3104</td>\n",
       "      <td>3452</td>\n",
       "      <td>1657</td>\n",
       "      <td>1651</td>\n",
       "      <td>2820</td>\n",
       "      <td>1392</td>\n",
       "      <td>422</td>\n",
       "    </tr>\n",
       "    <tr>\n",
       "      <th>3</th>\n",
       "      <td>1007</td>\n",
       "      <td>2371</td>\n",
       "      <td>0.105251</td>\n",
       "      <td>6534</td>\n",
       "      <td>5827</td>\n",
       "      <td>22527</td>\n",
       "      <td>22340</td>\n",
       "      <td>187</td>\n",
       "      <td>22340</td>\n",
       "      <td>17268</td>\n",
       "      <td>...</td>\n",
       "      <td>1514</td>\n",
       "      <td>1491</td>\n",
       "      <td>3075</td>\n",
       "      <td>2895</td>\n",
       "      <td>3439</td>\n",
       "      <td>1494</td>\n",
       "      <td>1216</td>\n",
       "      <td>2122</td>\n",
       "      <td>1112</td>\n",
       "      <td>427</td>\n",
       "    </tr>\n",
       "    <tr>\n",
       "      <th>4</th>\n",
       "      <td>1009</td>\n",
       "      <td>6282</td>\n",
       "      <td>0.108977</td>\n",
       "      <td>14227</td>\n",
       "      <td>14365</td>\n",
       "      <td>57645</td>\n",
       "      <td>56710</td>\n",
       "      <td>935</td>\n",
       "      <td>56710</td>\n",
       "      <td>55054</td>\n",
       "      <td>...</td>\n",
       "      <td>3717</td>\n",
       "      <td>3189</td>\n",
       "      <td>6786</td>\n",
       "      <td>7153</td>\n",
       "      <td>7947</td>\n",
       "      <td>3895</td>\n",
       "      <td>3613</td>\n",
       "      <td>6132</td>\n",
       "      <td>3235</td>\n",
       "      <td>866</td>\n",
       "    </tr>\n",
       "    <tr>\n",
       "      <th>...</th>\n",
       "      <td>...</td>\n",
       "      <td>...</td>\n",
       "      <td>...</td>\n",
       "      <td>...</td>\n",
       "      <td>...</td>\n",
       "      <td>...</td>\n",
       "      <td>...</td>\n",
       "      <td>...</td>\n",
       "      <td>...</td>\n",
       "      <td>...</td>\n",
       "      <td>...</td>\n",
       "      <td>...</td>\n",
       "      <td>...</td>\n",
       "      <td>...</td>\n",
       "      <td>...</td>\n",
       "      <td>...</td>\n",
       "      <td>...</td>\n",
       "      <td>...</td>\n",
       "      <td>...</td>\n",
       "      <td>...</td>\n",
       "      <td>...</td>\n",
       "    </tr>\n",
       "    <tr>\n",
       "      <th>3215</th>\n",
       "      <td>56037</td>\n",
       "      <td>2560</td>\n",
       "      <td>0.058028</td>\n",
       "      <td>9362</td>\n",
       "      <td>7518</td>\n",
       "      <td>44117</td>\n",
       "      <td>43226</td>\n",
       "      <td>891</td>\n",
       "      <td>43226</td>\n",
       "      <td>41084</td>\n",
       "      <td>...</td>\n",
       "      <td>3157</td>\n",
       "      <td>2716</td>\n",
       "      <td>6551</td>\n",
       "      <td>6022</td>\n",
       "      <td>5274</td>\n",
       "      <td>3089</td>\n",
       "      <td>2676</td>\n",
       "      <td>3061</td>\n",
       "      <td>1215</td>\n",
       "      <td>445</td>\n",
       "    </tr>\n",
       "    <tr>\n",
       "      <th>3216</th>\n",
       "      <td>56039</td>\n",
       "      <td>439</td>\n",
       "      <td>0.019038</td>\n",
       "      <td>2051</td>\n",
       "      <td>2005</td>\n",
       "      <td>23059</td>\n",
       "      <td>22875</td>\n",
       "      <td>184</td>\n",
       "      <td>22875</td>\n",
       "      <td>20832</td>\n",
       "      <td>...</td>\n",
       "      <td>930</td>\n",
       "      <td>1097</td>\n",
       "      <td>4239</td>\n",
       "      <td>3733</td>\n",
       "      <td>3051</td>\n",
       "      <td>1485</td>\n",
       "      <td>1521</td>\n",
       "      <td>2087</td>\n",
       "      <td>764</td>\n",
       "      <td>284</td>\n",
       "    </tr>\n",
       "    <tr>\n",
       "      <th>3217</th>\n",
       "      <td>56041</td>\n",
       "      <td>1440</td>\n",
       "      <td>0.069872</td>\n",
       "      <td>4925</td>\n",
       "      <td>3519</td>\n",
       "      <td>20609</td>\n",
       "      <td>19891</td>\n",
       "      <td>718</td>\n",
       "      <td>19891</td>\n",
       "      <td>19252</td>\n",
       "      <td>...</td>\n",
       "      <td>1477</td>\n",
       "      <td>1139</td>\n",
       "      <td>2454</td>\n",
       "      <td>2698</td>\n",
       "      <td>2335</td>\n",
       "      <td>1762</td>\n",
       "      <td>1168</td>\n",
       "      <td>1605</td>\n",
       "      <td>606</td>\n",
       "      <td>287</td>\n",
       "    </tr>\n",
       "    <tr>\n",
       "      <th>3218</th>\n",
       "      <td>56043</td>\n",
       "      <td>637</td>\n",
       "      <td>0.078361</td>\n",
       "      <td>1738</td>\n",
       "      <td>1708</td>\n",
       "      <td>8129</td>\n",
       "      <td>7791</td>\n",
       "      <td>338</td>\n",
       "      <td>7791</td>\n",
       "      <td>7293</td>\n",
       "      <td>...</td>\n",
       "      <td>580</td>\n",
       "      <td>408</td>\n",
       "      <td>783</td>\n",
       "      <td>984</td>\n",
       "      <td>1021</td>\n",
       "      <td>581</td>\n",
       "      <td>607</td>\n",
       "      <td>967</td>\n",
       "      <td>528</td>\n",
       "      <td>191</td>\n",
       "    </tr>\n",
       "    <tr>\n",
       "      <th>3219</th>\n",
       "      <td>56045</td>\n",
       "      <td>601</td>\n",
       "      <td>0.084648</td>\n",
       "      <td>2015</td>\n",
       "      <td>1383</td>\n",
       "      <td>7100</td>\n",
       "      <td>6956</td>\n",
       "      <td>144</td>\n",
       "      <td>6956</td>\n",
       "      <td>6570</td>\n",
       "      <td>...</td>\n",
       "      <td>323</td>\n",
       "      <td>476</td>\n",
       "      <td>789</td>\n",
       "      <td>843</td>\n",
       "      <td>855</td>\n",
       "      <td>375</td>\n",
       "      <td>812</td>\n",
       "      <td>715</td>\n",
       "      <td>427</td>\n",
       "      <td>198</td>\n",
       "    </tr>\n",
       "  </tbody>\n",
       "</table>\n",
       "<p>3220 rows × 74 columns</p>\n",
       "</div>"
      ],
      "text/plain": [
       "      CountyFIPS  Diabetes_Number  Diabetes_Proportion  Obesity_Number  \\\n",
       "0           1001             5178             0.093804           13489   \n",
       "1           1003            16707             0.080281           48542   \n",
       "2           1005             3400             0.131875            8009   \n",
       "3           1007             2371             0.105251            6534   \n",
       "4           1009             6282             0.108977           14227   \n",
       "...          ...              ...                  ...             ...   \n",
       "3215       56037             2560             0.058028            9362   \n",
       "3216       56039              439             0.019038            2051   \n",
       "3217       56041             1440             0.069872            4925   \n",
       "3218       56043              637             0.078361            1738   \n",
       "3219       56045              601             0.084648            2015   \n",
       "\n",
       "      Physical_Inactivity_Number  race_total population  \\\n",
       "0                          12525                  55200   \n",
       "1                          40024                 208107   \n",
       "2                           5431                  25782   \n",
       "3                           5827                  22527   \n",
       "4                          14365                  57645   \n",
       "...                          ...                    ...   \n",
       "3215                        7518                  44117   \n",
       "3216                        2005                  23059   \n",
       "3217                        3519                  20609   \n",
       "3218                        1708                   8129   \n",
       "3219                        1383                   7100   \n",
       "\n",
       "      race_total population_one race  race_total population_two or more races  \\\n",
       "0                              54170                                     1030   \n",
       "1                             204535                                     3572   \n",
       "2                              25429                                      353   \n",
       "3                              22340                                      187   \n",
       "4                              56710                                      935   \n",
       "...                              ...                                      ...   \n",
       "3215                           43226                                      891   \n",
       "3216                           22875                                      184   \n",
       "3217                           19891                                      718   \n",
       "3218                            7791                                      338   \n",
       "3219                            6956                                      144   \n",
       "\n",
       "      race_total population_one race_1  race_total population_one race_white  \\\n",
       "0                                54170                                 42437   \n",
       "1                               204535                                179526   \n",
       "2                                25429                                 12216   \n",
       "3                                22340                                 17268   \n",
       "4                                56710                                 55054   \n",
       "...                                ...                                   ...   \n",
       "3215                             43226                                 41084   \n",
       "3216                             22875                                 20832   \n",
       "3217                             19891                                 19252   \n",
       "3218                              7791                                  7293   \n",
       "3219                              6956                                  6570   \n",
       "\n",
       "      ...  sex and age_total population_15 to 19 years  \\\n",
       "0     ...                                         3855   \n",
       "1     ...                                        12707   \n",
       "2     ...                                         1434   \n",
       "3     ...                                         1514   \n",
       "4     ...                                         3717   \n",
       "...   ...                                          ...   \n",
       "3215  ...                                         3157   \n",
       "3216  ...                                          930   \n",
       "3217  ...                                         1477   \n",
       "3218  ...                                          580   \n",
       "3219  ...                                          323   \n",
       "\n",
       "      sex and age_total population_20 to 24 years  \\\n",
       "0                                            3337   \n",
       "1                                           10790   \n",
       "2                                            1658   \n",
       "3                                            1491   \n",
       "4                                            3189   \n",
       "...                                           ...   \n",
       "3215                                         2716   \n",
       "3216                                         1097   \n",
       "3217                                         1139   \n",
       "3218                                          408   \n",
       "3219                                          476   \n",
       "\n",
       "      sex and age_total population_25 to 34 years  \\\n",
       "0                                            7064   \n",
       "1                                           23326   \n",
       "2                                            3675   \n",
       "3                                            3075   \n",
       "4                                            6786   \n",
       "...                                           ...   \n",
       "3215                                         6551   \n",
       "3216                                         4239   \n",
       "3217                                         2454   \n",
       "3218                                          783   \n",
       "3219                                          789   \n",
       "\n",
       "      sex and age_total population_35 to 44 years  \\\n",
       "0                                            7374   \n",
       "1                                           25377   \n",
       "2                                            3104   \n",
       "3                                            2895   \n",
       "4                                            7153   \n",
       "...                                           ...   \n",
       "3215                                         6022   \n",
       "3216                                         3733   \n",
       "3217                                         2698   \n",
       "3218                                          984   \n",
       "3219                                          843   \n",
       "\n",
       "      sex and age_total population_45 to 54 years  \\\n",
       "0                                            7853   \n",
       "1                                           28330   \n",
       "2                                            3452   \n",
       "3                                            3439   \n",
       "4                                            7947   \n",
       "...                                           ...   \n",
       "3215                                         5274   \n",
       "3216                                         3051   \n",
       "3217                                         2335   \n",
       "3218                                         1021   \n",
       "3219                                          855   \n",
       "\n",
       "      sex and age_total population_55 to 59 years  \\\n",
       "0                                            4131   \n",
       "1                                           14440   \n",
       "2                                            1657   \n",
       "3                                            1494   \n",
       "4                                            3895   \n",
       "...                                           ...   \n",
       "3215                                         3089   \n",
       "3216                                         1485   \n",
       "3217                                         1762   \n",
       "3218                                          581   \n",
       "3219                                          375   \n",
       "\n",
       "      sex and age_total population_60 to 64 years  \\\n",
       "0                                            2694   \n",
       "1                                           14851   \n",
       "2                                            1651   \n",
       "3                                            1216   \n",
       "4                                            3613   \n",
       "...                                           ...   \n",
       "3215                                         2676   \n",
       "3216                                         1521   \n",
       "3217                                         1168   \n",
       "3218                                          607   \n",
       "3219                                          812   \n",
       "\n",
       "      sex and age_total population_65 to 74 years  \\\n",
       "0                                            4711   \n",
       "1                                           24551   \n",
       "2                                            2820   \n",
       "3                                            2122   \n",
       "4                                            6132   \n",
       "...                                           ...   \n",
       "3215                                         3061   \n",
       "3216                                         2087   \n",
       "3217                                         1605   \n",
       "3218                                          967   \n",
       "3219                                          715   \n",
       "\n",
       "      sex and age_total population_75 to 84 years  \\\n",
       "0                                            2524   \n",
       "1                                           12165   \n",
       "2                                            1392   \n",
       "3                                            1112   \n",
       "4                                            3235   \n",
       "...                                           ...   \n",
       "3215                                         1215   \n",
       "3216                                          764   \n",
       "3217                                          606   \n",
       "3218                                          528   \n",
       "3219                                          427   \n",
       "\n",
       "      sex and age_total population_85 years and over  \n",
       "0                                                815  \n",
       "1                                               3949  \n",
       "2                                                422  \n",
       "3                                                427  \n",
       "4                                                866  \n",
       "...                                              ...  \n",
       "3215                                             445  \n",
       "3216                                             284  \n",
       "3217                                             287  \n",
       "3218                                             191  \n",
       "3219                                             198  \n",
       "\n",
       "[3220 rows x 74 columns]"
      ]
     },
     "execution_count": 29,
     "metadata": {},
     "output_type": "execute_result"
    }
   ],
   "source": [
    "db2"
   ]
  },
  {
   "cell_type": "markdown",
   "metadata": {},
   "source": [
    "# 2. The Test-Train-Validation Split "
   ]
  },
  {
   "cell_type": "markdown",
   "metadata": {},
   "source": [
    "So what we want to do is look at the features we'll be using for prediction"
   ]
  },
  {
   "cell_type": "code",
   "execution_count": 30,
   "metadata": {},
   "outputs": [],
   "source": [
    "#Feature used to predict diabetes_proportion\n",
    "X = db2.drop(['Diabetes_Proportion', 'Diabetes_Number', 'Obesity_Number'], axis = 1)\n",
    "\n",
    "#Proportion of diabetes by county \n",
    "y = db2['Diabetes_Proportion']"
   ]
  },
  {
   "cell_type": "code",
   "execution_count": 31,
   "metadata": {},
   "outputs": [],
   "source": [
    "#set the random seed\n",
    "np.random.seed(10)\n",
    "\n",
    "# split the data\n",
    "# train_test_split returns 4 values: X_train, X_test, y_train, y_test\n",
    "\n",
    "X_train, X_test, y_train, y_test = train_test_split(X, y,\n",
    "                                                    train_size=0.80, test_size=0.20)\n"
   ]
  },
  {
   "cell_type": "markdown",
   "metadata": {},
   "source": [
    "## 2.1 The Validation Set"
   ]
  },
  {
   "cell_type": "code",
   "execution_count": 32,
   "metadata": {},
   "outputs": [],
   "source": [
    "# split the data\n",
    "# Returns 4 values: X_train, X_validate, y_train, y_validate\n",
    "\n",
    "X_train, X_validate, y_train, y_validate = train_test_split(X_train, y_train,\n",
    "                                                    train_size=0.75, test_size=0.25)"
   ]
  },
  {
   "cell_type": "markdown",
   "metadata": {},
   "source": [
    "# 3. Train Models"
   ]
  },
  {
   "cell_type": "markdown",
   "metadata": {},
   "source": [
    "## 3.1 Linear Regression (OLS)"
   ]
  },
  {
   "cell_type": "code",
   "execution_count": 33,
   "metadata": {},
   "outputs": [],
   "source": [
    "# create a model\n",
    "lin_reg = LinearRegression(normalize=True)\n",
    "\n",
    "# fit the model\n",
    "lin_model = lin_reg.fit(X_train, y_train)\n"
   ]
  },
  {
   "cell_type": "markdown",
   "metadata": {},
   "source": [
    "# Basic Logic of OLS Regression, Pros/Cons, Plausibility \n",
    "In a basic, sense OLS makes sense for the number of counties with highest counts of people with diabetes because it invovles a continous variable. \n",
    "Ideally, you want to find parameters that minimize the error term. Your end goal here is to basically find a line that fits your data points. The appealing part of OLS  is that it is quite robust and that coefficients are unbiased estimators of alpha (the constant) and beta (the effect of each individual independent variable to the dependent variable). This method is plausible under the assumption that there is no multicollinearity between the independent variables in our limited dataset. \n",
    "OLS is also nice because it is generally easy to interpret. The cons of using it are that it can easily overfit models. If the number of observations (n) are equal to the number of predictors (p) then overfits can result in low accuracy on test data sets. \n"
   ]
  },
  {
   "cell_type": "code",
   "execution_count": 34,
   "metadata": {},
   "outputs": [
    {
     "name": "stdout",
     "output_type": "stream",
     "text": [
      "[ 3.48934303e-08  9.96358935e-07 -1.22041766e-07 -1.38593189e-07\n",
      "  4.38885739e-06 -1.38593189e-07 -1.21486614e-06  6.46261345e-06\n",
      "  7.21868207e-06  2.68430093e-06  6.89629218e-08  1.02907747e-06\n",
      "  9.72616146e-07  5.16462820e-06  1.98818846e-05  1.88969815e-05\n",
      "  1.93288346e-05  2.23501819e-05  1.96937052e-05  2.29616063e-05\n",
      "  1.97425506e-05  5.88132893e-07  2.41387949e-06 -7.15842917e-06\n",
      "  3.51377658e-06 -1.24504177e-06  1.41239249e-05  4.38885739e-06\n",
      " -5.40954142e-06 -9.00144060e-06 -2.36172002e-06 -3.83796390e-06\n",
      " -1.22041766e-07  3.55017116e-06 -3.22760751e-06 -3.27372787e-06\n",
      " -7.31122809e-06 -8.58668029e-06 -1.16305878e-05 -1.22041766e-07\n",
      "  9.49496723e-09  2.22386952e-08  1.66084160e-07 -3.19072818e-06\n",
      " -1.51603231e-07 -2.27043016e-07  1.02578963e-07 -6.24347010e-07\n",
      " -1.58230941e-06 -1.51517720e-05  1.47331574e-05 -3.28732864e-06\n",
      "  4.61035117e-07  2.46455817e-05  4.41811697e-07 -3.67826910e-07\n",
      " -3.82029525e-08 -4.35626921e-07 -3.67322957e-06 -2.24784639e-06\n",
      " -2.91882873e-07 -3.13487347e-06 -1.98693671e-06 -7.21238873e-07\n",
      " -1.85652464e-06  1.78086976e-08 -4.24751754e-06 -9.96434485e-08\n",
      " -1.01844695e-06  1.95938045e-06 -4.10620847e-06]\n",
      "0.0948281344755587\n"
     ]
    }
   ],
   "source": [
    "print(lin_model.coef_)\n",
    "print(lin_model.intercept_)"
   ]
  },
  {
   "cell_type": "markdown",
   "metadata": {},
   "source": [
    "Now we are going to visualize the coefficents"
   ]
  },
  {
   "cell_type": "code",
   "execution_count": 35,
   "metadata": {},
   "outputs": [
    {
     "name": "stdout",
     "output_type": "stream",
     "text": [
      "Feature: 0, Score: 0.000000\n",
      "Feature: 1, Score: 0.000001\n",
      "Feature: 2, Score: -0.000000\n",
      "Feature: 3, Score: -0.000000\n",
      "Feature: 4, Score: 0.000004\n",
      "Feature: 5, Score: -0.000000\n",
      "Feature: 6, Score: -0.000001\n",
      "Feature: 7, Score: 0.000006\n",
      "Feature: 8, Score: 0.000007\n",
      "Feature: 9, Score: 0.000003\n",
      "Feature: 10, Score: 0.000000\n",
      "Feature: 11, Score: 0.000001\n",
      "Feature: 12, Score: 0.000001\n",
      "Feature: 13, Score: 0.000005\n",
      "Feature: 14, Score: 0.000020\n",
      "Feature: 15, Score: 0.000019\n",
      "Feature: 16, Score: 0.000019\n",
      "Feature: 17, Score: 0.000022\n",
      "Feature: 18, Score: 0.000020\n",
      "Feature: 19, Score: 0.000023\n",
      "Feature: 20, Score: 0.000020\n",
      "Feature: 21, Score: 0.000001\n",
      "Feature: 22, Score: 0.000002\n",
      "Feature: 23, Score: -0.000007\n",
      "Feature: 24, Score: 0.000004\n",
      "Feature: 25, Score: -0.000001\n",
      "Feature: 26, Score: 0.000014\n",
      "Feature: 27, Score: 0.000004\n",
      "Feature: 28, Score: -0.000005\n",
      "Feature: 29, Score: -0.000009\n",
      "Feature: 30, Score: -0.000002\n",
      "Feature: 31, Score: -0.000004\n",
      "Feature: 32, Score: -0.000000\n",
      "Feature: 33, Score: 0.000004\n",
      "Feature: 34, Score: -0.000003\n",
      "Feature: 35, Score: -0.000003\n",
      "Feature: 36, Score: -0.000007\n",
      "Feature: 37, Score: -0.000009\n",
      "Feature: 38, Score: -0.000012\n",
      "Feature: 39, Score: -0.000000\n",
      "Feature: 40, Score: 0.000000\n",
      "Feature: 41, Score: 0.000000\n",
      "Feature: 42, Score: 0.000000\n",
      "Feature: 43, Score: -0.000003\n",
      "Feature: 44, Score: -0.000000\n",
      "Feature: 45, Score: -0.000000\n",
      "Feature: 46, Score: 0.000000\n",
      "Feature: 47, Score: -0.000001\n",
      "Feature: 48, Score: -0.000002\n",
      "Feature: 49, Score: -0.000015\n",
      "Feature: 50, Score: 0.000015\n",
      "Feature: 51, Score: -0.000003\n",
      "Feature: 52, Score: 0.000000\n",
      "Feature: 53, Score: 0.000025\n",
      "Feature: 54, Score: 0.000000\n",
      "Feature: 55, Score: -0.000000\n",
      "Feature: 56, Score: -0.000000\n",
      "Feature: 57, Score: -0.000000\n",
      "Feature: 58, Score: -0.000004\n",
      "Feature: 59, Score: -0.000002\n",
      "Feature: 60, Score: -0.000000\n",
      "Feature: 61, Score: -0.000003\n",
      "Feature: 62, Score: -0.000002\n",
      "Feature: 63, Score: -0.000001\n",
      "Feature: 64, Score: -0.000002\n",
      "Feature: 65, Score: 0.000000\n",
      "Feature: 66, Score: -0.000004\n",
      "Feature: 67, Score: -0.000000\n",
      "Feature: 68, Score: -0.000001\n",
      "Feature: 69, Score: 0.000002\n",
      "Feature: 70, Score: -0.000004\n"
     ]
    },
    {
     "data": {
      "image/png": "[encoded data removed]",
      "text/plain": [
       "<Figure size 432x288 with 1 Axes>"
      ]
     },
     "metadata": {},
     "output_type": "display_data"
    }
   ],
   "source": [
    "# get fearture importance\n",
    "importance_ols = lin_model.coef_\n",
    "# summarize feature importance\n",
    "for i,v in enumerate(importance_ols):\n",
    "\tprint('Feature: %0d, Score: %.6f' % (i,v))\n",
    "# plot feature importance\n",
    "plt.bar([x for x in range(len(importance_ols))], importance_ols)\n",
    "plt.show()"
   ]
  },
  {
   "cell_type": "code",
   "execution_count": 36,
   "metadata": {},
   "outputs": [
    {
     "data": {
      "image/png": "[encoded data removed]",
      "text/plain": [
       "<Figure size 432x288 with 1 Axes>"
      ]
     },
     "metadata": {},
     "output_type": "display_data"
    }
   ],
   "source": [
    "# predict the diabetes number\n",
    "lin_pred = lin_model.predict(X_validate)\n",
    "\n",
    "# plot the residuals on a scatter plot\n",
    "plt.scatter(y_validate, lin_pred)\n",
    "plt.title('Linear Model (OLS) Predicted v. Actual')\n",
    "plt.xlabel('actual value')\n",
    "plt.ylabel('predicted value')\n",
    "plt.show()"
   ]
  },
  {
   "cell_type": "markdown",
   "metadata": {},
   "source": [
    "Finally, we are going to calculate the **root means squared error** to get the average difference between the predicted and the actual values"
   ]
  },
  {
   "cell_type": "code",
   "execution_count": 37,
   "metadata": {},
   "outputs": [],
   "source": [
    "def rmse(pred, actual):\n",
    "    return np.sqrt(np.mean((pred - actual) ** 2))"
   ]
  },
  {
   "cell_type": "code",
   "execution_count": 38,
   "metadata": {},
   "outputs": [
    {
     "data": {
      "text/plain": [
       "0.11773747122326604"
      ]
     },
     "execution_count": 38,
     "metadata": {},
     "output_type": "execute_result"
    }
   ],
   "source": [
    "rmse(lin_pred, y_validate)"
   ]
  },
  {
   "cell_type": "markdown",
   "metadata": {},
   "source": [
    "## 3.2 Ridge Regression"
   ]
  },
  {
   "cell_type": "markdown",
   "metadata": {},
   "source": [
    "Now that we got the RMSE for OLS, we're going to do the same for Ridge Regression"
   ]
  },
  {
   "cell_type": "code",
   "execution_count": 39,
   "metadata": {},
   "outputs": [],
   "source": [
    "# make and fit a Ridge regression model\n",
    "ridge_reg = Ridge()\n",
    "ridge_model = ridge_reg.fit(X_train, y_train)\n",
    "ridge_reg_data = pd.DataFrame([ridge_model.coef_, X.columns]).T\n",
    "ridge_reg_data.columns = ['Coefficient', 'Feature']\n"
   ]
  },
  {
   "cell_type": "markdown",
   "metadata": {},
   "source": [
    "# Ridge Regression logic, Pros/Cons, Plausability \n",
    "\n",
    "The big pro of ridge regression is that these models deal really well with multicollinearity, an assumption that is assumed for OLS models. It is particularly useful when you have small observations (p) or when you have more n (variables) than p (observations). What is nice about Ridge Regression is that while it is strikingly similar to OLS, it introduces bias to the model. In this context, we label that bias as lambda which penalizes the model and then we use cross validation to see which results in the lowest amount of variance. The disadvantage of ridge regression is that it trades variance for bias. There's a dimensionality reduction that happens with this model that could result in bad fits for test data. "
   ]
  },
  {
   "cell_type": "code",
   "execution_count": 40,
   "metadata": {},
   "outputs": [
    {
     "name": "stdout",
     "output_type": "stream",
     "text": [
      "[ 3.48934303e-08  9.96358935e-07 -1.22041766e-07 -1.38593189e-07\n",
      "  4.38885739e-06 -1.38593189e-07 -1.21486614e-06  6.46261345e-06\n",
      "  7.21868207e-06  2.68430093e-06  6.89629218e-08  1.02907747e-06\n",
      "  9.72616146e-07  5.16462820e-06  1.98818846e-05  1.88969815e-05\n",
      "  1.93288346e-05  2.23501819e-05  1.96937052e-05  2.29616063e-05\n",
      "  1.97425506e-05  5.88132893e-07  2.41387949e-06 -7.15842917e-06\n",
      "  3.51377658e-06 -1.24504177e-06  1.41239249e-05  4.38885739e-06\n",
      " -5.40954142e-06 -9.00144060e-06 -2.36172002e-06 -3.83796390e-06\n",
      " -1.22041766e-07  3.55017116e-06 -3.22760751e-06 -3.27372787e-06\n",
      " -7.31122809e-06 -8.58668029e-06 -1.16305878e-05 -1.22041766e-07\n",
      "  9.49496723e-09  2.22386952e-08  1.66084160e-07 -3.19072818e-06\n",
      " -1.51603231e-07 -2.27043016e-07  1.02578963e-07 -6.24347010e-07\n",
      " -1.58230941e-06 -1.51517720e-05  1.47331574e-05 -3.28732864e-06\n",
      "  4.61035117e-07  2.46455817e-05  4.41811697e-07 -3.67826910e-07\n",
      " -3.82029525e-08 -4.35626921e-07 -3.67322957e-06 -2.24784639e-06\n",
      " -2.91882873e-07 -3.13487347e-06 -1.98693671e-06 -7.21238873e-07\n",
      " -1.85652464e-06  1.78086976e-08 -4.24751754e-06 -9.96434485e-08\n",
      " -1.01844695e-06  1.95938045e-06 -4.10620847e-06]\n",
      "0.0948281344755587\n"
     ]
    }
   ],
   "source": [
    "print(lin_model.coef_)\n",
    "print(lin_model.intercept_)"
   ]
  },
  {
   "cell_type": "markdown",
   "metadata": {},
   "source": [
    "#\n",
    "Now, we are going to plot the coefficients for the Ridge "
   ]
  },
  {
   "cell_type": "code",
   "execution_count": 41,
   "metadata": {},
   "outputs": [
    {
     "name": "stdout",
     "output_type": "stream",
     "text": [
      "Feature: 0, Score: 0.000000\n",
      "Feature: 1, Score: 0.000001\n",
      "Feature: 2, Score: 0.000001\n",
      "Feature: 3, Score: 0.000001\n",
      "Feature: 4, Score: 0.000001\n",
      "Feature: 5, Score: 0.000001\n",
      "Feature: 6, Score: -0.000010\n",
      "Feature: 7, Score: -0.000002\n",
      "Feature: 8, Score: -0.000001\n",
      "Feature: 9, Score: 0.000003\n",
      "Feature: 10, Score: 0.000000\n",
      "Feature: 11, Score: 0.000001\n",
      "Feature: 12, Score: 0.000001\n",
      "Feature: 13, Score: 0.000015\n",
      "Feature: 14, Score: 0.000002\n",
      "Feature: 15, Score: 0.000001\n",
      "Feature: 16, Score: 0.000001\n",
      "Feature: 17, Score: 0.000004\n",
      "Feature: 18, Score: 0.000001\n",
      "Feature: 19, Score: 0.000005\n",
      "Feature: 20, Score: 0.000001\n",
      "Feature: 21, Score: -0.000007\n",
      "Feature: 22, Score: 0.000001\n",
      "Feature: 23, Score: -0.000008\n",
      "Feature: 24, Score: 0.000002\n",
      "Feature: 25, Score: -0.000002\n",
      "Feature: 26, Score: 0.000006\n",
      "Feature: 27, Score: 0.000001\n",
      "Feature: 28, Score: -0.000005\n",
      "Feature: 29, Score: -0.000009\n",
      "Feature: 30, Score: -0.000002\n",
      "Feature: 31, Score: -0.000004\n",
      "Feature: 32, Score: 0.000001\n",
      "Feature: 33, Score: 0.000004\n",
      "Feature: 34, Score: -0.000003\n",
      "Feature: 35, Score: -0.000003\n",
      "Feature: 36, Score: -0.000007\n",
      "Feature: 37, Score: -0.000009\n",
      "Feature: 38, Score: -0.000012\n",
      "Feature: 39, Score: 0.000001\n",
      "Feature: 40, Score: -0.000000\n",
      "Feature: 41, Score: 0.000001\n",
      "Feature: 42, Score: 0.000001\n",
      "Feature: 43, Score: -0.000002\n",
      "Feature: 44, Score: 0.000001\n",
      "Feature: 45, Score: 0.000001\n",
      "Feature: 46, Score: -0.000000\n",
      "Feature: 47, Score: -0.000001\n",
      "Feature: 48, Score: -0.000002\n",
      "Feature: 49, Score: -0.000015\n",
      "Feature: 50, Score: 0.000014\n",
      "Feature: 51, Score: -0.000004\n",
      "Feature: 52, Score: 0.000008\n",
      "Feature: 53, Score: 0.000016\n",
      "Feature: 54, Score: -0.000008\n",
      "Feature: 55, Score: -0.000000\n",
      "Feature: 56, Score: 0.000001\n",
      "Feature: 57, Score: 0.000000\n",
      "Feature: 58, Score: -0.000002\n",
      "Feature: 59, Score: -0.000001\n",
      "Feature: 60, Score: 0.000001\n",
      "Feature: 61, Score: -0.000001\n",
      "Feature: 62, Score: -0.000000\n",
      "Feature: 63, Score: 0.000001\n",
      "Feature: 64, Score: -0.000000\n",
      "Feature: 65, Score: 0.000002\n",
      "Feature: 66, Score: -0.000003\n",
      "Feature: 67, Score: 0.000002\n",
      "Feature: 68, Score: 0.000001\n",
      "Feature: 69, Score: 0.000004\n",
      "Feature: 70, Score: -0.000002\n"
     ]
    },
    {
     "data": {
      "image/png": "[encoded data removed]",
      "text/plain": [
       "<Figure size 432x288 with 1 Axes>"
      ]
     },
     "metadata": {},
     "output_type": "display_data"
    }
   ],
   "source": [
    "# get feature importance\n",
    "importance_ridge = ridge_model.coef_\n",
    "# summarize feature importance\n",
    "for i,v in enumerate(importance_ridge):\n",
    "\tprint('Feature: %0d, Score: %.6f' % (i,v))\n",
    "# plot feature importance\n",
    "plt.bar([x for x in range(len(importance_ridge))], importance_ridge)\n",
    "plt.show()"
   ]
  },
  {
   "cell_type": "markdown",
   "metadata": {},
   "source": [
    "Now we are going to use the Ridge model to make predictions and visualize the predictions against the actual values."
   ]
  },
  {
   "cell_type": "code",
   "execution_count": 42,
   "metadata": {},
   "outputs": [
    {
     "data": {
      "image/png": "[encoded data removed]",
      "text/plain": [
       "<Figure size 432x288 with 1 Axes>"
      ]
     },
     "metadata": {},
     "output_type": "display_data"
    }
   ],
   "source": [
    "# use the model to make predictions\n",
    "ridge_pred = ridge_model.predict(X_validate)\n",
    "\n",
    "# plot the predictions\n",
    "plt.scatter(y_validate, ridge_pred)\n",
    "plt.title('Ridge Model')\n",
    "plt.xlabel('actual values')\n",
    "plt.ylabel('predicted values')\n",
    "plt.show()"
   ]
  },
  {
   "cell_type": "code",
   "execution_count": 43,
   "metadata": {},
   "outputs": [
    {
     "data": {
      "text/plain": [
       "0.11773746840171095"
      ]
     },
     "execution_count": 43,
     "metadata": {},
     "output_type": "execute_result"
    }
   ],
   "source": [
    "# calculate the rmse for the Ridge model\n",
    "rmse(ridge_pred, y_validate)"
   ]
  },
  {
   "cell_type": "markdown",
   "metadata": {},
   "source": [
    "## 3.3 LASSO Regression"
   ]
  },
  {
   "cell_type": "markdown",
   "metadata": {},
   "source": [
    "Now we'll try LASSO to compare its RMSE value to Ridge and Regression"
   ]
  },
  {
   "cell_type": "code",
   "execution_count": 44,
   "metadata": {},
   "outputs": [],
   "source": [
    "# create and fit the model\n",
    "lasso_reg = Lasso(tol=.2)\n",
    "\n",
    "lasso_model = lasso_reg.fit(X_train, y_train)\n",
    "lasso_reg_data = pd.DataFrame([lasso_model.coef_, X.columns]).T\n",
    "lasso_reg_data.columns = ['Coefficient', 'Feature']\n",
    "\n"
   ]
  },
  {
   "cell_type": "markdown",
   "metadata": {},
   "source": [
    "# Lasso logic, pros/cons, plausibility \n",
    "\n",
    "Lasso regression is quite similar in logic to ridge regression albeit different in that we multiply lambda by the absolute value of the slope to get the regression penalty. In the textbook, we learned that this results in shrinking the size of the coefficients to zero. The reason why it is plausible here is because in a dataset with lots of variables that are potentially unrelated to the model but ran with the model nonetheless, we can drop variables that do not contribute to our understanding of the relationship between x and y. In other words, this type of regression reduces variance particularly in models that have lots of features (independent variables) that are not useful/related to the outcome."
   ]
  },
  {
   "cell_type": "markdown",
   "metadata": {},
   "source": [
    "Plot the coefficients for Ridge and Lasso"
   ]
  },
  {
   "cell_type": "code",
   "execution_count": 45,
   "metadata": {},
   "outputs": [
    {
     "name": "stdout",
     "output_type": "stream",
     "text": [
      "Feature: 0, Score: 0.0000000420\n",
      "Feature: 1, Score: 0.0000006051\n",
      "Feature: 2, Score: -0.0000002102\n",
      "Feature: 3, Score: -0.0000000000\n",
      "Feature: 4, Score: -0.0000000000\n",
      "Feature: 5, Score: -0.0000000000\n",
      "Feature: 6, Score: -0.0000000292\n",
      "Feature: 7, Score: 0.0000000000\n",
      "Feature: 8, Score: 0.0000000000\n",
      "Feature: 9, Score: 0.0000000000\n",
      "Feature: 10, Score: -0.0000000000\n",
      "Feature: 11, Score: 0.0000002704\n",
      "Feature: 12, Score: -0.0000000000\n",
      "Feature: 13, Score: -0.0000000000\n",
      "Feature: 14, Score: -0.0000000000\n",
      "Feature: 15, Score: -0.0000001304\n",
      "Feature: 16, Score: 0.0000000000\n",
      "Feature: 17, Score: 0.0000000000\n",
      "Feature: 18, Score: 0.0000000000\n",
      "Feature: 19, Score: 0.0000016364\n",
      "Feature: 20, Score: -0.0000000495\n",
      "Feature: 21, Score: 0.0000000000\n",
      "Feature: 22, Score: -0.0000000000\n",
      "Feature: 23, Score: 0.0000000000\n",
      "Feature: 24, Score: 0.0000000000\n",
      "Feature: 25, Score: 0.0000000000\n",
      "Feature: 26, Score: 0.0000000226\n",
      "Feature: 27, Score: -0.0000000000\n",
      "Feature: 28, Score: 0.0000000000\n",
      "Feature: 29, Score: -0.0000000000\n",
      "Feature: 30, Score: 0.0000000000\n",
      "Feature: 31, Score: -0.0000000000\n",
      "Feature: 32, Score: 0.0000000000\n",
      "Feature: 33, Score: -0.0000000151\n",
      "Feature: 34, Score: 0.0000000526\n",
      "Feature: 35, Score: 0.0000000000\n",
      "Feature: 36, Score: -0.0000000076\n",
      "Feature: 37, Score: -0.0000000000\n",
      "Feature: 38, Score: 0.0000000000\n",
      "Feature: 39, Score: 0.0000000000\n",
      "Feature: 40, Score: 0.0000000000\n",
      "Feature: 41, Score: 0.0000000962\n",
      "Feature: 42, Score: 0.0000003574\n",
      "Feature: 43, Score: -0.0000011140\n",
      "Feature: 44, Score: -0.0000001705\n",
      "Feature: 45, Score: -0.0000000140\n",
      "Feature: 46, Score: -0.0000000088\n",
      "Feature: 47, Score: -0.0000000000\n",
      "Feature: 48, Score: 0.0000001408\n",
      "Feature: 49, Score: -0.0000000190\n",
      "Feature: 50, Score: 0.0000000000\n",
      "Feature: 51, Score: -0.0000000000\n",
      "Feature: 52, Score: -0.0000000000\n",
      "Feature: 53, Score: 0.0000000000\n",
      "Feature: 54, Score: -0.0000000000\n",
      "Feature: 55, Score: -0.0000001238\n",
      "Feature: 56, Score: 0.0000000908\n",
      "Feature: 57, Score: 0.0000000000\n",
      "Feature: 58, Score: -0.0000000000\n",
      "Feature: 59, Score: -0.0000000985\n",
      "Feature: 60, Score: -0.0000000000\n",
      "Feature: 61, Score: -0.0000004903\n",
      "Feature: 62, Score: -0.0000006938\n",
      "Feature: 63, Score: 0.0000003148\n",
      "Feature: 64, Score: 0.0000000085\n",
      "Feature: 65, Score: 0.0000004744\n",
      "Feature: 66, Score: -0.0000000000\n",
      "Feature: 67, Score: 0.0000000000\n",
      "Feature: 68, Score: 0.0000008875\n",
      "Feature: 69, Score: 0.0000005665\n",
      "Feature: 70, Score: -0.0000000000\n"
     ]
    },
    {
     "data": {
      "image/png": "[encoded data removed]",
      "text/plain": [
       "<Figure size 432x288 with 1 Axes>"
      ]
     },
     "metadata": {},
     "output_type": "display_data"
    }
   ],
   "source": [
    "# get feature importance\n",
    "importance_lasso = lasso_model.coef_\n",
    "# summarize feature importance\n",
    "for i,v in enumerate(importance_lasso):\n",
    "\tprint('Feature: %0d, Score: %.10f' % (i,v))\n",
    "# plot feature importance\n",
    "plt.bar([x for x in range(len(importance_lasso))], importance_lasso)\n",
    "plt.show()"
   ]
  },
  {
   "cell_type": "markdown",
   "metadata": {},
   "source": [
    "Now we're going to use the LASSO model to make predictions and visualize the predictions against the actual values. "
   ]
  },
  {
   "cell_type": "code",
   "execution_count": 46,
   "metadata": {},
   "outputs": [
    {
     "data": {
      "image/png": "[encoded data removed]",
      "text/plain": [
       "<Figure size 432x288 with 1 Axes>"
      ]
     },
     "metadata": {},
     "output_type": "display_data"
    }
   ],
   "source": [
    "\n",
    "# use the model to make predictions\n",
    "lasso_pred = lasso_model.predict(X_validate)\n",
    "\n",
    "# plot the predictions\n",
    "plt.scatter(y_validate, lasso_pred)\n",
    "plt.title('LASSO Model')\n",
    "plt.xlabel('actual values')\n",
    "plt.ylabel('predicted values')\n",
    "plt.show()"
   ]
  },
  {
   "cell_type": "code",
   "execution_count": 47,
   "metadata": {},
   "outputs": [
    {
     "data": {
      "text/plain": [
       "0.05278393031705666"
      ]
     },
     "execution_count": 47,
     "metadata": {},
     "output_type": "execute_result"
    }
   ],
   "source": [
    "#calculate the rmse for the Ridge model\n",
    "rmse(lasso_pred, y_validate)"
   ]
  },
  {
   "cell_type": "markdown",
   "metadata": {},
   "source": [
    "## 3.4 Elastic - Net"
   ]
  },
  {
   "cell_type": "code",
   "execution_count": 48,
   "metadata": {},
   "outputs": [],
   "source": [
    "# create and fit the model\n",
    "ElasNet_reg = ElasticNet(tol=.5)\n",
    "ElasNet_model = ElasNet_reg.fit(X_train, y_train)\n",
    "ElasNet_reg_data = pd.DataFrame([ElasNet_model.coef_, X.columns]).T\n",
    "ElasNet_reg_data.columns = ['Coefficient', 'Feature']\n"
   ]
  },
  {
   "cell_type": "markdown",
   "metadata": {},
   "source": [
    "# Elastic Net logic, pros/cons, plausibility \n",
    "Elastic Net Regression is a combination of both lasso and ridge regression methods. Elastic net both groups and shrinks the parameters associated with the outcome and either leaves them in the model or removes them simultaneously. The pros of the elastic net model is that it has a penalty that aids in generating a sparse model and a second penalty that helps overcome strict choosing of features. It also tends to handle correlated features as groups. "
   ]
  },
  {
   "cell_type": "code",
   "execution_count": 49,
   "metadata": {},
   "outputs": [
    {
     "name": "stdout",
     "output_type": "stream",
     "text": [
      "Feature: 0, Score: 0.0000000338\n",
      "Feature: 1, Score: -0.0000000867\n",
      "Feature: 2, Score: -0.0000000064\n",
      "Feature: 3, Score: -0.0000000000\n",
      "Feature: 4, Score: 0.0000000000\n",
      "Feature: 5, Score: -0.0000000000\n",
      "Feature: 6, Score: -0.0000000044\n",
      "Feature: 7, Score: 0.0000000450\n",
      "Feature: 8, Score: 0.0000000618\n",
      "Feature: 9, Score: 0.0000008994\n",
      "Feature: 10, Score: -0.0000000000\n",
      "Feature: 11, Score: 0.0000003481\n",
      "Feature: 12, Score: -0.0000000000\n",
      "Feature: 13, Score: -0.0000000355\n",
      "Feature: 14, Score: -0.0000001103\n",
      "Feature: 15, Score: -0.0000000217\n",
      "Feature: 16, Score: 0.0000002741\n",
      "Feature: 17, Score: -0.0000000000\n",
      "Feature: 18, Score: -0.0000006553\n",
      "Feature: 19, Score: 0.0000003287\n",
      "Feature: 20, Score: -0.0000003449\n",
      "Feature: 21, Score: 0.0000000000\n",
      "Feature: 22, Score: 0.0000000000\n",
      "Feature: 23, Score: 0.0000000000\n",
      "Feature: 24, Score: 0.0000000000\n",
      "Feature: 25, Score: 0.0000000000\n",
      "Feature: 26, Score: 0.0000000631\n",
      "Feature: 27, Score: -0.0000000948\n",
      "Feature: 28, Score: 0.0000000000\n",
      "Feature: 29, Score: -0.0000003262\n",
      "Feature: 30, Score: -0.0000000636\n",
      "Feature: 31, Score: -0.0000000000\n",
      "Feature: 32, Score: 0.0000000002\n",
      "Feature: 33, Score: -0.0000000031\n",
      "Feature: 34, Score: 0.0000000256\n",
      "Feature: 35, Score: -0.0000000013\n",
      "Feature: 36, Score: 0.0000000085\n",
      "Feature: 37, Score: 0.0000001336\n",
      "Feature: 38, Score: 0.0000000134\n",
      "Feature: 39, Score: -0.0000000048\n",
      "Feature: 40, Score: 0.0000000198\n",
      "Feature: 41, Score: -0.0000000005\n",
      "Feature: 42, Score: 0.0000002216\n",
      "Feature: 43, Score: -0.0000000000\n",
      "Feature: 44, Score: -0.0000001569\n",
      "Feature: 45, Score: -0.0000000054\n",
      "Feature: 46, Score: -0.0000000052\n",
      "Feature: 47, Score: 0.0000000310\n",
      "Feature: 48, Score: 0.0000001286\n",
      "Feature: 49, Score: 0.0000000210\n",
      "Feature: 50, Score: 0.0000000000\n",
      "Feature: 51, Score: -0.0000000000\n",
      "Feature: 52, Score: -0.0000000853\n",
      "Feature: 53, Score: 0.0000000000\n",
      "Feature: 54, Score: -0.0000000023\n",
      "Feature: 55, Score: 0.0000000011\n",
      "Feature: 56, Score: -0.0000000009\n",
      "Feature: 57, Score: 0.0000000000\n",
      "Feature: 58, Score: -0.0000000032\n",
      "Feature: 59, Score: -0.0000000000\n",
      "Feature: 60, Score: 0.0000000028\n",
      "Feature: 61, Score: -0.0000000276\n",
      "Feature: 62, Score: -0.0000000383\n",
      "Feature: 63, Score: 0.0000000201\n",
      "Feature: 64, Score: 0.0000000063\n",
      "Feature: 65, Score: 0.0000000072\n",
      "Feature: 66, Score: 0.0000000000\n",
      "Feature: 67, Score: 0.0000000081\n",
      "Feature: 68, Score: 0.0000000333\n",
      "Feature: 69, Score: 0.0000000437\n",
      "Feature: 70, Score: -0.0000000690\n"
     ]
    },
    {
     "data": {
      "image/png": "[encoded data removed]",
      "text/plain": [
       "<Figure size 432x288 with 1 Axes>"
      ]
     },
     "metadata": {},
     "output_type": "display_data"
    }
   ],
   "source": [
    "# get feature importance\n",
    "importance_ElasNet = ElasNet_model.coef_\n",
    "# summarize feature importance\n",
    "for i,v in enumerate(importance_ElasNet):\n",
    "\tprint('Feature: %0d, Score: %.10f' % (i,v))\n",
    "# plot feature importance\n",
    "plt.bar([x for x in range(len(importance_ElasNet))], importance_ElasNet)\n",
    "plt.show()"
   ]
  },
  {
   "cell_type": "code",
   "execution_count": 50,
   "metadata": {},
   "outputs": [
    {
     "data": {
      "image/png": "[encoded data removed]",
      "text/plain": [
       "<Figure size 432x288 with 1 Axes>"
      ]
     },
     "metadata": {},
     "output_type": "display_data"
    }
   ],
   "source": [
    "# use the model to make predictions\n",
    "ElasNet_pred = ElasNet_model.predict(X_validate)\n",
    "\n",
    "# plot the predictions\n",
    "plt.scatter(y_validate, lasso_pred)\n",
    "plt.title('Elastic net Model')\n",
    "plt.xlabel('actual values')\n",
    "plt.ylabel('predicted values')\n",
    "plt.show()"
   ]
  },
  {
   "cell_type": "code",
   "execution_count": 51,
   "metadata": {},
   "outputs": [
    {
     "data": {
      "text/plain": [
       "0.028597921493711664"
      ]
     },
     "execution_count": 51,
     "metadata": {},
     "output_type": "execute_result"
    }
   ],
   "source": [
    "#calculate the rmse for the Ridge model\n",
    "rmse(ElasNet_pred, y_validate)"
   ]
  },
  {
   "cell_type": "markdown",
   "metadata": {},
   "source": [
    "## 3.5 Random Forest"
   ]
  },
  {
   "cell_type": "code",
   "execution_count": 52,
   "metadata": {},
   "outputs": [],
   "source": [
    "# create and fit the model\n",
    "RandomF_reg = RandomForestRegressor(n_estimators= 71, random_state = 10)\n",
    "RandomF_model = RandomF_reg.fit(X_train, y_train)"
   ]
  },
  {
   "cell_type": "markdown",
   "metadata": {},
   "source": [
    "# Random Forest Logic, Pros/Cons, Plausibility\n",
    "\n",
    "This is an ensemble method that we haven't covered in class but we felt we had limited options for choosing a fifth model. We felt that we couldn't compare RMSEs across model if we reverted to using a logit model as our last and fifth model. Our understanding of the model is that the model creates a series of decision trees that run paralell to each other and (in the regression context) puts out the mean average regression of the individual trees. \n",
    "\n",
    "The big pros to random forest is that this model tends to run well on large databases , can give estimates of what variables are important for the mean average regression, and it seems to also effectively have a method for estimating missing data. We were a little less sure about our justification for using this model. One of the big cons of using Random Forest Trees is that they are pretty sensitive to the data on which they are trained. These decision tress can also be quite expensive to train. "
   ]
  },
  {
   "cell_type": "code",
   "execution_count": 53,
   "metadata": {},
   "outputs": [
    {
     "name": "stdout",
     "output_type": "stream",
     "text": [
      "Feature ranking:\n",
      "1. feature 7 (0.132831)\n",
      "2. feature 30 (0.077929)\n",
      "3. feature 36 (0.072291)\n",
      "4. feature 1 (0.061017)\n",
      "5. feature 0 (0.033812)\n",
      "6. feature 34 (0.032425)\n",
      "7. feature 69 (0.026330)\n",
      "8. feature 44 (0.020589)\n",
      "9. feature 20 (0.020491)\n",
      "10. feature 15 (0.019108)\n",
      "11. feature 41 (0.018650)\n",
      "12. feature 40 (0.018291)\n",
      "13. feature 70 (0.016818)\n",
      "14. feature 46 (0.015878)\n",
      "15. feature 9 (0.015829)\n",
      "16. feature 47 (0.013802)\n",
      "17. feature 18 (0.013562)\n",
      "18. feature 13 (0.013167)\n",
      "19. feature 58 (0.013144)\n",
      "20. feature 49 (0.013135)\n",
      "21. feature 59 (0.013084)\n",
      "22. feature 42 (0.012841)\n",
      "23. feature 68 (0.012821)\n",
      "24. feature 17 (0.011706)\n",
      "25. feature 62 (0.011615)\n",
      "26. feature 29 (0.011481)\n",
      "27. feature 28 (0.011479)\n",
      "28. feature 38 (0.011081)\n",
      "29. feature 61 (0.010657)\n",
      "30. feature 8 (0.010238)\n",
      "31. feature 26 (0.010189)\n",
      "32. feature 48 (0.010088)\n",
      "33. feature 60 (0.009936)\n",
      "34. feature 35 (0.009648)\n",
      "35. feature 16 (0.009421)\n",
      "36. feature 64 (0.009287)\n",
      "37. feature 66 (0.009153)\n",
      "38. feature 37 (0.008813)\n",
      "39. feature 55 (0.008299)\n",
      "40. feature 51 (0.007828)\n",
      "41. feature 63 (0.007710)\n",
      "42. feature 67 (0.007361)\n",
      "43. feature 31 (0.007304)\n",
      "44. feature 14 (0.007098)\n",
      "45. feature 6 (0.006571)\n",
      "46. feature 12 (0.006425)\n",
      "47. feature 4 (0.006424)\n",
      "48. feature 43 (0.006393)\n",
      "49. feature 19 (0.006364)\n",
      "50. feature 53 (0.005928)\n",
      "51. feature 27 (0.005770)\n",
      "52. feature 52 (0.005430)\n",
      "53. feature 65 (0.005084)\n",
      "54. feature 54 (0.004864)\n",
      "55. feature 50 (0.004585)\n",
      "56. feature 33 (0.004321)\n",
      "57. feature 21 (0.004249)\n",
      "58. feature 45 (0.004124)\n",
      "59. feature 22 (0.004053)\n",
      "60. feature 57 (0.003926)\n",
      "61. feature 11 (0.003780)\n",
      "62. feature 23 (0.003506)\n",
      "63. feature 10 (0.003402)\n",
      "64. feature 56 (0.003253)\n",
      "65. feature 24 (0.002955)\n",
      "66. feature 25 (0.002850)\n",
      "67. feature 3 (0.001749)\n",
      "68. feature 5 (0.001666)\n",
      "69. feature 2 (0.001489)\n",
      "70. feature 39 (0.001317)\n",
      "71. feature 32 (0.001283)\n"
     ]
    }
   ],
   "source": [
    "# Build a forest and compute the impurity-based feature importances\n",
    "importances = RandomF_model.feature_importances_\n",
    "std = np.std([tree.feature_importances_ for tree in RandomF_model.estimators_],\n",
    "             axis=0)\n",
    "indices = np.argsort(importances)[::-1]\n",
    "\n",
    "# Print the feature ranking\n",
    "print(\"Feature ranking:\")\n",
    "\n",
    "for f in range(X.shape[1]):\n",
    "    print(\"%d. feature %d (%f)\" % (f + 1, indices[f], importances[indices[f]]))"
   ]
  },
  {
   "cell_type": "code",
   "execution_count": 90,
   "metadata": {},
   "outputs": [
    {
     "data": {
      "text/html": [
       "<div>\n",
       "<style scoped>\n",
       "    .dataframe tbody tr th:only-of-type {\n",
       "        vertical-align: middle;\n",
       "    }\n",
       "\n",
       "    .dataframe tbody tr th {\n",
       "        vertical-align: top;\n",
       "    }\n",
       "\n",
       "    .dataframe thead th {\n",
       "        text-align: right;\n",
       "    }\n",
       "</style>\n",
       "<table border=\"1\" class=\"dataframe\">\n",
       "  <thead>\n",
       "    <tr style=\"text-align: right;\">\n",
       "      <th></th>\n",
       "      <th>CountyFIPS</th>\n",
       "      <th>Physical_Inactivity_Number</th>\n",
       "      <th>race_total population</th>\n",
       "      <th>race_total population_one race</th>\n",
       "      <th>race_total population_two or more races</th>\n",
       "    </tr>\n",
       "  </thead>\n",
       "  <tbody>\n",
       "    <tr>\n",
       "      <th>0</th>\n",
       "      <td>1001</td>\n",
       "      <td>12525</td>\n",
       "      <td>55200</td>\n",
       "      <td>54170</td>\n",
       "      <td>1030</td>\n",
       "    </tr>\n",
       "    <tr>\n",
       "      <th>1</th>\n",
       "      <td>1003</td>\n",
       "      <td>40024</td>\n",
       "      <td>208107</td>\n",
       "      <td>204535</td>\n",
       "      <td>3572</td>\n",
       "    </tr>\n",
       "    <tr>\n",
       "      <th>2</th>\n",
       "      <td>1005</td>\n",
       "      <td>5431</td>\n",
       "      <td>25782</td>\n",
       "      <td>25429</td>\n",
       "      <td>353</td>\n",
       "    </tr>\n",
       "    <tr>\n",
       "      <th>3</th>\n",
       "      <td>1007</td>\n",
       "      <td>5827</td>\n",
       "      <td>22527</td>\n",
       "      <td>22340</td>\n",
       "      <td>187</td>\n",
       "    </tr>\n",
       "    <tr>\n",
       "      <th>4</th>\n",
       "      <td>1009</td>\n",
       "      <td>14365</td>\n",
       "      <td>57645</td>\n",
       "      <td>56710</td>\n",
       "      <td>935</td>\n",
       "    </tr>\n",
       "    <tr>\n",
       "      <th>...</th>\n",
       "      <td>...</td>\n",
       "      <td>...</td>\n",
       "      <td>...</td>\n",
       "      <td>...</td>\n",
       "      <td>...</td>\n",
       "    </tr>\n",
       "    <tr>\n",
       "      <th>3215</th>\n",
       "      <td>56037</td>\n",
       "      <td>7518</td>\n",
       "      <td>44117</td>\n",
       "      <td>43226</td>\n",
       "      <td>891</td>\n",
       "    </tr>\n",
       "    <tr>\n",
       "      <th>3216</th>\n",
       "      <td>56039</td>\n",
       "      <td>2005</td>\n",
       "      <td>23059</td>\n",
       "      <td>22875</td>\n",
       "      <td>184</td>\n",
       "    </tr>\n",
       "    <tr>\n",
       "      <th>3217</th>\n",
       "      <td>56041</td>\n",
       "      <td>3519</td>\n",
       "      <td>20609</td>\n",
       "      <td>19891</td>\n",
       "      <td>718</td>\n",
       "    </tr>\n",
       "    <tr>\n",
       "      <th>3218</th>\n",
       "      <td>56043</td>\n",
       "      <td>1708</td>\n",
       "      <td>8129</td>\n",
       "      <td>7791</td>\n",
       "      <td>338</td>\n",
       "    </tr>\n",
       "    <tr>\n",
       "      <th>3219</th>\n",
       "      <td>56045</td>\n",
       "      <td>1383</td>\n",
       "      <td>7100</td>\n",
       "      <td>6956</td>\n",
       "      <td>144</td>\n",
       "    </tr>\n",
       "  </tbody>\n",
       "</table>\n",
       "<p>3220 rows × 5 columns</p>\n",
       "</div>"
      ],
      "text/plain": [
       "      CountyFIPS  Physical_Inactivity_Number  race_total population  \\\n",
       "0           1001                       12525                  55200   \n",
       "1           1003                       40024                 208107   \n",
       "2           1005                        5431                  25782   \n",
       "3           1007                        5827                  22527   \n",
       "4           1009                       14365                  57645   \n",
       "...          ...                         ...                    ...   \n",
       "3215       56037                        7518                  44117   \n",
       "3216       56039                        2005                  23059   \n",
       "3217       56041                        3519                  20609   \n",
       "3218       56043                        1708                   8129   \n",
       "3219       56045                        1383                   7100   \n",
       "\n",
       "      race_total population_one race  race_total population_two or more races  \n",
       "0                              54170                                     1030  \n",
       "1                             204535                                     3572  \n",
       "2                              25429                                      353  \n",
       "3                              22340                                      187  \n",
       "4                              56710                                      935  \n",
       "...                              ...                                      ...  \n",
       "3215                           43226                                      891  \n",
       "3216                           22875                                      184  \n",
       "3217                           19891                                      718  \n",
       "3218                            7791                                      338  \n",
       "3219                            6956                                      144  \n",
       "\n",
       "[3220 rows x 5 columns]"
      ]
     },
     "execution_count": 90,
     "metadata": {},
     "output_type": "execute_result"
    }
   ],
   "source": [
    "X.iloc[:,0:5]"
   ]
  },
  {
   "cell_type": "markdown",
   "metadata": {},
   "source": [
    "Plot Feature Importance"
   ]
  },
  {
   "cell_type": "code",
   "execution_count": 54,
   "metadata": {},
   "outputs": [
    {
     "data": {
      "image/png": "[encoded data removed]",
      "text/plain": [
       "<Figure size 432x288 with 1 Axes>"
      ]
     },
     "metadata": {},
     "output_type": "display_data"
    }
   ],
   "source": [
    "plt.figure()\n",
    "plt.title(\"Feature importances\")\n",
    "plt.bar(range(X.shape[1]), importances[indices],\n",
    "        color=\"r\", yerr=std[indices], align=\"center\", width=.8)\n",
    "plt.xticks(range(X.shape[1]), indices)\n",
    "plt.xlim([-1, X.shape[1]])\n",
    "plt.show()"
   ]
  },
  {
   "cell_type": "code",
   "execution_count": 55,
   "metadata": {},
   "outputs": [
    {
     "data": {
      "image/png": "[encoded data removed]",
      "text/plain": [
       "<Figure size 432x288 with 1 Axes>"
      ]
     },
     "metadata": {},
     "output_type": "display_data"
    }
   ],
   "source": [
    "# use the model to make predictions\n",
    "RandomF_pred = RandomF_model.predict(X_validate)\n",
    "\n",
    "# plot the predictions\n",
    "plt.scatter(y_validate, RandomF_pred)\n",
    "plt.title('Random Forest Model')\n",
    "plt.xlabel('actual values')\n",
    "plt.ylabel('predicted values')\n",
    "plt.show()"
   ]
  },
  {
   "cell_type": "code",
   "execution_count": 56,
   "metadata": {},
   "outputs": [
    {
     "data": {
      "text/plain": [
       "0.020170120240613244"
      ]
     },
     "execution_count": 56,
     "metadata": {},
     "output_type": "execute_result"
    }
   ],
   "source": [
    "#calculate the rmse for the Random Forest model\n",
    "rmse(RandomF_pred, y_validate)"
   ]
  },
  {
   "cell_type": "markdown",
   "metadata": {},
   "source": [
    "# 4. Hyperparameter Tuning (OLS, Ridge, LASSO, Elastic Net)"
   ]
  },
  {
   "cell_type": "markdown",
   "metadata": {},
   "source": [
    "Hyperparameter tuning for OLS"
   ]
  },
  {
   "cell_type": "code",
   "execution_count": 57,
   "metadata": {},
   "outputs": [
    {
     "name": "stdout",
     "output_type": "stream",
     "text": [
      "{'fit_intercept': 'True', 'normalize': 'True'}\n",
      "Best CV R^2: -1.53365658767921\n",
      "Validation R^2: -16.877525469014383\n",
      "Validation RMSE 0.11773747122326604\n"
     ]
    },
    {
     "name": "stderr",
     "output_type": "stream",
     "text": [
      "/opt/anaconda3/lib/python3.8/site-packages/sklearn/model_selection/_search.py:847: FutureWarning: The parameter 'iid' is deprecated in 0.22 and will be removed in 0.24.\n",
      "  warnings.warn(\n"
     ]
    }
   ],
   "source": [
    "param_grid = {'fit_intercept': ['True', 'False'],\n",
    "              'normalize': ['True', 'False']}\n",
    "\n",
    "lin_grid_reg = GridSearchCV(lin_reg, param_grid, cv=3, iid=False)\n",
    "lin_grid_reg.fit(X_train, y_train)\n",
    "\n",
    "best_index = np.argmax(lin_grid_reg.cv_results_[\"mean_test_score\"])\n",
    "best_lin_pred = lin_grid_reg.best_estimator_.predict(X_validate)\n",
    "\n",
    "print(lin_grid_reg.cv_results_[\"params\"][best_index])\n",
    "print('Best CV R^2:', max(lin_grid_reg.cv_results_[\"mean_test_score\"]))\n",
    "print('Validation R^2:', lin_grid_reg.score(X_validate, y_validate))\n",
    "print('Validation RMSE', rmse(best_lin_pred, y_validate))"
   ]
  },
  {
   "cell_type": "markdown",
   "metadata": {},
   "source": [
    "Hyperparameter tuning for Ridge"
   ]
  },
  {
   "cell_type": "code",
   "execution_count": 58,
   "metadata": {},
   "outputs": [
    {
     "name": "stdout",
     "output_type": "stream",
     "text": [
      "{'alpha': 0.1, 'fit_intercept': 'True', 'normalize': 'True', 'solver': 'lsqr'}\n",
      "Best CV R^2: 0.07206778477901021\n",
      "Validation R^2: -0.24308830651034197\n",
      "Validation RMSE 0.031046453115562846\n"
     ]
    },
    {
     "name": "stderr",
     "output_type": "stream",
     "text": [
      "/opt/anaconda3/lib/python3.8/site-packages/sklearn/model_selection/_search.py:847: FutureWarning: The parameter 'iid' is deprecated in 0.22 and will be removed in 0.24.\n",
      "  warnings.warn(\n"
     ]
    }
   ],
   "source": [
    "param_grid = {'alpha': np.arange(.1, 1, .1),\n",
    "               'normalize': ['True', 'False'],\n",
    "             'fit_intercept': ['True', 'False'],\n",
    "             'solver': ['auto', 'svd', 'cholesky', 'lsqr']}\n",
    "\n",
    "ridge_grid_reg = GridSearchCV(ridge_reg, param_grid, cv=3, iid=False)\n",
    "ridge_grid_reg.fit(X_train, y_train)\n",
    "\n",
    "best_index = np.argmax(ridge_grid_reg.cv_results_[\"mean_test_score\"])\n",
    "best_ridge_pred = ridge_grid_reg.best_estimator_.predict(X_validate)\n",
    "\n",
    "print(ridge_grid_reg.cv_results_[\"params\"][best_index])\n",
    "print('Best CV R^2:', max(ridge_grid_reg.cv_results_[\"mean_test_score\"]))\n",
    "print('Validation R^2:', ridge_grid_reg.score(X_validate, y_validate))\n",
    "print('Validation RMSE', rmse(best_ridge_pred, y_validate))"
   ]
  },
  {
   "cell_type": "markdown",
   "metadata": {},
   "source": [
    "Hyperparameter tuning for lasso"
   ]
  },
  {
   "cell_type": "code",
   "execution_count": 59,
   "metadata": {},
   "outputs": [
    {
     "name": "stdout",
     "output_type": "stream",
     "text": [
      "{'alpha': 0.1, 'fit_intercept': 'True', 'normalize': 'True', 'selection': 'cyclic'}\n",
      "Best CV R^2: -0.0026781316162793147\n",
      "Validation R^2: -0.001017233533549211\n",
      "Validation RMSE 0.027860042732923886\n"
     ]
    },
    {
     "name": "stderr",
     "output_type": "stream",
     "text": [
      "/opt/anaconda3/lib/python3.8/site-packages/sklearn/model_selection/_search.py:847: FutureWarning: The parameter 'iid' is deprecated in 0.22 and will be removed in 0.24.\n",
      "  warnings.warn(\n"
     ]
    }
   ],
   "source": [
    "param_grid = {'alpha': np.arange(.1, 1, .1),\n",
    "               'normalize': ['True', 'False'],\n",
    "             'fit_intercept': ['True', 'False'],\n",
    "             'selection': ['cyclic', 'random']}\n",
    "\n",
    "lasso_grid_reg = GridSearchCV(lasso_reg, param_grid, cv=3, iid=False)\n",
    "lasso_grid_reg.fit(X_train, y_train)\n",
    "\n",
    "best_index = np.argmax(lasso_grid_reg.cv_results_[\"mean_test_score\"])\n",
    "best_lasso_pred = lasso_grid_reg.best_estimator_.predict(X_validate)\n",
    "\n",
    "print(lasso_grid_reg.cv_results_[\"params\"][best_index])\n",
    "print('Best CV R^2:', max(lasso_grid_reg.cv_results_[\"mean_test_score\"]))\n",
    "print('Validation R^2:', lasso_grid_reg.score(X_validate, y_validate))\n",
    "print('Validation RMSE', rmse(best_lasso_pred, y_validate))"
   ]
  },
  {
   "cell_type": "markdown",
   "metadata": {},
   "source": [
    "Hyperparameter tuning for Elastic Net"
   ]
  },
  {
   "cell_type": "code",
   "execution_count": 60,
   "metadata": {},
   "outputs": [
    {
     "name": "stdout",
     "output_type": "stream",
     "text": [
      "{'alpha': 0.1, 'fit_intercept': 'True', 'normalize': 'True', 'selection': 'cyclic'}\n",
      "Best CV R^2: -0.0026781316162793147\n",
      "Validation R^2: -0.001017233533549211\n",
      "Validation RMSE 0.027860042732923886\n"
     ]
    },
    {
     "name": "stderr",
     "output_type": "stream",
     "text": [
      "/opt/anaconda3/lib/python3.8/site-packages/sklearn/model_selection/_search.py:847: FutureWarning: The parameter 'iid' is deprecated in 0.22 and will be removed in 0.24.\n",
      "  warnings.warn(\n"
     ]
    }
   ],
   "source": [
    "param_grid = {'alpha': np.arange(.1, 1, .1),\n",
    "               'normalize': ['True', 'False'],\n",
    "             'fit_intercept': ['True', 'False'],\n",
    "             'selection': ['cyclic', 'random']}\n",
    "\n",
    "ElasNet_grid_reg = GridSearchCV(ElasNet_reg, param_grid, cv=3, iid=False)\n",
    "ElasNet_grid_reg.fit(X_train, y_train)\n",
    "\n",
    "best_index = np.argmax(ElasNet_grid_reg.cv_results_[\"mean_test_score\"])\n",
    "best_ElasNet_pred = ElasNet_grid_reg.best_estimator_.predict(X_validate)\n",
    "\n",
    "print(ElasNet_grid_reg.cv_results_[\"params\"][best_index])\n",
    "print('Best CV R^2:', max(ElasNet_grid_reg.cv_results_[\"mean_test_score\"]))\n",
    "print('Validation R^2:', ElasNet_grid_reg.score(X_validate, y_validate))\n",
    "print('Validation RMSE', rmse(best_ElasNet_pred, y_validate))"
   ]
  },
  {
   "cell_type": "markdown",
   "metadata": {},
   "source": [
    "Hyperperamter Tuning for Random Forest"
   ]
  },
  {
   "cell_type": "code",
   "execution_count": 61,
   "metadata": {},
   "outputs": [
    {
     "name": "stderr",
     "output_type": "stream",
     "text": [
      "/opt/anaconda3/lib/python3.8/site-packages/sklearn/model_selection/_search.py:847: FutureWarning: The parameter 'iid' is deprecated in 0.22 and will be removed in 0.24.\n",
      "  warnings.warn(\n"
     ]
    },
    {
     "name": "stdout",
     "output_type": "stream",
     "text": [
      "{'max_features': 'auto'}\n",
      "Best CV R^2: 0.3898733352879417\n",
      "Validation R^2: 0.4753194413408446\n",
      "Validation RMSE 0.020170120240613244\n"
     ]
    }
   ],
   "source": [
    "param_grid = {'max_features': ['auto', 'sqrt']}\n",
    "\n",
    "RandomF_grid_reg = GridSearchCV(RandomF_reg, param_grid, cv=3, iid=False)\n",
    "RandomF_grid_reg.fit(X_train, y_train)\n",
    "\n",
    "best_index = np.argmax(RandomF_grid_reg.cv_results_[\"mean_test_score\"])\n",
    "best_RandomF_pred = RandomF_grid_reg.best_estimator_.predict(X_validate)\n",
    "\n",
    "print(RandomF_grid_reg.cv_results_[\"params\"][best_index])\n",
    "print('Best CV R^2:', max(RandomF_grid_reg.cv_results_[\"mean_test_score\"]))\n",
    "print('Validation R^2:', RandomF_grid_reg.score(X_validate, y_validate))\n",
    "print('Validation RMSE', rmse(best_RandomF_pred, y_validate))"
   ]
  },
  {
   "cell_type": "markdown",
   "metadata": {},
   "source": [
    "# 5. Test Set Using Random Forest"
   ]
  },
  {
   "cell_type": "code",
   "execution_count": 62,
   "metadata": {},
   "outputs": [
    {
     "data": {
      "text/plain": [
       "SelectFromModel(estimator=RandomForestRegressor(n_estimators=71,\n",
       "                                                random_state=10),\n",
       "                threshold=0.013)"
      ]
     },
     "execution_count": 62,
     "metadata": {},
     "output_type": "execute_result"
    }
   ],
   "source": [
    "# Create a selector object that will use the random forest classifier to identify\n",
    "# features that have an importance of more than 0.013\n",
    "sfm = SelectFromModel(RandomF_reg, threshold=0.013)\n",
    "\n",
    "# Train the selector\n",
    "sfm.fit(X_train, y_train)"
   ]
  },
  {
   "cell_type": "code",
   "execution_count": 63,
   "metadata": {},
   "outputs": [],
   "source": [
    "# Transform the data to create a new dataset containing only the most important features\n",
    "# Note: We have to apply the transform to both the training X and test X data.\n",
    "X_important_train = sfm.transform(X_train)\n",
    "X_important_test = sfm.transform(X_test)\n",
    "X_important_validate = sfm.transform(X_validate)"
   ]
  },
  {
   "cell_type": "code",
   "execution_count": 64,
   "metadata": {},
   "outputs": [],
   "source": [
    "# create a random forest regressor using only important features \n",
    "RF_important_reg = RandomForestRegressor(n_estimators= 71, random_state = 10)\n",
    "RF_important_model = RF_important_reg.fit(X_important_train, y_train)"
   ]
  },
  {
   "cell_type": "code",
   "execution_count": 65,
   "metadata": {},
   "outputs": [
    {
     "data": {
      "image/png": "[encoded data removed]",
      "text/plain": [
       "<Figure size 432x288 with 1 Axes>"
      ]
     },
     "metadata": {},
     "output_type": "display_data"
    }
   ],
   "source": [
    "plt.figure()\n",
    "plt.title(\"Feature importances\")\n",
    "plt.bar(range(X.shape[1]), importances[indices],\n",
    "        color=\"r\", yerr=std[indices], align=\"center\", width=.8)\n",
    "plt.xticks(range(X.shape[1]), indices)\n",
    "plt.xlim([-1, X.shape[1]])\n",
    "plt.show()"
   ]
  },
  {
   "cell_type": "code",
   "execution_count": 66,
   "metadata": {},
   "outputs": [
    {
     "data": {
      "image/png": "[encoded data removed]",
      "text/plain": [
       "<Figure size 432x288 with 1 Axes>"
      ]
     },
     "metadata": {},
     "output_type": "display_data"
    }
   ],
   "source": [
    "# use the model to make predictions using important features\n",
    "RF_important_pred = RF_important_model.predict(X_important_validate)\n",
    "\n",
    "# plot the predictions\n",
    "plt.scatter(y_validate, RF_important_pred)\n",
    "plt.title('Random Forest Model')\n",
    "plt.xlabel('actual values')\n",
    "plt.ylabel('predicted values')\n",
    "plt.show()"
   ]
  },
  {
   "cell_type": "code",
   "execution_count": 67,
   "metadata": {},
   "outputs": [
    {
     "data": {
      "text/plain": [
       "0.019891088921405828"
      ]
     },
     "execution_count": 67,
     "metadata": {},
     "output_type": "execute_result"
    }
   ],
   "source": [
    "#calculate the rmse for the Random Forest model\n",
    "rmse(RF_important_pred, y_validate)"
   ]
  },
  {
   "cell_type": "code",
   "execution_count": 85,
   "metadata": {},
   "outputs": [
    {
     "name": "stderr",
     "output_type": "stream",
     "text": [
      "/opt/anaconda3/lib/python3.8/site-packages/sklearn/model_selection/_search.py:847: FutureWarning: The parameter 'iid' is deprecated in 0.22 and will be removed in 0.24.\n",
      "  warnings.warn(\n"
     ]
    },
    {
     "name": "stdout",
     "output_type": "stream",
     "text": [
      "{'max_features': 'auto'}\n",
      "Best CV R^2: 0.40168911345452757\n",
      "Validation R^2: 0.48973578092160963\n",
      "Validation RMSE 0.019891088921405828\n"
     ]
    }
   ],
   "source": [
    "#Hyperparameter tuning with important features \n",
    "\n",
    "param_grid = {'max_features': ['auto', 'sqrt']}\n",
    "\n",
    "RandomF_grid_reg = GridSearchCV(RandomF_reg, param_grid, cv=3, iid=False)\n",
    "RandomF_grid_reg.fit(X_important_train, y_train)\n",
    "\n",
    "best_index = np.argmax(RandomF_grid_reg.cv_results_[\"mean_test_score\"])\n",
    "best_RandomF_pred = RandomF_grid_reg.best_estimator_.predict(X_important_validate)\n",
    "\n",
    "print(RandomF_grid_reg.cv_results_[\"params\"][best_index])\n",
    "print('Best CV R^2:', max(RandomF_grid_reg.cv_results_[\"mean_test_score\"]))\n",
    "print('Validation R^2:', RandomF_grid_reg.score(X_important_validate, y_validate))\n",
    "print('Validation RMSE', rmse(best_RandomF_pred, y_validate))"
   ]
  },
  {
   "cell_type": "code",
   "execution_count": 69,
   "metadata": {},
   "outputs": [
    {
     "name": "stdout",
     "output_type": "stream",
     "text": [
      "Test set rmse:  0.023721490004420615\n"
     ]
    }
   ],
   "source": [
    "# make predictions for the test set using Random Forest Model\n",
    "final_pred = RandomF_grid_reg.predict(X_important_test)\n",
    "# calculate the rmse for the final predictions\n",
    "print('Test set rmse: ', rmse(final_pred, y_test))"
   ]
  },
  {
   "cell_type": "markdown",
   "metadata": {},
   "source": [
    "# 6. Cross Validation"
   ]
  },
  {
   "cell_type": "markdown",
   "metadata": {},
   "source": [
    "First, we need to binarize the \"Diabetes Proportion\" column to perform CV and to plot a confusion matrix"
   ]
  },
  {
   "cell_type": "code",
   "execution_count": 70,
   "metadata": {},
   "outputs": [
    {
     "data": {
      "text/plain": [
       "count    3220.000000\n",
       "mean        0.093783\n",
       "std         0.028551\n",
       "min         0.000000\n",
       "25%         0.072570\n",
       "50%         0.090205\n",
       "75%         0.112038\n",
       "max         0.224208\n",
       "Name: Diabetes_Proportion, dtype: float64"
      ]
     },
     "execution_count": 70,
     "metadata": {},
     "output_type": "execute_result"
    }
   ],
   "source": [
    "desc = db2[\"Diabetes_Proportion\"].describe() \n",
    "desc"
   ]
  },
  {
   "cell_type": "markdown",
   "metadata": {},
   "source": [
    "We see that .112038 makes up 75% of the distribution. Therefore, we can take all the counties above this threshold and label them as 1 and the ones below this threshold as 0"
   ]
  },
  {
   "cell_type": "code",
   "execution_count": 71,
   "metadata": {},
   "outputs": [
    {
     "data": {
      "text/html": [
       "<div>\n",
       "<style scoped>\n",
       "    .dataframe tbody tr th:only-of-type {\n",
       "        vertical-align: middle;\n",
       "    }\n",
       "\n",
       "    .dataframe tbody tr th {\n",
       "        vertical-align: top;\n",
       "    }\n",
       "\n",
       "    .dataframe thead th {\n",
       "        text-align: right;\n",
       "    }\n",
       "</style>\n",
       "<table border=\"1\" class=\"dataframe\">\n",
       "  <thead>\n",
       "    <tr style=\"text-align: right;\">\n",
       "      <th></th>\n",
       "      <th>CountyFIPS</th>\n",
       "      <th>Diabetes_Number</th>\n",
       "      <th>Diabetes_Proportion</th>\n",
       "      <th>Obesity_Number</th>\n",
       "      <th>Physical_Inactivity_Number</th>\n",
       "      <th>race_total population</th>\n",
       "      <th>race_total population_one race</th>\n",
       "      <th>race_total population_two or more races</th>\n",
       "      <th>race_total population_one race_1</th>\n",
       "      <th>race_total population_one race_white</th>\n",
       "      <th>...</th>\n",
       "      <th>sex and age_total population_20 to 24 years</th>\n",
       "      <th>sex and age_total population_25 to 34 years</th>\n",
       "      <th>sex and age_total population_35 to 44 years</th>\n",
       "      <th>sex and age_total population_45 to 54 years</th>\n",
       "      <th>sex and age_total population_55 to 59 years</th>\n",
       "      <th>sex and age_total population_60 to 64 years</th>\n",
       "      <th>sex and age_total population_65 to 74 years</th>\n",
       "      <th>sex and age_total population_75 to 84 years</th>\n",
       "      <th>sex and age_total population_85 years and over</th>\n",
       "      <th>Diabetes_Binarizer</th>\n",
       "    </tr>\n",
       "  </thead>\n",
       "  <tbody>\n",
       "    <tr>\n",
       "      <th>0</th>\n",
       "      <td>1001</td>\n",
       "      <td>5178</td>\n",
       "      <td>0.093804</td>\n",
       "      <td>13489</td>\n",
       "      <td>12525</td>\n",
       "      <td>55200</td>\n",
       "      <td>54170</td>\n",
       "      <td>1030</td>\n",
       "      <td>54170</td>\n",
       "      <td>42437</td>\n",
       "      <td>...</td>\n",
       "      <td>3337</td>\n",
       "      <td>7064</td>\n",
       "      <td>7374</td>\n",
       "      <td>7853</td>\n",
       "      <td>4131</td>\n",
       "      <td>2694</td>\n",
       "      <td>4711</td>\n",
       "      <td>2524</td>\n",
       "      <td>815</td>\n",
       "      <td>0</td>\n",
       "    </tr>\n",
       "    <tr>\n",
       "      <th>1</th>\n",
       "      <td>1003</td>\n",
       "      <td>16707</td>\n",
       "      <td>0.080281</td>\n",
       "      <td>48542</td>\n",
       "      <td>40024</td>\n",
       "      <td>208107</td>\n",
       "      <td>204535</td>\n",
       "      <td>3572</td>\n",
       "      <td>204535</td>\n",
       "      <td>179526</td>\n",
       "      <td>...</td>\n",
       "      <td>10790</td>\n",
       "      <td>23326</td>\n",
       "      <td>25377</td>\n",
       "      <td>28330</td>\n",
       "      <td>14440</td>\n",
       "      <td>14851</td>\n",
       "      <td>24551</td>\n",
       "      <td>12165</td>\n",
       "      <td>3949</td>\n",
       "      <td>0</td>\n",
       "    </tr>\n",
       "    <tr>\n",
       "      <th>2</th>\n",
       "      <td>1005</td>\n",
       "      <td>3400</td>\n",
       "      <td>0.131875</td>\n",
       "      <td>8009</td>\n",
       "      <td>5431</td>\n",
       "      <td>25782</td>\n",
       "      <td>25429</td>\n",
       "      <td>353</td>\n",
       "      <td>25429</td>\n",
       "      <td>12216</td>\n",
       "      <td>...</td>\n",
       "      <td>1658</td>\n",
       "      <td>3675</td>\n",
       "      <td>3104</td>\n",
       "      <td>3452</td>\n",
       "      <td>1657</td>\n",
       "      <td>1651</td>\n",
       "      <td>2820</td>\n",
       "      <td>1392</td>\n",
       "      <td>422</td>\n",
       "      <td>1</td>\n",
       "    </tr>\n",
       "    <tr>\n",
       "      <th>3</th>\n",
       "      <td>1007</td>\n",
       "      <td>2371</td>\n",
       "      <td>0.105251</td>\n",
       "      <td>6534</td>\n",
       "      <td>5827</td>\n",
       "      <td>22527</td>\n",
       "      <td>22340</td>\n",
       "      <td>187</td>\n",
       "      <td>22340</td>\n",
       "      <td>17268</td>\n",
       "      <td>...</td>\n",
       "      <td>1491</td>\n",
       "      <td>3075</td>\n",
       "      <td>2895</td>\n",
       "      <td>3439</td>\n",
       "      <td>1494</td>\n",
       "      <td>1216</td>\n",
       "      <td>2122</td>\n",
       "      <td>1112</td>\n",
       "      <td>427</td>\n",
       "      <td>0</td>\n",
       "    </tr>\n",
       "    <tr>\n",
       "      <th>4</th>\n",
       "      <td>1009</td>\n",
       "      <td>6282</td>\n",
       "      <td>0.108977</td>\n",
       "      <td>14227</td>\n",
       "      <td>14365</td>\n",
       "      <td>57645</td>\n",
       "      <td>56710</td>\n",
       "      <td>935</td>\n",
       "      <td>56710</td>\n",
       "      <td>55054</td>\n",
       "      <td>...</td>\n",
       "      <td>3189</td>\n",
       "      <td>6786</td>\n",
       "      <td>7153</td>\n",
       "      <td>7947</td>\n",
       "      <td>3895</td>\n",
       "      <td>3613</td>\n",
       "      <td>6132</td>\n",
       "      <td>3235</td>\n",
       "      <td>866</td>\n",
       "      <td>0</td>\n",
       "    </tr>\n",
       "  </tbody>\n",
       "</table>\n",
       "<p>5 rows × 75 columns</p>\n",
       "</div>"
      ],
      "text/plain": [
       "   CountyFIPS  Diabetes_Number  Diabetes_Proportion  Obesity_Number  \\\n",
       "0        1001             5178             0.093804           13489   \n",
       "1        1003            16707             0.080281           48542   \n",
       "2        1005             3400             0.131875            8009   \n",
       "3        1007             2371             0.105251            6534   \n",
       "4        1009             6282             0.108977           14227   \n",
       "\n",
       "   Physical_Inactivity_Number  race_total population  \\\n",
       "0                       12525                  55200   \n",
       "1                       40024                 208107   \n",
       "2                        5431                  25782   \n",
       "3                        5827                  22527   \n",
       "4                       14365                  57645   \n",
       "\n",
       "   race_total population_one race  race_total population_two or more races  \\\n",
       "0                           54170                                     1030   \n",
       "1                          204535                                     3572   \n",
       "2                           25429                                      353   \n",
       "3                           22340                                      187   \n",
       "4                           56710                                      935   \n",
       "\n",
       "   race_total population_one race_1  race_total population_one race_white  \\\n",
       "0                             54170                                 42437   \n",
       "1                            204535                                179526   \n",
       "2                             25429                                 12216   \n",
       "3                             22340                                 17268   \n",
       "4                             56710                                 55054   \n",
       "\n",
       "   ...  sex and age_total population_20 to 24 years  \\\n",
       "0  ...                                         3337   \n",
       "1  ...                                        10790   \n",
       "2  ...                                         1658   \n",
       "3  ...                                         1491   \n",
       "4  ...                                         3189   \n",
       "\n",
       "   sex and age_total population_25 to 34 years  \\\n",
       "0                                         7064   \n",
       "1                                        23326   \n",
       "2                                         3675   \n",
       "3                                         3075   \n",
       "4                                         6786   \n",
       "\n",
       "   sex and age_total population_35 to 44 years  \\\n",
       "0                                         7374   \n",
       "1                                        25377   \n",
       "2                                         3104   \n",
       "3                                         2895   \n",
       "4                                         7153   \n",
       "\n",
       "   sex and age_total population_45 to 54 years  \\\n",
       "0                                         7853   \n",
       "1                                        28330   \n",
       "2                                         3452   \n",
       "3                                         3439   \n",
       "4                                         7947   \n",
       "\n",
       "   sex and age_total population_55 to 59 years  \\\n",
       "0                                         4131   \n",
       "1                                        14440   \n",
       "2                                         1657   \n",
       "3                                         1494   \n",
       "4                                         3895   \n",
       "\n",
       "   sex and age_total population_60 to 64 years  \\\n",
       "0                                         2694   \n",
       "1                                        14851   \n",
       "2                                         1651   \n",
       "3                                         1216   \n",
       "4                                         3613   \n",
       "\n",
       "   sex and age_total population_65 to 74 years  \\\n",
       "0                                         4711   \n",
       "1                                        24551   \n",
       "2                                         2820   \n",
       "3                                         2122   \n",
       "4                                         6132   \n",
       "\n",
       "   sex and age_total population_75 to 84 years  \\\n",
       "0                                         2524   \n",
       "1                                        12165   \n",
       "2                                         1392   \n",
       "3                                         1112   \n",
       "4                                         3235   \n",
       "\n",
       "   sex and age_total population_85 years and over  Diabetes_Binarizer  \n",
       "0                                             815                   0  \n",
       "1                                            3949                   0  \n",
       "2                                             422                   1  \n",
       "3                                             427                   0  \n",
       "4                                             866                   0  \n",
       "\n",
       "[5 rows x 75 columns]"
      ]
     },
     "execution_count": 71,
     "metadata": {},
     "output_type": "execute_result"
    }
   ],
   "source": [
    "conditions = [\n",
    "    (db2['Diabetes_Proportion'] >= 0.112038),\n",
    "    (db2['Diabetes_Proportion'] < 0.112038),\n",
    "    ]\n",
    "values = ['1', '0']\n",
    "db2['Diabetes_Binarizer'] = np.select(conditions,values)\n",
    "\n",
    "db2.head()"
   ]
  },
  {
   "cell_type": "code",
   "execution_count": 72,
   "metadata": {},
   "outputs": [],
   "source": [
    "#Feature used to predict diabetes_Binarizer\n",
    "X2 = db2.drop(['Diabetes_Proportion', 'Diabetes_Number', 'Obesity_Number', 'Diabetes_Binarizer'], axis = 1)\n",
    "\n",
    "#Proportion of diabetes by county \n",
    "y2 = db2['Diabetes_Binarizer']\n"
   ]
  },
  {
   "cell_type": "markdown",
   "metadata": {},
   "source": [
    "Now we will create a new set of training, validation and test sets to do cross validation since we are changing \"Y\" to \"Diabetes_Binarizer\" "
   ]
  },
  {
   "cell_type": "code",
   "execution_count": 73,
   "metadata": {},
   "outputs": [],
   "source": [
    "# set the random seed\n",
    "np.random.seed(10)\n",
    "\n",
    "# split the data\n",
    "# train_test_split returns 4 values: X2_train, X2_test, y2_train, y2_test\n",
    "\n",
    "X2_train, X2_test, y2_train, y2_test = train_test_split(X2, y2,\n",
    "                                                    train_size=0.80, test_size=0.20)"
   ]
  },
  {
   "cell_type": "markdown",
   "metadata": {},
   "source": [
    "Validation Set"
   ]
  },
  {
   "cell_type": "code",
   "execution_count": 74,
   "metadata": {},
   "outputs": [],
   "source": [
    "# split the data\n",
    "# Returns 4 values: X_train, X_validate, y_train, y_validate\n",
    "\n",
    "X2_train, X2_validate, y2_train, y2_validate = train_test_split(X2_train, y2_train,\n",
    "                                                    train_size=0.75, test_size=0.25)"
   ]
  },
  {
   "cell_type": "markdown",
   "metadata": {},
   "source": [
    "Now let's create and fit the model"
   ]
  },
  {
   "cell_type": "code",
   "execution_count": 75,
   "metadata": {},
   "outputs": [],
   "source": [
    "# create and fit the model\n",
    "RF_reg = RandomForestClassifier(n_estimators= 71, random_state = 10)\n",
    "RF_model = RF_reg.fit(X2_train, y2_train)"
   ]
  },
  {
   "cell_type": "markdown",
   "metadata": {},
   "source": [
    "Now, I want to create a selector object that will use the random forest classifier to identify features that have an importance of more than 0.013"
   ]
  },
  {
   "cell_type": "code",
   "execution_count": 77,
   "metadata": {},
   "outputs": [
    {
     "data": {
      "image/png": "[encoded data removed]",
      "text/plain": [
       "<Figure size 720x504 with 2 Axes>"
      ]
     },
     "metadata": {},
     "output_type": "display_data"
    }
   ],
   "source": [
    "from sklearn.model_selection import cross_val_score\n",
    "from sklearn.model_selection import cross_val_predict\n",
    "from sklearn.metrics import confusion_matrix\n",
    "\n",
    "\n",
    "RF_pred = cross_val_predict(RF_reg, X2, y2, cv = 3)\n",
    "\n",
    "cf_matrix = confusion_matrix(y2,RF_pred, normalize = \"true\")\n",
    "\n",
    "df_cm = pd.DataFrame(cf_matrix, range(2),\n",
    "              range(2))\n",
    "\n",
    "df_cm = df_cm.rename(index=str, columns={0: \"<.1120\", 1: \">=.1120\"})\n",
    "df_cm.index = [\"<.1120\", \">=.1120\"]\n",
    "plt.figure(figsize = (10,7))\n",
    "sns.set(font_scale=1.4)#for label size\n",
    "sns.heatmap(df_cm, \n",
    "           annot=True,\n",
    "           annot_kws={\"size\": 16},\n",
    "           fmt='g')\n",
    "\n",
    "plt.title(\"Confusion Matrix\")\n",
    "plt.xlabel(\"Predicted Label\")\n",
    "plt.ylabel(\"True Label\")\n",
    "plt.show()"
   ]
  },
  {
   "cell_type": "markdown",
   "metadata": {},
   "source": [
    "# Discussion Questions \n",
    "\n",
    "Bias-Variance Tradeoff\n",
    "\n",
    "The bias-variance tradeoff is a particularly important dimension because, as discussed above in our justification for our selection of models, some models trade variance for bias and some models trade bias for variance. In the machine learing context, variance refers to how much the estimated outcome will change from sensitivity to fluctuations in the training set. In other words, how much does the outcome fluctuate. The bias stems from the assumptions made about the about the target function in the training process. In other words, bias is introduced when there is limited flexibility in learning the true target function in a dataset. In an ML context, we want to be able to model our data and do so with a model that reduces both of these errors, in the above examples we include model that try to account for both of these biases. \n",
    "\n",
    "In terms of choosing the best model, we selected the best model by seeing how each model performed in terms of its RMSE. We are able to compare each model to each other in terms of their RMSE because each of the 5 models we used made use of extended versions of Ordinary Least Squares with more flexible conditions. With these regualirization methods, we are basically able to extend OLS by imposing constraints on the coefficients. \n",
    "\n",
    "\n",
    "Overfitting is the process of training your model really well in a way that's specific to your training data but that ultimately results in not being able to effectively predict outcomes on test data. The textbook points to the fact that part of the issue stems from following the errors (or the noise) too closely. \n",
    "\n",
    "Analysis: \n",
    "\n",
    "For regression models in Machine Learning, the RMSE is a great way to estimate and compare the performance of different learning models. Against our expectations, we found that the random forest model had the lowest RMSE among all the models that we used. Lasso, Elastic Net, and Ridge Regression performed relatively well in terms of having a low RMSE using the same training data. OLS did arguably the worst in prediction. As an initial step in our analysis, we decided that it would make sense to divy up the number of people with diabetes by the total population. Conveniently, we found that in the Census data, race_total_population gives you the same number for the total population. \n",
    "\n",
    "From our random forest perspective, we can have a pretty good idea that white folks (feature 7) are likely to be represented in terms of accounting a large part of the diabetes proportion in a county. From this same model, we find that features 30 and 36 are among the top three most important. Feature 30 corresponds to folks who identify as both Asian and white and feature 36 corresponds to people who identify as Asian. Identifying or coming up with critical explanations of why this is the case would be an important next step. The fourth mose important feature was feature 1, which corresponds to physical_inactivity_number, which makes sense in a diabetes context that having diabetes and being physical inactive are correlated. \n",
    "\n",
    "In our cross-validation analysis, it seems like the test data and the training data performed well or well enough to be considered decent ways to model this data. In fact, the RMSE on the training data for Random Forest trees is actually smaller than what it was on the training data. We think that this is promising. Althought the data seems to fit a general linear there is some spread between the actual and predicted values that give us pause in considering this an effective model for mapping out patterns in the real world. Thus, we are uncertain that this would be a good assessment for policymakers to use and would prefer to make sure we can cross-validate by looking at literature that asesses these sorts of problems. "
   ]
  }
 ],
 "metadata": {
  "kernelspec": {
   "display_name": "Python 3",
   "language": "python",
   "name": "python3"
  },
  "language_info": {
   "codemirror_mode": {
    "name": "ipython",
    "version": 3
   },
   "file_extension": ".py",
   "mimetype": "text/x-python",
   "name": "python",
   "nbconvert_exporter": "python",
   "pygments_lexer": "ipython3",
   "version": "3.8.3"
  }
 },
 "nbformat": 4,
 "nbformat_minor": 2
}
